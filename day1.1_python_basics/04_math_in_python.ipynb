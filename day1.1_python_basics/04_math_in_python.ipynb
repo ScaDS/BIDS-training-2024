{
 "cells": [
  {
   "metadata": {},
   "cell_type": "markdown",
   "source": [
    "# Basic math in Python\n",
    "With our understanding of variables, methods, and functions, we'll have a look at how to do some basic math in Python.\n",
    "\n",
    "First, we define the variables `a` and 'b' again and assign the values `5` and `3`:"
   ],
   "id": "6f8f174b93ff767d"
  },
  {
   "metadata": {
    "ExecuteTime": {
     "end_time": "2024-04-11T10:42:16.933108Z",
     "start_time": "2024-04-11T10:42:16.929038Z"
    }
   },
   "cell_type": "code",
   "source": [
    "a = 5\n",
    "b = 3"
   ],
   "id": "17cd89b8e2251c4e",
   "outputs": [],
   "execution_count": 1
  },
  {
   "metadata": {},
   "cell_type": "markdown",
   "source": "Like already shown in `02_basic_terms_and_types`, we can reuse the variables, for example, to print their and add more information using an f-string:",
   "id": "d9ff769c3515fc2d"
  },
  {
   "metadata": {
    "ExecuteTime": {
     "end_time": "2024-04-11T10:42:16.936298Z",
     "start_time": "2024-04-11T10:42:16.934263Z"
    }
   },
   "cell_type": "code",
   "source": "print(f\"The area is {a} mm^2\")",
   "id": "e3cc8e56c4d91e5b",
   "outputs": [
    {
     "name": "stdout",
     "output_type": "stream",
     "text": [
      "The area is 5 mm^2\n"
     ]
    }
   ],
   "execution_count": 2
  },
  {
   "metadata": {},
   "cell_type": "markdown",
   "source": [
    "## Usage of mathematical operators and built-in functions\n",
    "To do math with variables, we can combine them with mathematical operators.\n",
    "\n",
    "Also see the [available operators in Python](https://docs.python.org/3/library/operator.html#mapping-operators-to-functions)."
   ],
   "id": "edae8db1de4fba9e"
  },
  {
   "metadata": {
    "ExecuteTime": {
     "end_time": "2024-04-11T10:42:16.938874Z",
     "start_time": "2024-04-11T10:42:16.937066Z"
    }
   },
   "cell_type": "code",
   "source": [
    "c = a + b # add\n",
    "d = a - b # subtract\n",
    "e = a * b # multiply\n",
    "f = a ** b # exponent\n",
    "g = a / b # divide\n",
    "h = a // b # rounding division\n",
    "i = a % b # modulo"
   ],
   "id": "1a5315cf450b9ff7",
   "outputs": [],
   "execution_count": 3
  },
  {
   "metadata": {
    "ExecuteTime": {
     "end_time": "2024-04-11T10:42:16.941022Z",
     "start_time": "2024-04-11T10:42:16.939410Z"
    }
   },
   "cell_type": "code",
   "source": "print(f)",
   "id": "4129b5ca44594508",
   "outputs": [
    {
     "name": "stdout",
     "output_type": "stream",
     "text": [
      "125\n"
     ]
    }
   ],
   "execution_count": 4
  },
  {
   "metadata": {},
   "cell_type": "markdown",
   "source": "We can also use [built-in functions](https://docs.python.org/3/library/functions.html) for math:",
   "id": "dbb3d97eb581507c"
  },
  {
   "metadata": {
    "ExecuteTime": {
     "end_time": "2024-04-11T10:42:16.945256Z",
     "start_time": "2024-04-11T10:42:16.942110Z"
    }
   },
   "cell_type": "code",
   "source": "pow(a, b)",
   "id": "96e6b4165ceb2eb4",
   "outputs": [
    {
     "data": {
      "text/plain": [
       "125"
      ]
     },
     "execution_count": 5,
     "metadata": {},
     "output_type": "execute_result"
    }
   ],
   "execution_count": 5
  },
  {
   "metadata": {
    "ExecuteTime": {
     "end_time": "2024-04-11T10:42:16.947903Z",
     "start_time": "2024-04-11T10:42:16.945944Z"
    }
   },
   "cell_type": "code",
   "source": "abs(-1)",
   "id": "2972e9a70a52cdf9",
   "outputs": [
    {
     "data": {
      "text/plain": [
       "1"
      ]
     },
     "execution_count": 6,
     "metadata": {},
     "output_type": "execute_result"
    }
   ],
   "execution_count": 6
  },
  {
   "metadata": {
    "ExecuteTime": {
     "end_time": "2024-04-11T10:42:16.950943Z",
     "start_time": "2024-04-11T10:42:16.948827Z"
    }
   },
   "cell_type": "code",
   "source": "round(1.6)",
   "id": "e48103b7cfeb592c",
   "outputs": [
    {
     "data": {
      "text/plain": [
       "2"
      ]
     },
     "execution_count": 7,
     "metadata": {},
     "output_type": "execute_result"
    }
   ],
   "execution_count": 7
  },
  {
   "metadata": {},
   "cell_type": "markdown",
   "source": "Sometimes, functions may behave unexpected:",
   "id": "5a26ca4de2b40667"
  },
  {
   "metadata": {
    "ExecuteTime": {
     "end_time": "2024-04-11T10:42:16.953450Z",
     "start_time": "2024-04-11T10:42:16.951442Z"
    }
   },
   "cell_type": "code",
   "source": "round(4.5)",
   "id": "f35bea256ce6f885",
   "outputs": [
    {
     "data": {
      "text/plain": [
       "4"
      ]
     },
     "execution_count": 8,
     "metadata": {},
     "output_type": "execute_result"
    }
   ],
   "execution_count": 8
  },
  {
   "metadata": {
    "ExecuteTime": {
     "end_time": "2024-04-11T10:42:16.965908Z",
     "start_time": "2024-04-11T10:42:16.963864Z"
    }
   },
   "cell_type": "code",
   "source": "round(5.5)",
   "id": "94efae8d9b403b9a",
   "outputs": [
    {
     "data": {
      "text/plain": [
       "6"
      ]
     },
     "execution_count": 9,
     "metadata": {},
     "output_type": "execute_result"
    }
   ],
   "execution_count": 9
  },
  {
   "metadata": {
    "ExecuteTime": {
     "end_time": "2024-04-11T10:42:16.968643Z",
     "start_time": "2024-04-11T10:42:16.966888Z"
    }
   },
   "cell_type": "code",
   "source": "round(6.5)",
   "id": "675f9c3b108f8712",
   "outputs": [
    {
     "data": {
      "text/plain": [
       "6"
      ]
     },
     "execution_count": 10,
     "metadata": {},
     "output_type": "execute_result"
    }
   ],
   "execution_count": 10
  },
  {
   "metadata": {
    "ExecuteTime": {
     "end_time": "2024-04-11T10:42:16.981960Z",
     "start_time": "2024-04-11T10:42:16.979973Z"
    }
   },
   "cell_type": "code",
   "source": "round(7.5)",
   "id": "b7d8c5c963e46418",
   "outputs": [
    {
     "data": {
      "text/plain": [
       "8"
      ]
     },
     "execution_count": 11,
     "metadata": {},
     "output_type": "execute_result"
    }
   ],
   "execution_count": 11
  },
  {
   "metadata": {},
   "cell_type": "markdown",
   "source": "So always test those functions before productive use and refer to the [official docs](https://docs.python.org/3/library/functions.html#round)",
   "id": "63c97a8e0117c562"
  },
  {
   "metadata": {},
   "cell_type": "markdown",
   "source": [
    "## Usage of modules\n",
    "Modules can be used for additional mathematical functionalities, e.g., the [math module](https://docs.python.org/3/library/math.html) or the [statistics module](https://docs.python.org/3/library/statistics.html). To do so, they need to be imported before:\n"
   ],
   "id": "7a6b7989c02b9867"
  },
  {
   "metadata": {
    "ExecuteTime": {
     "end_time": "2024-04-11T10:42:16.990686Z",
     "start_time": "2024-04-11T10:42:16.983036Z"
    }
   },
   "cell_type": "code",
   "source": [
    "import math\n",
    "import statistics"
   ],
   "id": "36f2174175760523",
   "outputs": [],
   "execution_count": 12
  },
  {
   "metadata": {
    "ExecuteTime": {
     "end_time": "2024-04-11T10:42:16.993682Z",
     "start_time": "2024-04-11T10:42:16.991564Z"
    }
   },
   "cell_type": "code",
   "source": "math.ceil(6.5)",
   "id": "947ad801aca3eb9a",
   "outputs": [
    {
     "data": {
      "text/plain": [
       "7"
      ]
     },
     "execution_count": 13,
     "metadata": {},
     "output_type": "execute_result"
    }
   ],
   "execution_count": 13
  },
  {
   "metadata": {
    "ExecuteTime": {
     "end_time": "2024-04-11T10:42:16.999305Z",
     "start_time": "2024-04-11T10:42:16.997323Z"
    }
   },
   "cell_type": "code",
   "source": "math.sqrt(9)",
   "id": "b789eb15fb695c7b",
   "outputs": [
    {
     "data": {
      "text/plain": [
       "3.0"
      ]
     },
     "execution_count": 14,
     "metadata": {},
     "output_type": "execute_result"
    }
   ],
   "execution_count": 14
  },
  {
   "metadata": {
    "ExecuteTime": {
     "end_time": "2024-04-11T10:42:17.002089Z",
     "start_time": "2024-04-11T10:42:17.000144Z"
    }
   },
   "cell_type": "code",
   "source": "math.pi",
   "id": "be57de0f4c61f28d",
   "outputs": [
    {
     "data": {
      "text/plain": [
       "3.141592653589793"
      ]
     },
     "execution_count": 15,
     "metadata": {},
     "output_type": "execute_result"
    }
   ],
   "execution_count": 15
  },
  {
   "metadata": {
    "ExecuteTime": {
     "end_time": "2024-04-11T10:42:17.004318Z",
     "start_time": "2024-04-11T10:42:17.002845Z"
    }
   },
   "cell_type": "code",
   "source": "data = [3, 5, 1, 7, 2, 1]",
   "id": "e594fe2f14a228aa",
   "outputs": [],
   "execution_count": 16
  },
  {
   "metadata": {
    "ExecuteTime": {
     "end_time": "2024-04-11T10:42:17.007255Z",
     "start_time": "2024-04-11T10:42:17.005111Z"
    }
   },
   "cell_type": "code",
   "source": "statistics.mean(data)",
   "id": "3f8565e8d05d8972",
   "outputs": [
    {
     "data": {
      "text/plain": [
       "3.1666666666666665"
      ]
     },
     "execution_count": 17,
     "metadata": {},
     "output_type": "execute_result"
    }
   ],
   "execution_count": 17
  },
  {
   "metadata": {
    "ExecuteTime": {
     "end_time": "2024-04-11T10:42:17.010554Z",
     "start_time": "2024-04-11T10:42:17.008738Z"
    }
   },
   "cell_type": "code",
   "source": "statistics.mode(data)",
   "id": "4cf0322ed7515b8f",
   "outputs": [
    {
     "data": {
      "text/plain": [
       "1"
      ]
     },
     "execution_count": 18,
     "metadata": {},
     "output_type": "execute_result"
    }
   ],
   "execution_count": 18
  }
 ],
 "metadata": {
  "kernelspec": {
   "display_name": "Python 3",
   "language": "python",
   "name": "python3"
  },
  "language_info": {
   "codemirror_mode": {
    "name": "ipython",
    "version": 2
   },
   "file_extension": ".py",
   "mimetype": "text/x-python",
   "name": "python",
   "nbconvert_exporter": "python",
   "pygments_lexer": "ipython2",
   "version": "2.7.6"
  }
 },
 "nbformat": 4,
 "nbformat_minor": 5
}
