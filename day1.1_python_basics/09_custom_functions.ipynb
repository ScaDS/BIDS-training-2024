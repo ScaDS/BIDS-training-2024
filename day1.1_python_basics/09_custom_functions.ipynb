{
 "cells": [
  {
   "metadata": {},
   "cell_type": "markdown",
   "source": [
    "# Custom Functions\n",
    "\n",
    "We have used built-in functions in past lessons. Functions have a name and parameters. Some of them return a result, others don't. We typically call them using `result = name(parameters)`.\n",
    "\n",
    "See also\n",
    "* [Python functions](https://www.w3schools.com/python/python_functions.asp)\n",
    "* [List of built-in functions](https://docs.python.org/3/library/functions.html#built-in-functions)\n",
    "\n",
    "Let's take a look at some functions, for example, `print(text)` and `pow(x, y)`. The print function takes a parameter (or multiple parameters) and returns nothing:"
   ],
   "id": "f861dfe70efc4e97"
  },
  {
   "metadata": {
    "ExecuteTime": {
     "end_time": "2024-04-11T10:44:36.095214Z",
     "start_time": "2024-04-11T10:44:36.090397Z"
    }
   },
   "cell_type": "code",
   "source": "result = print('Hello world')",
   "id": "143b143eff111c7a",
   "outputs": [
    {
     "name": "stdout",
     "output_type": "stream",
     "text": [
      "Hello world\n"
     ]
    }
   ],
   "execution_count": 1
  },
  {
   "metadata": {
    "ExecuteTime": {
     "end_time": "2024-04-11T10:44:36.109950Z",
     "start_time": "2024-04-11T10:44:36.108168Z"
    }
   },
   "cell_type": "code",
   "source": "result",
   "id": "a8d040386069e8d5",
   "outputs": [],
   "execution_count": 2
  },
  {
   "metadata": {},
   "cell_type": "markdown",
   "source": "The pow function has two parameters and returns a result:",
   "id": "794179ae262340f2"
  },
  {
   "metadata": {
    "ExecuteTime": {
     "end_time": "2024-04-11T10:44:36.113019Z",
     "start_time": "2024-04-11T10:44:36.110991Z"
    }
   },
   "cell_type": "code",
   "source": "result = pow(2, 3)",
   "id": "cda21ea22ff69667",
   "outputs": [],
   "execution_count": 3
  },
  {
   "metadata": {
    "ExecuteTime": {
     "end_time": "2024-04-11T10:44:36.117220Z",
     "start_time": "2024-04-11T10:44:36.113926Z"
    }
   },
   "cell_type": "code",
   "source": "result",
   "id": "d8abf0e8eb209ec7",
   "outputs": [
    {
     "data": {
      "text/plain": [
       "8"
      ]
     },
     "execution_count": 4,
     "metadata": {},
     "output_type": "execute_result"
    }
   ],
   "execution_count": 4
  },
  {
   "metadata": {},
   "cell_type": "markdown",
   "source": [
    "## Custom functions\n",
    "\n",
    "You can _DEF_ine your own functions using the `def` statement. After the `def` statement, you should specify your functions' name and in brackets its parameters. Afterward follows a colon `:` and all following lines of code which are indented are part of this function. A final `return` statement sends the result back to from where the function was called."
   ],
   "id": "45ab0f770b19e0ac"
  },
  {
   "metadata": {
    "ExecuteTime": {
     "end_time": "2024-04-11T10:44:36.124046Z",
     "start_time": "2024-04-11T10:44:36.122387Z"
    }
   },
   "cell_type": "code",
   "source": [
    "def sum_numbers(a, b):\n",
    "    result = a + b\n",
    "    return result"
   ],
   "id": "577191f031895e8f",
   "outputs": [],
   "execution_count": 5
  },
  {
   "metadata": {},
   "cell_type": "markdown",
   "source": "You can then call your function as often as you like:",
   "id": "e4d2745b7b4ed14b"
  },
  {
   "metadata": {
    "ExecuteTime": {
     "end_time": "2024-04-11T10:44:36.126856Z",
     "start_time": "2024-04-11T10:44:36.124941Z"
    }
   },
   "cell_type": "code",
   "source": "sum_numbers(3, 4)",
   "id": "428fdefb00c5d70d",
   "outputs": [
    {
     "data": {
      "text/plain": [
       "7"
      ]
     },
     "execution_count": 6,
     "metadata": {},
     "output_type": "execute_result"
    }
   ],
   "execution_count": 6
  },
  {
   "metadata": {
    "ExecuteTime": {
     "end_time": "2024-04-11T10:44:36.129714Z",
     "start_time": "2024-04-11T10:44:36.127704Z"
    }
   },
   "cell_type": "code",
   "source": "sum_numbers(5, 6)",
   "id": "6713070ef424428d",
   "outputs": [
    {
     "data": {
      "text/plain": [
       "11"
      ]
     },
     "execution_count": 7,
     "metadata": {},
     "output_type": "execute_result"
    }
   ],
   "execution_count": 7
  },
  {
   "metadata": {},
   "cell_type": "markdown",
   "source": "Sometimes, you want to save the result of your function in a variable.",
   "id": "958370607e8fd292"
  },
  {
   "metadata": {
    "ExecuteTime": {
     "end_time": "2024-04-11T10:44:36.132097Z",
     "start_time": "2024-04-11T10:44:36.130496Z"
    }
   },
   "cell_type": "code",
   "source": [
    "c = sum_numbers(4, 5)\n",
    "print(c)"
   ],
   "id": "8bf5513aa7b61664",
   "outputs": [
    {
     "name": "stdout",
     "output_type": "stream",
     "text": [
      "9\n"
     ]
    }
   ],
   "execution_count": 8
  },
  {
   "metadata": {},
   "cell_type": "markdown",
   "source": [
    "## Simplify code using reusable functions\n",
    "\n",
    "Assume you have a complicated algorithm which can tell you if a number is odd or even. Let's put this algorithm in a function and call it later on. For our algorithm, we will use the [modulo operator %](https://en.wikipedia.org/wiki/Modulo).\n",
    "\n",
    "Also see the [available operators](https://docs.python.org/3/library/operator.html#mapping-operators-to-functions).\n"
   ],
   "id": "33f0349de001a08a"
  },
  {
   "metadata": {
    "ExecuteTime": {
     "end_time": "2024-04-11T10:44:36.165044Z",
     "start_time": "2024-04-11T10:44:36.163223Z"
    }
   },
   "cell_type": "code",
   "source": [
    "def print_odd_or_even(number):\n",
    "    if number % 2 == 0:\n",
    "        print(number, \"is even\")\n",
    "    else:\n",
    "        print(number, \"is odd\")"
   ],
   "id": "46d47ad7ff180a79",
   "outputs": [],
   "execution_count": 9
  },
  {
   "metadata": {
    "ExecuteTime": {
     "end_time": "2024-04-11T10:44:36.167894Z",
     "start_time": "2024-04-11T10:44:36.166166Z"
    }
   },
   "cell_type": "code",
   "source": "print_odd_or_even(3)",
   "id": "7c0fd25e0a662c2e",
   "outputs": [
    {
     "name": "stdout",
     "output_type": "stream",
     "text": [
      "3 is odd\n"
     ]
    }
   ],
   "execution_count": 10
  },
  {
   "metadata": {
    "ExecuteTime": {
     "end_time": "2024-04-11T10:44:36.173921Z",
     "start_time": "2024-04-11T10:44:36.172118Z"
    }
   },
   "cell_type": "code",
   "source": "print_odd_or_even(10)",
   "id": "4b0f7262bbb7663c",
   "outputs": [
    {
     "name": "stdout",
     "output_type": "stream",
     "text": [
      "10 is even\n"
     ]
    }
   ],
   "execution_count": 11
  },
  {
   "metadata": {},
   "cell_type": "markdown",
   "source": "Thus, instead of writing the same `if-else` block again and again, we can just call our custom `print_odd_or_even` function.",
   "id": "390723bf85f0e2fe"
  },
  {
   "metadata": {},
   "cell_type": "markdown",
   "source": [
    "## Documenting functions\n",
    "\n",
    "You can document what a function does in its so-called doc string. The doc string follows right after the functions' header and looks like this:"
   ],
   "id": "8f52d936afea53cf"
  },
  {
   "metadata": {
    "ExecuteTime": {
     "end_time": "2024-04-11T10:44:36.190089Z",
     "start_time": "2024-04-11T10:44:36.188021Z"
    }
   },
   "cell_type": "code",
   "source": [
    "def square(number):\n",
    "    \"\"\"\n",
    "    Squares a number by multiplying it with itself and returns its result.\n",
    "    \"\"\"\n",
    "\n",
    "    return number * number"
   ],
   "id": "b5cfaa00bf49b1c9",
   "outputs": [],
   "execution_count": 12
  },
  {
   "metadata": {},
   "cell_type": "markdown",
   "source": "You can then later read the documentation of the function like this:",
   "id": "d68535c07b438d"
  },
  {
   "metadata": {
    "ExecuteTime": {
     "end_time": "2024-04-11T10:44:36.198648Z",
     "start_time": "2024-04-11T10:44:36.197017Z"
    }
   },
   "cell_type": "code",
   "source": "print(square.__doc__)",
   "id": "c107267981a90b8e",
   "outputs": [
    {
     "name": "stdout",
     "output_type": "stream",
     "text": [
      "\n",
      "    Squares a number by multiplying it with itself and returns its result.\n",
      "    \n"
     ]
    }
   ],
   "execution_count": 13
  },
  {
   "metadata": {},
   "cell_type": "markdown",
   "source": "Also try to use the `?` operator if you want to have the docstring shown as _Introspection_ side-by-side in your notebook:",
   "id": "1aab28b57db2f0e9"
  },
  {
   "metadata": {
    "ExecuteTime": {
     "end_time": "2024-04-11T10:44:36.220633Z",
     "start_time": "2024-04-11T10:44:36.199639Z"
    }
   },
   "cell_type": "code",
   "source": "square?",
   "id": "3d58f50ddb4a7b97",
   "outputs": [],
   "execution_count": 14
  },
  {
   "metadata": {},
   "cell_type": "markdown",
   "source": "By the way, you can do this with any function:",
   "id": "129d7349788f9b16"
  },
  {
   "metadata": {
    "ExecuteTime": {
     "end_time": "2024-04-11T10:44:36.223230Z",
     "start_time": "2024-04-11T10:44:36.221630Z"
    }
   },
   "cell_type": "code",
   "source": [
    "import math\n",
    "print(math.sqrt.__doc__)"
   ],
   "id": "f84519b159f37f58",
   "outputs": [
    {
     "name": "stdout",
     "output_type": "stream",
     "text": [
      "Return the square root of x.\n"
     ]
    }
   ],
   "execution_count": 15
  },
  {
   "metadata": {
    "ExecuteTime": {
     "end_time": "2024-04-11T10:44:36.225390Z",
     "start_time": "2024-04-11T10:44:36.223803Z"
    }
   },
   "cell_type": "code",
   "source": "print(math.exp.__doc__)",
   "id": "19e9c6d5e40b7536",
   "outputs": [
    {
     "name": "stdout",
     "output_type": "stream",
     "text": [
      "Return e raised to the power of x.\n"
     ]
    }
   ],
   "execution_count": 16
  },
  {
   "metadata": {},
   "cell_type": "markdown",
   "source": [
    "## Exercise\n",
    "\n",
    "Write a function that takes two parameters: `number_of_points_in_exam` and `number_of_total_points_in_exam` and returns a grade from 1 to 5. Students with > 95% of the points get grade 1, above 80% they get grade 2, above 60% grade 3 and above 50% grade 4. Students with less than 50% get grade 5 and have to repeat the exam. Then, call the function for three students who had 15, 25 and 29 points in an exam with 30 total points."
   ],
   "id": "53b2feeaf157a762"
  },
  {
   "metadata": {
    "ExecuteTime": {
     "end_time": "2024-04-11T10:44:36.227541Z",
     "start_time": "2024-04-11T10:44:36.226303Z"
    }
   },
   "cell_type": "code",
   "source": "",
   "id": "e47aeef58adeb9ae",
   "outputs": [],
   "execution_count": 16
  }
 ],
 "metadata": {
  "kernelspec": {
   "display_name": "Python 3",
   "language": "python",
   "name": "python3"
  },
  "language_info": {
   "codemirror_mode": {
    "name": "ipython",
    "version": 2
   },
   "file_extension": ".py",
   "mimetype": "text/x-python",
   "name": "python",
   "nbconvert_exporter": "python",
   "pygments_lexer": "ipython2",
   "version": "2.7.6"
  }
 },
 "nbformat": 4,
 "nbformat_minor": 5
}
