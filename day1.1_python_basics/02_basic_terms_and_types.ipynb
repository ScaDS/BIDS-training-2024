{
 "cells": [
  {
   "metadata": {},
   "cell_type": "markdown",
   "source": [
    "# Basics terms and types for Python\n",
    "For clarification and later use, let's first define some terms and explain the basic data types for the Python programming language.\n",
    "\n",
    "## Terms\n",
    "* **Variables** are containers for storing data in memory. They have a _name_ we can refer to and a _value_ which is assigned via `=`, e.g. `x = 5`.\n",
    "* **Objects** are more complex variables, which bundle data and methods to operate on the data. In Python, everything is an object.\n",
    "* **Methods** are blocks of code tied to an object (\"**m**ethod is **m**ine\") and used to perform operations on the objects' data. They are used via dot-annotation, e.g., `object.method()`.\n",
    "* **Functions** are blocks of reusable code to perform specific tasks and which are independent (\"**f**unction is **f**ree\").\n",
    "* **Modules** are files containing Python code (with, e.g., objects, functions) providing additional functionalities. They can be imported into other Python code.\n",
    "\n",
    "See also\n",
    "* [Built-in types in Python](https://docs.python.org/3/library/stdtypes.html)\n",
    "* [Basic types in Python](https://realpython.com/python-data-types/)\n",
    "* [Built-in functions in Python](https://docs.python.org/3/library/functions.html#built-in-functions)"
   ],
   "id": "1f169c42c06f00db"
  },
  {
   "metadata": {},
   "cell_type": "markdown",
   "source": [
    "## Basic types\n",
    "Variables (which are objects) in Python can hold different types of data - such as boolean values, numbers, text or more complex things.\n",
    "\n",
    "To check the type and content of such a variable, we can use the functions `type()` and `print()`."
   ],
   "id": "a744db8d84f1c432"
  },
  {
   "metadata": {},
   "cell_type": "markdown",
   "source": "### Booleans\n",
   "id": "9ccda9e7dd2f3134"
  },
  {
   "metadata": {
    "ExecuteTime": {
     "end_time": "2024-04-11T10:41:15.740031Z",
     "start_time": "2024-04-11T10:41:15.735671Z"
    }
   },
   "cell_type": "code",
   "source": "t = True",
   "id": "a96dad438a443d80",
   "outputs": [],
   "execution_count": 1
  },
  {
   "metadata": {
    "ExecuteTime": {
     "end_time": "2024-04-11T10:41:15.792512Z",
     "start_time": "2024-04-11T10:41:15.788806Z"
    }
   },
   "cell_type": "code",
   "source": "type(t)",
   "id": "f2a139c08f5318b1",
   "outputs": [
    {
     "data": {
      "text/plain": [
       "bool"
      ]
     },
     "execution_count": 2,
     "metadata": {},
     "output_type": "execute_result"
    }
   ],
   "execution_count": 2
  },
  {
   "metadata": {
    "ExecuteTime": {
     "end_time": "2024-04-11T10:41:15.802661Z",
     "start_time": "2024-04-11T10:41:15.800885Z"
    }
   },
   "cell_type": "code",
   "source": "tf = True & False",
   "id": "337929eb456d13b",
   "outputs": [],
   "execution_count": 3
  },
  {
   "metadata": {
    "ExecuteTime": {
     "end_time": "2024-04-11T10:41:15.806345Z",
     "start_time": "2024-04-11T10:41:15.804393Z"
    }
   },
   "cell_type": "code",
   "source": "type(tf)",
   "id": "cb836d088a582a0f",
   "outputs": [
    {
     "data": {
      "text/plain": [
       "bool"
      ]
     },
     "execution_count": 4,
     "metadata": {},
     "output_type": "execute_result"
    }
   ],
   "execution_count": 4
  },
  {
   "metadata": {
    "ExecuteTime": {
     "end_time": "2024-04-11T10:41:15.817155Z",
     "start_time": "2024-04-11T10:41:15.815446Z"
    }
   },
   "cell_type": "code",
   "source": "print(tf)",
   "id": "9bf6c71b4353b1e1",
   "outputs": [
    {
     "name": "stdout",
     "output_type": "stream",
     "text": [
      "False\n"
     ]
    }
   ],
   "execution_count": 5
  },
  {
   "metadata": {},
   "cell_type": "markdown",
   "source": [
    "### Numbers\n",
    "This is an integer number:"
   ],
   "id": "6cdd51cc4d3e292f"
  },
  {
   "metadata": {
    "ExecuteTime": {
     "end_time": "2024-04-11T10:41:15.852057Z",
     "start_time": "2024-04-11T10:41:15.850294Z"
    }
   },
   "cell_type": "code",
   "source": "a = 5",
   "id": "2709671632b59b12",
   "outputs": [],
   "execution_count": 6
  },
  {
   "metadata": {
    "ExecuteTime": {
     "end_time": "2024-04-11T10:41:15.855759Z",
     "start_time": "2024-04-11T10:41:15.853703Z"
    }
   },
   "cell_type": "code",
   "source": "type(a)",
   "id": "95afd2dccd7c815",
   "outputs": [
    {
     "data": {
      "text/plain": [
       "int"
      ]
     },
     "execution_count": 7,
     "metadata": {},
     "output_type": "execute_result"
    }
   ],
   "execution_count": 7
  },
  {
   "metadata": {},
   "cell_type": "markdown",
   "source": "This is a floating point number:",
   "id": "b282af07f9da876f"
  },
  {
   "metadata": {
    "ExecuteTime": {
     "end_time": "2024-04-11T10:41:15.865524Z",
     "start_time": "2024-04-11T10:41:15.864028Z"
    }
   },
   "cell_type": "code",
   "source": "b = 3.5",
   "id": "d40c4acf667b6ff0",
   "outputs": [],
   "execution_count": 8
  },
  {
   "metadata": {
    "ExecuteTime": {
     "end_time": "2024-04-11T10:41:15.869331Z",
     "start_time": "2024-04-11T10:41:15.867484Z"
    }
   },
   "cell_type": "code",
   "source": "type(b)",
   "id": "596aae2127a4bf79",
   "outputs": [
    {
     "data": {
      "text/plain": [
       "float"
      ]
     },
     "execution_count": 9,
     "metadata": {},
     "output_type": "execute_result"
    }
   ],
   "execution_count": 9
  },
  {
   "metadata": {},
   "cell_type": "markdown",
   "source": "When combining variables of different types, Python makes a decision which type the new variable should have",
   "id": "641999b4579ccd25"
  },
  {
   "metadata": {
    "ExecuteTime": {
     "end_time": "2024-04-11T10:41:15.876905Z",
     "start_time": "2024-04-11T10:41:15.875503Z"
    }
   },
   "cell_type": "code",
   "source": "c = a + b",
   "id": "b7adfa829cd65c7e",
   "outputs": [],
   "execution_count": 10
  },
  {
   "metadata": {
    "ExecuteTime": {
     "end_time": "2024-04-11T10:41:15.904226Z",
     "start_time": "2024-04-11T10:41:15.901944Z"
    }
   },
   "cell_type": "code",
   "source": "type(c)",
   "id": "9b0ca2531b8bf0a0",
   "outputs": [
    {
     "data": {
      "text/plain": [
       "float"
      ]
     },
     "execution_count": 11,
     "metadata": {},
     "output_type": "execute_result"
    }
   ],
   "execution_count": 11
  },
  {
   "metadata": {
    "ExecuteTime": {
     "end_time": "2024-04-11T10:41:15.911477Z",
     "start_time": "2024-04-11T10:41:15.909916Z"
    }
   },
   "cell_type": "code",
   "source": "print(c)",
   "id": "b5da621e32f9c696",
   "outputs": [
    {
     "name": "stdout",
     "output_type": "stream",
     "text": [
      "8.5\n"
     ]
    }
   ],
   "execution_count": 12
  },
  {
   "metadata": {},
   "cell_type": "markdown",
   "source": [
    "### Text\n",
    "Variables can also hold text. Such a text is internally stored as a so-called sequence. We call them a \"string\" in this case, and define them by surrounding the value with either single quotes ' ' or double quotes \" \":"
   ],
   "id": "4258ecb663bd7000"
  },
  {
   "metadata": {
    "ExecuteTime": {
     "end_time": "2024-04-11T10:41:15.914505Z",
     "start_time": "2024-04-11T10:41:15.912975Z"
    }
   },
   "cell_type": "code",
   "source": [
    "first_name = \"Matthias\"\n",
    "last_name = 'Täschner'"
   ],
   "id": "df483439d95f344c",
   "outputs": [],
   "execution_count": 13
  },
  {
   "metadata": {
    "ExecuteTime": {
     "end_time": "2024-04-11T10:41:15.918028Z",
     "start_time": "2024-04-11T10:41:15.916106Z"
    }
   },
   "cell_type": "code",
   "source": "type(first_name)",
   "id": "353bb115e089a729",
   "outputs": [
    {
     "data": {
      "text/plain": [
       "str"
      ]
     },
     "execution_count": 14,
     "metadata": {},
     "output_type": "execute_result"
    }
   ],
   "execution_count": 14
  },
  {
   "metadata": {},
   "cell_type": "markdown",
   "source": "We can work with string in various ways. One is to concatenate them with the `+` operator:",
   "id": "64f9caf35f6d0bf7"
  },
  {
   "metadata": {
    "ExecuteTime": {
     "end_time": "2024-04-11T10:41:15.921522Z",
     "start_time": "2024-04-11T10:41:15.919578Z"
    }
   },
   "cell_type": "code",
   "source": "first_name + \" \" + last_name",
   "id": "a49b44684b5b9839",
   "outputs": [
    {
     "data": {
      "text/plain": [
       "'Matthias Täschner'"
      ]
     },
     "execution_count": 15,
     "metadata": {},
     "output_type": "execute_result"
    }
   ],
   "execution_count": 15
  },
  {
   "metadata": {},
   "cell_type": "markdown",
   "source": "If we want to have single and double quotation marks within our text, we can put them in like this:",
   "id": "2ae306dd67942128"
  },
  {
   "metadata": {
    "ExecuteTime": {
     "end_time": "2024-04-11T10:41:15.928210Z",
     "start_time": "2024-04-11T10:41:15.926473Z"
    }
   },
   "cell_type": "code",
   "source": [
    "text = \"She said 'Hi'.\"\n",
    "print(text)"
   ],
   "id": "860afe5e71e29cec",
   "outputs": [
    {
     "name": "stdout",
     "output_type": "stream",
     "text": [
      "She said 'Hi'.\n"
     ]
    }
   ],
   "execution_count": 16
  },
  {
   "metadata": {
    "ExecuteTime": {
     "end_time": "2024-04-11T10:41:15.970358Z",
     "start_time": "2024-04-11T10:41:15.968416Z"
    }
   },
   "cell_type": "code",
   "source": [
    "text = 'He said \"How are you?\".'\n",
    "print(text)"
   ],
   "id": "9c488d8744b55a3e",
   "outputs": [
    {
     "name": "stdout",
     "output_type": "stream",
     "text": [
      "He said \"How are you?\".\n"
     ]
    }
   ],
   "execution_count": 17
  },
  {
   "metadata": {},
   "cell_type": "markdown",
   "source": "### Combining different data types",
   "id": "62b30cabe05cadf7"
  },
  {
   "metadata": {},
   "cell_type": "markdown",
   "source": "What happens if we want to combine strings and numbers?",
   "id": "ba68f66cecb81b06"
  },
  {
   "metadata": {
    "ExecuteTime": {
     "end_time": "2024-04-11T10:41:16.090060Z",
     "start_time": "2024-04-11T10:41:15.977638Z"
    }
   },
   "cell_type": "code",
   "source": "first_name + a",
   "id": "d2d39603aa6a1172",
   "outputs": [
    {
     "ename": "TypeError",
     "evalue": "can only concatenate str (not \"int\") to str",
     "output_type": "error",
     "traceback": [
      "\u001B[0;31m---------------------------------------------------------------------------\u001B[0m",
      "\u001B[0;31mTypeError\u001B[0m                                 Traceback (most recent call last)",
      "Cell \u001B[0;32mIn[18], line 1\u001B[0m\n\u001B[0;32m----> 1\u001B[0m \u001B[43mfirst_name\u001B[49m\u001B[43m \u001B[49m\u001B[38;5;241;43m+\u001B[39;49m\u001B[43m \u001B[49m\u001B[43ma\u001B[49m\n",
      "\u001B[0;31mTypeError\u001B[0m: can only concatenate str (not \"int\") to str"
     ]
    }
   ],
   "execution_count": 18
  },
  {
   "metadata": {},
   "cell_type": "markdown",
   "source": "For this, a type conversion from numeric to string is necessary, which can be done via the `str()` function:",
   "id": "3c6bd2703d05e3ba"
  },
  {
   "metadata": {
    "ExecuteTime": {
     "end_time": "2024-04-11T10:41:21.478641Z",
     "start_time": "2024-04-11T10:41:21.475318Z"
    }
   },
   "cell_type": "code",
   "source": "first_name + str(a)",
   "id": "a667efcdec7058b5",
   "outputs": [
    {
     "data": {
      "text/plain": [
       "'Matthias5'"
      ]
     },
     "execution_count": 19,
     "metadata": {},
     "output_type": "execute_result"
    }
   ],
   "execution_count": 19
  },
  {
   "metadata": {},
   "cell_type": "markdown",
   "source": "We can also convert strings to numbers in case they contain numbers only:",
   "id": "b9dcfb8e9967b592"
  },
  {
   "metadata": {
    "ExecuteTime": {
     "end_time": "2024-04-11T10:41:22.175696Z",
     "start_time": "2024-04-11T10:41:22.173972Z"
    }
   },
   "cell_type": "code",
   "source": "d = \"25\"",
   "id": "f56b4816d79425af",
   "outputs": [],
   "execution_count": 20
  },
  {
   "metadata": {
    "ExecuteTime": {
     "end_time": "2024-04-11T10:41:22.537838Z",
     "start_time": "2024-04-11T10:41:22.535231Z"
    }
   },
   "cell_type": "code",
   "source": "int(d)",
   "id": "d7cc90399018f7c2",
   "outputs": [
    {
     "data": {
      "text/plain": [
       "25"
      ]
     },
     "execution_count": 21,
     "metadata": {},
     "output_type": "execute_result"
    }
   ],
   "execution_count": 21
  },
  {
   "metadata": {
    "ExecuteTime": {
     "end_time": "2024-04-11T10:41:22.946540Z",
     "start_time": "2024-04-11T10:41:22.943641Z"
    }
   },
   "cell_type": "code",
   "source": "a + int(d)",
   "id": "44006d05225cbd47",
   "outputs": [
    {
     "data": {
      "text/plain": [
       "30"
      ]
     },
     "execution_count": 22,
     "metadata": {},
     "output_type": "execute_result"
    }
   ],
   "execution_count": 22
  },
  {
   "metadata": {},
   "cell_type": "markdown",
   "source": "If the string contains non-numerical characters, an error message is shown:",
   "id": "1eb47f80fdbdb427"
  },
  {
   "metadata": {
    "ExecuteTime": {
     "end_time": "2024-04-11T10:41:23.700175Z",
     "start_time": "2024-04-11T10:41:23.689215Z"
    }
   },
   "cell_type": "code",
   "source": "int(\"hello1\")",
   "id": "9a5156429cdc2715",
   "outputs": [
    {
     "ename": "ValueError",
     "evalue": "invalid literal for int() with base 10: 'hello1'",
     "output_type": "error",
     "traceback": [
      "\u001B[0;31m---------------------------------------------------------------------------\u001B[0m",
      "\u001B[0;31mValueError\u001B[0m                                Traceback (most recent call last)",
      "Cell \u001B[0;32mIn[23], line 1\u001B[0m\n\u001B[0;32m----> 1\u001B[0m \u001B[38;5;28;43mint\u001B[39;49m\u001B[43m(\u001B[49m\u001B[38;5;124;43m\"\u001B[39;49m\u001B[38;5;124;43mhello1\u001B[39;49m\u001B[38;5;124;43m\"\u001B[39;49m\u001B[43m)\u001B[49m\n",
      "\u001B[0;31mValueError\u001B[0m: invalid literal for int() with base 10: 'hello1'"
     ]
    }
   ],
   "execution_count": 23
  },
  {
   "metadata": {},
   "cell_type": "markdown",
   "source": "**What happens if we combine the other types? Give it a try...**",
   "id": "f2a5a69f0a6c8517"
  },
  {
   "metadata": {
    "ExecuteTime": {
     "end_time": "2024-04-11T10:41:24.771580Z",
     "start_time": "2024-04-11T10:41:24.769157Z"
    }
   },
   "cell_type": "code",
   "source": "",
   "id": "f57c473434d08892",
   "outputs": [],
   "execution_count": 23
  },
  {
   "metadata": {},
   "cell_type": "markdown",
   "source": [
    "### f-strings\n",
    "\n",
    "Instead of having to manually convert numbers to strings to assemble them with other strings, we can resort to f-strings (formatted string literals) which are defined by simply adding an f before the opening quote of a regular string:"
   ],
   "id": "24cb84a75c0f1076"
  },
  {
   "metadata": {
    "ExecuteTime": {
     "end_time": "2024-04-11T10:41:25.359279Z",
     "start_time": "2024-04-11T10:41:25.355736Z"
    }
   },
   "cell_type": "code",
   "source": "f\"This is an f-string\"",
   "id": "2fcf9d213bfbee3b",
   "outputs": [
    {
     "data": {
      "text/plain": [
       "'This is an f-string'"
      ]
     },
     "execution_count": 24,
     "metadata": {},
     "output_type": "execute_result"
    }
   ],
   "execution_count": 24
  },
  {
   "metadata": {},
   "cell_type": "markdown",
   "source": "We can now add variables directly in this text by surrounding them with curly brackets:",
   "id": "b2f12be0be38844b"
  },
  {
   "metadata": {
    "ExecuteTime": {
     "end_time": "2024-04-11T10:41:26.202468Z",
     "start_time": "2024-04-11T10:41:26.200088Z"
    }
   },
   "cell_type": "code",
   "source": "f\"a's value is {a}. Doubling the value of a gives {2*a}.\"",
   "id": "40289bf93f9691ab",
   "outputs": [
    {
     "data": {
      "text/plain": [
       "\"a's value is 5. Doubling the value of a gives 10.\""
      ]
     },
     "execution_count": 25,
     "metadata": {},
     "output_type": "execute_result"
    }
   ],
   "execution_count": 25
  },
  {
   "metadata": {},
   "cell_type": "markdown",
   "source": "As you can see above, f-strings can contain as many variables as needed, and curly brackets can contain more than just a variable. We can even execute code inside them, i.e., methods on string objects:",
   "id": "b954a0163c037be8"
  },
  {
   "metadata": {
    "ExecuteTime": {
     "end_time": "2024-04-11T10:41:27.235117Z",
     "start_time": "2024-04-11T10:41:27.232627Z"
    }
   },
   "cell_type": "code",
   "source": "f\"The first_name variable '{first_name}' contains {first_name.lower().count('t')} t letters.\"",
   "id": "e09341f85ba92d02",
   "outputs": [
    {
     "data": {
      "text/plain": [
       "\"The first_name variable 'Matthias' contains 2 t letters.\""
      ]
     },
     "execution_count": 26,
     "metadata": {},
     "output_type": "execute_result"
    }
   ],
   "execution_count": 26
  },
  {
   "metadata": {},
   "cell_type": "markdown",
   "source": [
    "## Exercise\n",
    "\n",
    "[Marie Curie](https://en.wikipedia.org/wiki/Marie_Curie)'s name and birthdate are stored in variables. Concatenate them in one string variable and print it out. The output should be \"Marie Curie, * 7 November 1867\""
   ],
   "id": "90ed4bd756c2f8b4"
  },
  {
   "metadata": {
    "ExecuteTime": {
     "end_time": "2024-04-11T10:41:29.235866Z",
     "start_time": "2024-04-11T10:41:29.232561Z"
    }
   },
   "cell_type": "code",
   "source": [
    "first_name = \"Marie\"\n",
    "last_name = \"Curie\"\n",
    "\n",
    "birthday_day = 7\n",
    "birthday_month = \"November\"\n",
    "birthday_year = 1867"
   ],
   "id": "8ed54ae05d8642",
   "outputs": [],
   "execution_count": 27
  },
  {
   "metadata": {},
   "cell_type": "code",
   "source": "",
   "id": "db8ee15883a88627",
   "outputs": [],
   "execution_count": null
  }
 ],
 "metadata": {
  "kernelspec": {
   "display_name": "Python 3",
   "language": "python",
   "name": "python3"
  },
  "language_info": {
   "codemirror_mode": {
    "name": "ipython",
    "version": 2
   },
   "file_extension": ".py",
   "mimetype": "text/x-python",
   "name": "python",
   "nbconvert_exporter": "python",
   "pygments_lexer": "ipython2",
   "version": "2.7.6"
  }
 },
 "nbformat": 4,
 "nbformat_minor": 5
}
