{
 "cells": [
  {
   "cell_type": "markdown",
   "metadata": {
    "slideshow": {
     "slide_type": "slide"
    }
   },
   "source": "# Python code and Jupyter notebooks"
  },
  {
   "metadata": {},
   "cell_type": "markdown",
   "source": [
    "## Python execution via Python files\n",
    "Python code can be written in \".py\" files, which can be executed from the command line. We can do this with the simple file `01a_hello.py` in this folder. Execute it in the terminal via `python 01a_hello.py`.\n",
    " "
   ]
  },
  {
   "metadata": {},
   "cell_type": "markdown",
   "source": [
    "## Python execution via Jupyter Notebooks\n",
    "Furthermore, for academic purposes, [Jupyter notebooks](https://jupyter-notebook.readthedocs.io/en/stable/) are often used to run Python code, to document what the code does and add additional explanations and links to resources.\n",
    "\n",
    "See also\n",
    "* [Python 3 documentation](https://docs.python.org/3)\n",
    "* [Python fundamentals by the Carpentries](https://swcarpentry.github.io/python-novice-inflammation/)\n",
    "* [Python tutorials for image processing and machine learning by Digital Sreeni](https://www.youtube.com/playlist?list=PLZsOBAyNTZwYHBIlu_PUO19M7aHMgwBJr)\n",
    "\n",
    "### Cell types\n",
    "Jupyter notebooks provide two types of cells:\n",
    "* Markdown cells for documentation, explanations, etc. (like this one)\n",
    "* Code cells to run Python code\n",
    "\n",
    "To write our first small python program, we type in the Jupyter notebook code cell below. You can double-click in this cell, change the code and execute it by hitting CTRL+ENTER:"
   ]
  },
  {
   "cell_type": "code",
   "metadata": {
    "ExecuteTime": {
     "end_time": "2024-04-11T10:40:26.115843Z",
     "start_time": "2024-04-11T10:40:26.111905Z"
    }
   },
   "source": [
    "print(\"Hello world\")"
   ],
   "outputs": [
    {
     "name": "stdout",
     "output_type": "stream",
     "text": [
      "Hello world\n"
     ]
    }
   ],
   "execution_count": 1
  },
  {
   "cell_type": "markdown",
   "metadata": {},
   "source": [
    "### Keyboard shortcuts\n",
    "\n",
    "* When working with Jupyter notebooks, `CTRL-ENTER` or `SHIFT-ENTER` is **the** shortcut people use all the time. \n",
    "* If you want to \"leave\" a cell without executing it, you can also hit `ESCAPE`. \n",
    "* You can add a new cell **a**bove the current cell by hitting `A` and **b**elow by hitting `B`. \n",
    "* You can delete cells by hitting `D`.\n",
    "\n",
    "There are more shortcuts. You can see them all in the menu above `Help > Keyboard shortcuts` or by hitting `H`.\n",
    "\n",
    "Try it out!"
   ]
  },
  {
   "cell_type": "code",
   "metadata": {
    "ExecuteTime": {
     "end_time": "2024-04-11T10:40:26.118113Z",
     "start_time": "2024-04-11T10:40:26.116865Z"
    }
   },
   "source": [],
   "outputs": [],
   "execution_count": 1
  },
  {
   "metadata": {
    "ExecuteTime": {
     "end_time": "2024-04-11T10:40:26.119910Z",
     "start_time": "2024-04-11T10:40:26.118744Z"
    }
   },
   "cell_type": "code",
   "source": "",
   "outputs": [],
   "execution_count": 1
  },
  {
   "cell_type": "code",
   "metadata": {
    "ExecuteTime": {
     "end_time": "2024-04-11T10:40:26.121867Z",
     "start_time": "2024-04-11T10:40:26.120582Z"
    }
   },
   "source": [],
   "outputs": [],
   "execution_count": 1
  },
  {
   "cell_type": "markdown",
   "metadata": {
    "slideshow": {
     "slide_type": "slide"
    }
   },
   "source": [
    "## Markdown documentation in Jupyter notebooks\n",
    "Markdown is a coding language for describing the **formating** of *text*. To see the Markdown code which describes this text, double-click this cell in your Jupyter notebook. Hit `SHIFT+ENTER` to return to the viewing mode.\n",
    "\n",
    "* Bullet point\n",
    "* More bullet points\n",
    "  * Deeper bullet points\n",
    "\n",
    "1. List entry\n",
    "2. Another list entry\n",
    "4. More list entries\n",
    "8. [Markdown cheatsheet](https://github.com/adam-p/markdown-here/wiki/Markdown-Cheatsheet)"
   ]
  },
  {
   "cell_type": "markdown",
   "metadata": {},
   "source": [
    "# Exercise\n",
    "Add a new python code cell below and use the `print` command to print your name."
   ]
  }
 ],
 "metadata": {
  "kernelspec": {
   "display_name": "Python 3 (ipykernel)",
   "language": "python",
   "name": "python3"
  },
  "language_info": {
   "codemirror_mode": {
    "name": "ipython",
    "version": 3
   },
   "file_extension": ".py",
   "mimetype": "text/x-python",
   "name": "python",
   "nbconvert_exporter": "python",
   "pygments_lexer": "ipython3",
   "version": "3.9.13"
  }
 },
 "nbformat": 4,
 "nbformat_minor": 4
}
