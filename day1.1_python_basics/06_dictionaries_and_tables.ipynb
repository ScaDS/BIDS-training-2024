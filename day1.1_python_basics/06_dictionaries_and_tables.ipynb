{
 "cells": [
  {
   "metadata": {},
   "cell_type": "markdown",
   "source": [
    "# Dictionaries\n",
    "Dictionaries are data structures that hold key-value pairs, written as `key:value`.\n",
    "\n",
    "See also\n",
    "* [Python docs for dict](https://docs.python.org/3/library/stdtypes.html#mapping-types-dict)\n",
    "* [Dictionaries in Python](https://www.w3schools.com/python/python_dictionaries.asp)\n",
    "* [Dictionary keys as list](https://stackoverflow.com/questions/16819222/how-do-i-return-dictionary-keys-as-a-list-in-python)\n",
    "\n",
    "You can define a dictionary like this:"
   ],
   "id": "6421d04c5816bbbb"
  },
  {
   "metadata": {
    "ExecuteTime": {
     "end_time": "2024-04-11T10:43:31.846440Z",
     "start_time": "2024-04-11T10:43:31.842364Z"
    }
   },
   "cell_type": "code",
   "source": "german_english_dictionary = {'Vorlesung':'Lecture', 'Gleichung':'Equation'}",
   "id": "8dfd7c6cbec0ca4a",
   "outputs": [],
   "execution_count": 1
  },
  {
   "metadata": {},
   "cell_type": "markdown",
   "source": "For readability reasons, consider writing it like this:",
   "id": "33508ecc29691724"
  },
  {
   "metadata": {
    "ExecuteTime": {
     "end_time": "2024-04-11T10:43:31.849021Z",
     "start_time": "2024-04-11T10:43:31.847552Z"
    }
   },
   "cell_type": "code",
   "source": [
    "german_english_dictionary = {\n",
    "    'Vorlesung':'Lecture', \n",
    "    'Gleichung':'Equation'\n",
    "}"
   ],
   "id": "727f5ce3f4a344f4",
   "outputs": [],
   "execution_count": 2
  },
  {
   "metadata": {
    "ExecuteTime": {
     "end_time": "2024-04-11T10:43:31.852810Z",
     "start_time": "2024-04-11T10:43:31.849597Z"
    }
   },
   "cell_type": "code",
   "source": "german_english_dictionary",
   "id": "a2af201b31adeb06",
   "outputs": [
    {
     "data": {
      "text/plain": [
       "{'Vorlesung': 'Lecture', 'Gleichung': 'Equation'}"
      ]
     },
     "execution_count": 3,
     "metadata": {},
     "output_type": "execute_result"
    }
   ],
   "execution_count": 3
  },
  {
   "metadata": {},
   "cell_type": "markdown",
   "source": "If you want to access a given entry in the dictionary, you can address it using square brackets `[]` and the key:",
   "id": "2100be6f9bac42f2"
  },
  {
   "metadata": {
    "ExecuteTime": {
     "end_time": "2024-04-11T10:43:31.855488Z",
     "start_time": "2024-04-11T10:43:31.853585Z"
    }
   },
   "cell_type": "code",
   "source": "german_english_dictionary['Vorlesung']",
   "id": "b7b8ddb2f3ca3dfa",
   "outputs": [
    {
     "data": {
      "text/plain": [
       "'Lecture'"
      ]
     },
     "execution_count": 4,
     "metadata": {},
     "output_type": "execute_result"
    }
   ],
   "execution_count": 4
  },
  {
   "metadata": {},
   "cell_type": "markdown",
   "source": "You can add elements to the dictionary:",
   "id": "85992541fe98d800"
  },
  {
   "metadata": {
    "ExecuteTime": {
     "end_time": "2024-04-11T10:43:31.858472Z",
     "start_time": "2024-04-11T10:43:31.856910Z"
    }
   },
   "cell_type": "code",
   "source": "german_english_dictionary['Tag'] = 'Day'",
   "id": "507d2327d4ddc90e",
   "outputs": [],
   "execution_count": 5
  },
  {
   "metadata": {
    "ExecuteTime": {
     "end_time": "2024-04-11T10:43:31.861342Z",
     "start_time": "2024-04-11T10:43:31.859074Z"
    }
   },
   "cell_type": "code",
   "source": "german_english_dictionary",
   "id": "3c2d6791c531ff2a",
   "outputs": [
    {
     "data": {
      "text/plain": [
       "{'Vorlesung': 'Lecture', 'Gleichung': 'Equation', 'Tag': 'Day'}"
      ]
     },
     "execution_count": 6,
     "metadata": {},
     "output_type": "execute_result"
    }
   ],
   "execution_count": 6
  },
  {
   "metadata": {
    "ExecuteTime": {
     "end_time": "2024-04-11T10:43:31.863805Z",
     "start_time": "2024-04-11T10:43:31.862180Z"
    }
   },
   "cell_type": "code",
   "source": "keys = list(german_english_dictionary.keys())",
   "id": "1d0e14f0a52e0f4a",
   "outputs": [],
   "execution_count": 7
  },
  {
   "metadata": {
    "ExecuteTime": {
     "end_time": "2024-04-11T10:43:31.866553Z",
     "start_time": "2024-04-11T10:43:31.864452Z"
    }
   },
   "cell_type": "code",
   "source": "keys",
   "id": "f1c6ee37081993a5",
   "outputs": [
    {
     "data": {
      "text/plain": [
       "['Vorlesung', 'Gleichung', 'Tag']"
      ]
     },
     "execution_count": 8,
     "metadata": {},
     "output_type": "execute_result"
    }
   ],
   "execution_count": 8
  },
  {
   "metadata": {},
   "cell_type": "markdown",
   "source": "You can retrieve all keys from the dictionary as a list:",
   "id": "b48782373eab3750"
  },
  {
   "metadata": {
    "ExecuteTime": {
     "end_time": "2024-04-11T10:43:31.868610Z",
     "start_time": "2024-04-11T10:43:31.867127Z"
    }
   },
   "cell_type": "code",
   "source": "keys = list(german_english_dictionary.keys())",
   "id": "b2e999987fcb9067",
   "outputs": [],
   "execution_count": 9
  },
  {
   "metadata": {
    "ExecuteTime": {
     "end_time": "2024-04-11T10:43:31.871082Z",
     "start_time": "2024-04-11T10:43:31.869046Z"
    }
   },
   "cell_type": "code",
   "source": "keys",
   "id": "fc01c143f91f73da",
   "outputs": [
    {
     "data": {
      "text/plain": [
       "['Vorlesung', 'Gleichung', 'Tag']"
      ]
     },
     "execution_count": 10,
     "metadata": {},
     "output_type": "execute_result"
    }
   ],
   "execution_count": 10
  },
  {
   "metadata": {
    "ExecuteTime": {
     "end_time": "2024-04-11T10:43:31.873379Z",
     "start_time": "2024-04-11T10:43:31.871644Z"
    }
   },
   "cell_type": "code",
   "source": "keys[1]",
   "id": "c46f8cdcb8963de",
   "outputs": [
    {
     "data": {
      "text/plain": [
       "'Gleichung'"
      ]
     },
     "execution_count": 11,
     "metadata": {},
     "output_type": "execute_result"
    }
   ],
   "execution_count": 11
  },
  {
   "metadata": {},
   "cell_type": "markdown",
   "source": "You can retrieve all values from the dictionary as a list:",
   "id": "e86e6dbfa277ba7e"
  },
  {
   "metadata": {
    "ExecuteTime": {
     "end_time": "2024-04-11T10:43:31.875140Z",
     "start_time": "2024-04-11T10:43:31.873908Z"
    }
   },
   "cell_type": "code",
   "source": "values = list(german_english_dictionary.values())",
   "id": "1a6c5c627cf6a4a3",
   "outputs": [],
   "execution_count": 12
  },
  {
   "metadata": {
    "ExecuteTime": {
     "end_time": "2024-04-11T10:43:31.877505Z",
     "start_time": "2024-04-11T10:43:31.875722Z"
    }
   },
   "cell_type": "code",
   "source": "values",
   "id": "45fe7f017a351d4e",
   "outputs": [
    {
     "data": {
      "text/plain": [
       "['Lecture', 'Equation', 'Day']"
      ]
     },
     "execution_count": 13,
     "metadata": {},
     "output_type": "execute_result"
    }
   ],
   "execution_count": 13
  },
  {
   "metadata": {},
   "cell_type": "markdown",
   "source": [
    "# Tables\n",
    "We can use dictionaries to build table-like structures. Here, the value of a `key:value` pair is not a single value but a list of values, i.e., a column."
   ],
   "id": "517f6deb6e860436"
  },
  {
   "metadata": {
    "ExecuteTime": {
     "end_time": "2024-04-11T10:43:31.881482Z",
     "start_time": "2024-04-11T10:43:31.879669Z"
    }
   },
   "cell_type": "code",
   "source": [
    "measurements_week = {\n",
    "    'Monday':   [2.3, 3.1, 5.6],\n",
    "    'Tuesday':  [1.8, 7.0, 4.3],\n",
    "    'Wednesday':[4.5, 1.5, 3.2],\n",
    "    'Thursday': [1.9, 2.0, 6.4],\n",
    "    'Friday':   [4.4, 2.3, 5.4]\n",
    "}"
   ],
   "id": "e07a5480bcf6003c",
   "outputs": [],
   "execution_count": 14
  },
  {
   "metadata": {
    "ExecuteTime": {
     "end_time": "2024-04-11T10:43:31.883911Z",
     "start_time": "2024-04-11T10:43:31.882069Z"
    }
   },
   "cell_type": "code",
   "source": "measurements_week",
   "id": "c2d783c97852436",
   "outputs": [
    {
     "data": {
      "text/plain": [
       "{'Monday': [2.3, 3.1, 5.6],\n",
       " 'Tuesday': [1.8, 7.0, 4.3],\n",
       " 'Wednesday': [4.5, 1.5, 3.2],\n",
       " 'Thursday': [1.9, 2.0, 6.4],\n",
       " 'Friday': [4.4, 2.3, 5.4]}"
      ]
     },
     "execution_count": 15,
     "metadata": {},
     "output_type": "execute_result"
    }
   ],
   "execution_count": 15
  },
  {
   "metadata": {
    "ExecuteTime": {
     "end_time": "2024-04-11T10:43:31.886368Z",
     "start_time": "2024-04-11T10:43:31.884401Z"
    }
   },
   "cell_type": "code",
   "source": "measurements_week['Monday']",
   "id": "1add8ca8396c4f93",
   "outputs": [
    {
     "data": {
      "text/plain": [
       "[2.3, 3.1, 5.6]"
      ]
     },
     "execution_count": 16,
     "metadata": {},
     "output_type": "execute_result"
    }
   ],
   "execution_count": 16
  },
  {
   "metadata": {},
   "cell_type": "markdown",
   "source": "We can also store variables in such tables:",
   "id": "402386f3592f09ac"
  },
  {
   "metadata": {
    "ExecuteTime": {
     "end_time": "2024-04-11T10:43:31.889102Z",
     "start_time": "2024-04-11T10:43:31.887111Z"
    }
   },
   "cell_type": "code",
   "source": [
    "w1 = 5\n",
    "h1 = 3\n",
    "area1 = w1 * h1\n",
    "\n",
    "w2 = 2\n",
    "h2 = 4\n",
    "area2 = w2 * h2\n",
    "\n",
    "rectangles = {\n",
    "    \"width\": [w1, w2],\n",
    "    \"height\": [h1, h2],\n",
    "    \"area\": [area1, area2]\n",
    "}"
   ],
   "id": "6cc9e6778ad5f8fe",
   "outputs": [],
   "execution_count": 17
  },
  {
   "metadata": {
    "ExecuteTime": {
     "end_time": "2024-04-11T10:43:31.891947Z",
     "start_time": "2024-04-11T10:43:31.889755Z"
    }
   },
   "cell_type": "code",
   "source": "rectangles",
   "id": "53377d5223a7550b",
   "outputs": [
    {
     "data": {
      "text/plain": [
       "{'width': [5, 2], 'height': [3, 4], 'area': [15, 8]}"
      ]
     },
     "execution_count": 18,
     "metadata": {},
     "output_type": "execute_result"
    }
   ],
   "execution_count": 18
  },
  {
   "metadata": {},
   "cell_type": "markdown",
   "source": [
    "## Exercise\n",
    "You just measured the radius of three circles. Write them into a table and add a column with corresponding circle area measurements."
   ],
   "id": "4ecd511695d068f5"
  },
  {
   "metadata": {
    "ExecuteTime": {
     "end_time": "2024-04-11T10:43:31.894025Z",
     "start_time": "2024-04-11T10:43:31.892569Z"
    }
   },
   "cell_type": "code",
   "source": [
    "r1 = 12\n",
    "r2 = 8\n",
    "r3 = 15"
   ],
   "id": "62288b354f39182e",
   "outputs": [],
   "execution_count": 19
  },
  {
   "metadata": {
    "ExecuteTime": {
     "end_time": "2024-04-11T10:43:31.895744Z",
     "start_time": "2024-04-11T10:43:31.894527Z"
    }
   },
   "cell_type": "code",
   "source": "",
   "id": "5c9e929409105d3b",
   "outputs": [],
   "execution_count": 19
  }
 ],
 "metadata": {
  "kernelspec": {
   "display_name": "Python 3",
   "language": "python",
   "name": "python3"
  },
  "language_info": {
   "codemirror_mode": {
    "name": "ipython",
    "version": 2
   },
   "file_extension": ".py",
   "mimetype": "text/x-python",
   "name": "python",
   "nbconvert_exporter": "python",
   "pygments_lexer": "ipython2",
   "version": "2.7.6"
  }
 },
 "nbformat": 4,
 "nbformat_minor": 5
}
