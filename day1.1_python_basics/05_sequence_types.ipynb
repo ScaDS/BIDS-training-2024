{
 "cells": [
  {
   "metadata": {},
   "cell_type": "markdown",
   "source": [
    "# Sequences in Python\n",
    "Variables can contain multiple values, those are called sequences. One example we already introduced is a string-typed variable, containing an immutable ordered collection of Unicode items.\n",
    "\n",
    "The other three basic sequence types are: \n",
    "* [Lists](https://docs.python.org/3/library/stdtypes.html#lists)\n",
    "* [Tuples](https://docs.python.org/3/library/stdtypes.html#tuples)\n",
    "* [Ranges](https://docs.python.org/3/library/stdtypes.html#ranges)"
   ],
   "id": "cd1ed08c89703893"
  },
  {
   "metadata": {},
   "cell_type": "markdown",
   "source": [
    "## Lists\n",
    "Lists are _mutable_ collections of heterogeneous values, which means they can be changed. They are also called vectors or arrays."
   ],
   "id": "f13b56f3c35d138f"
  },
  {
   "metadata": {
    "ExecuteTime": {
     "end_time": "2024-04-11T10:42:25.898690Z",
     "start_time": "2024-04-11T10:42:25.893092Z"
    }
   },
   "cell_type": "code",
   "source": [
    "measurements = [3.5, 1.5, 4.6, 5.7, 2.4]\n",
    "type(measurements)"
   ],
   "id": "c81716cfc1f31cdf",
   "outputs": [
    {
     "data": {
      "text/plain": [
       "list"
      ]
     },
     "execution_count": 1,
     "metadata": {},
     "output_type": "execute_result"
    }
   ],
   "execution_count": 1
  },
  {
   "metadata": {},
   "cell_type": "markdown",
   "source": [
    "### Access via index\n",
    "Entries can be accessed by their index in the collection via the bracket operator `[]`. Indices in such collections start at `0`:"
   ],
   "id": "95a924768257d48a"
  },
  {
   "metadata": {
    "ExecuteTime": {
     "end_time": "2024-04-11T10:42:25.902174Z",
     "start_time": "2024-04-11T10:42:25.899894Z"
    }
   },
   "cell_type": "code",
   "source": "measurements[0]",
   "id": "d96fc0dd2b2e5f97",
   "outputs": [
    {
     "data": {
      "text/plain": [
       "3.5"
      ]
     },
     "execution_count": 2,
     "metadata": {},
     "output_type": "execute_result"
    }
   ],
   "execution_count": 2
  },
  {
   "metadata": {
    "ExecuteTime": {
     "end_time": "2024-04-11T10:42:25.904914Z",
     "start_time": "2024-04-11T10:42:25.902840Z"
    }
   },
   "cell_type": "code",
   "source": "measurements[1]",
   "id": "27fb7f287637acf7",
   "outputs": [
    {
     "data": {
      "text/plain": [
       "1.5"
      ]
     },
     "execution_count": 3,
     "metadata": {},
     "output_type": "execute_result"
    }
   ],
   "execution_count": 3
  },
  {
   "metadata": {},
   "cell_type": "markdown",
   "source": "Entries can be changed (lists are mutable) by assigning a new value to an index:",
   "id": "454d5c9d0a427c76"
  },
  {
   "metadata": {
    "ExecuteTime": {
     "end_time": "2024-04-11T10:42:25.906960Z",
     "start_time": "2024-04-11T10:42:25.905535Z"
    }
   },
   "cell_type": "code",
   "source": "measurements[1] = 8.5",
   "id": "1bd71df69880ba74",
   "outputs": [],
   "execution_count": 4
  },
  {
   "metadata": {
    "ExecuteTime": {
     "end_time": "2024-04-11T10:42:25.910288Z",
     "start_time": "2024-04-11T10:42:25.908387Z"
    }
   },
   "cell_type": "code",
   "source": "measurements[1]",
   "id": "cac177e5efd9a73",
   "outputs": [
    {
     "data": {
      "text/plain": [
       "8.5"
      ]
     },
     "execution_count": 5,
     "metadata": {},
     "output_type": "execute_result"
    }
   ],
   "execution_count": 5
  },
  {
   "metadata": {},
   "cell_type": "markdown",
   "source": [
    "### List methods and operations\n",
    "The list object provides several methods to work with the underlying data\n",
    "\n",
    "We can append entries to lists:"
   ],
   "id": "84762e46638971a"
  },
  {
   "metadata": {
    "ExecuteTime": {
     "end_time": "2024-04-11T10:42:25.912463Z",
     "start_time": "2024-04-11T10:42:25.910865Z"
    }
   },
   "cell_type": "code",
   "source": "measurements.append(10.2)",
   "id": "e978c9ee68191c01",
   "outputs": [],
   "execution_count": 6
  },
  {
   "metadata": {},
   "cell_type": "markdown",
   "source": "We can reverse lists:",
   "id": "177c1f90b0360650"
  },
  {
   "metadata": {
    "ExecuteTime": {
     "end_time": "2024-04-11T10:42:25.915075Z",
     "start_time": "2024-04-11T10:42:25.912990Z"
    }
   },
   "cell_type": "code",
   "source": [
    "measurements.reverse()\n",
    "measurements"
   ],
   "id": "d7a291026e6ec4ea",
   "outputs": [
    {
     "data": {
      "text/plain": [
       "[10.2, 2.4, 5.7, 4.6, 8.5, 3.5]"
      ]
     },
     "execution_count": 7,
     "metadata": {},
     "output_type": "execute_result"
    }
   ],
   "execution_count": 7
  },
  {
   "metadata": {},
   "cell_type": "markdown",
   "source": "And we can sort lists:",
   "id": "4f438a5620bbd6c8"
  },
  {
   "metadata": {
    "ExecuteTime": {
     "end_time": "2024-04-11T10:42:25.917355Z",
     "start_time": "2024-04-11T10:42:25.915637Z"
    }
   },
   "cell_type": "code",
   "source": [
    "measurements.sort()\n",
    "measurements"
   ],
   "id": "8c97993caf51af67",
   "outputs": [
    {
     "data": {
      "text/plain": [
       "[2.4, 3.5, 4.6, 5.7, 8.5, 10.2]"
      ]
     },
     "execution_count": 8,
     "metadata": {},
     "output_type": "execute_result"
    }
   ],
   "execution_count": 8
  },
  {
   "metadata": {},
   "cell_type": "markdown",
   "source": "Like strings, we can also concatenate lists:",
   "id": "61cf1f8c785066"
  },
  {
   "metadata": {
    "ExecuteTime": {
     "end_time": "2024-04-11T10:42:25.919287Z",
     "start_time": "2024-04-11T10:42:25.917848Z"
    }
   },
   "cell_type": "code",
   "source": "more_measurements = [6.1, 8.9, 1.3]",
   "id": "543be14cef8d340e",
   "outputs": [],
   "execution_count": 9
  },
  {
   "metadata": {
    "ExecuteTime": {
     "end_time": "2024-04-11T10:42:25.921899Z",
     "start_time": "2024-04-11T10:42:25.919944Z"
    }
   },
   "cell_type": "code",
   "source": "measurements + more_measurements",
   "id": "847d1e7990a5add3",
   "outputs": [
    {
     "data": {
      "text/plain": [
       "[2.4, 3.5, 4.6, 5.7, 8.5, 10.2, 6.1, 8.9, 1.3]"
      ]
     },
     "execution_count": 10,
     "metadata": {},
     "output_type": "execute_result"
    }
   ],
   "execution_count": 10
  },
  {
   "metadata": {},
   "cell_type": "markdown",
   "source": "When working with numeric lists, you can use some of python's built-in functions to do basic statistics on your measurements:",
   "id": "793c3189fe21d4e6"
  },
  {
   "metadata": {
    "ExecuteTime": {
     "end_time": "2024-04-11T10:42:25.925340Z",
     "start_time": "2024-04-11T10:42:25.923461Z"
    }
   },
   "cell_type": "code",
   "source": [
    "# minimum value in the list\n",
    "min(measurements)"
   ],
   "id": "c4f6897531c6041f",
   "outputs": [
    {
     "data": {
      "text/plain": [
       "2.4"
      ]
     },
     "execution_count": 11,
     "metadata": {},
     "output_type": "execute_result"
    }
   ],
   "execution_count": 11
  },
  {
   "metadata": {
    "ExecuteTime": {
     "end_time": "2024-04-11T10:42:25.927971Z",
     "start_time": "2024-04-11T10:42:25.925947Z"
    }
   },
   "cell_type": "code",
   "source": [
    "# maximum value in the list\n",
    "max(measurements)"
   ],
   "id": "17a435adfc08afab",
   "outputs": [
    {
     "data": {
      "text/plain": [
       "10.2"
      ]
     },
     "execution_count": 12,
     "metadata": {},
     "output_type": "execute_result"
    }
   ],
   "execution_count": 12
  },
  {
   "metadata": {
    "ExecuteTime": {
     "end_time": "2024-04-11T10:42:25.942329Z",
     "start_time": "2024-04-11T10:42:25.940169Z"
    }
   },
   "cell_type": "code",
   "source": [
    "# sum of all elements in the list\n",
    "sum(measurements)"
   ],
   "id": "ff9e40256777075",
   "outputs": [
    {
     "data": {
      "text/plain": [
       "34.9"
      ]
     },
     "execution_count": 13,
     "metadata": {},
     "output_type": "execute_result"
    }
   ],
   "execution_count": 13
  },
  {
   "metadata": {
    "ExecuteTime": {
     "end_time": "2024-04-11T10:42:25.953096Z",
     "start_time": "2024-04-11T10:42:25.951091Z"
    }
   },
   "cell_type": "code",
   "source": [
    "# number of elements in the list\n",
    "len(measurements)"
   ],
   "id": "9c411be35da3062",
   "outputs": [
    {
     "data": {
      "text/plain": [
       "6"
      ]
     },
     "execution_count": 14,
     "metadata": {},
     "output_type": "execute_result"
    }
   ],
   "execution_count": 14
  },
  {
   "metadata": {
    "ExecuteTime": {
     "end_time": "2024-04-11T10:42:25.970607Z",
     "start_time": "2024-04-11T10:42:25.968506Z"
    }
   },
   "cell_type": "code",
   "source": [
    "# average of all elements in the list\n",
    "sum(measurements) / len(measurements)"
   ],
   "id": "949da848f2a5e81b",
   "outputs": [
    {
     "data": {
      "text/plain": [
       "5.816666666666666"
      ]
     },
     "execution_count": 15,
     "metadata": {},
     "output_type": "execute_result"
    }
   ],
   "execution_count": 15
  },
  {
   "metadata": {},
   "cell_type": "markdown",
   "source": [
    "### Lists of mixed types\n",
    "We can also store values of different types in a list"
   ],
   "id": "d8d350020fe0e9d5"
  },
  {
   "metadata": {
    "ExecuteTime": {
     "end_time": "2024-04-11T10:42:25.994561Z",
     "start_time": "2024-04-11T10:42:25.992813Z"
    }
   },
   "cell_type": "code",
   "source": "mixed_list = [22, 5.6, \"Cat\", 'Dog']",
   "id": "b5058aadf1aa9d73",
   "outputs": [],
   "execution_count": 16
  },
  {
   "metadata": {
    "ExecuteTime": {
     "end_time": "2024-04-11T10:42:26.001904Z",
     "start_time": "2024-04-11T10:42:25.999964Z"
    }
   },
   "cell_type": "code",
   "source": "mixed_list[0]",
   "id": "490695f49859385c",
   "outputs": [
    {
     "data": {
      "text/plain": [
       "22"
      ]
     },
     "execution_count": 17,
     "metadata": {},
     "output_type": "execute_result"
    }
   ],
   "execution_count": 17
  },
  {
   "metadata": {
    "ExecuteTime": {
     "end_time": "2024-04-11T10:42:26.005141Z",
     "start_time": "2024-04-11T10:42:26.003287Z"
    }
   },
   "cell_type": "code",
   "source": "mixed_list[3]",
   "id": "2d543d12acf0efa7",
   "outputs": [
    {
     "data": {
      "text/plain": [
       "'Dog'"
      ]
     },
     "execution_count": 18,
     "metadata": {},
     "output_type": "execute_result"
    }
   ],
   "execution_count": 18
  },
  {
   "metadata": {
    "ExecuteTime": {
     "end_time": "2024-04-11T10:42:26.008379Z",
     "start_time": "2024-04-11T10:42:26.006455Z"
    }
   },
   "cell_type": "code",
   "source": "type(mixed_list[3])",
   "id": "41faf1a866594bf3",
   "outputs": [
    {
     "data": {
      "text/plain": [
       "str"
      ]
     },
     "execution_count": 19,
     "metadata": {},
     "output_type": "execute_result"
    }
   ],
   "execution_count": 19
  },
  {
   "metadata": {},
   "cell_type": "markdown",
   "source": [
    "## Tuples\n",
    "Tuples are _immutable_ collections of heterogeneous values, which means they cannot be changed."
   ],
   "id": "4f6b5df6544533b2"
  },
  {
   "metadata": {
    "ExecuteTime": {
     "end_time": "2024-04-11T10:42:26.014378Z",
     "start_time": "2024-04-11T10:42:26.012397Z"
    }
   },
   "cell_type": "code",
   "source": [
    "immutable = (4, 3, 2 ,1, \"Dog\")\n",
    "type(immutable)"
   ],
   "id": "881884629110c868",
   "outputs": [
    {
     "data": {
      "text/plain": [
       "tuple"
      ]
     },
     "execution_count": 20,
     "metadata": {},
     "output_type": "execute_result"
    }
   ],
   "execution_count": 20
  },
  {
   "metadata": {
    "ExecuteTime": {
     "end_time": "2024-04-11T10:42:26.028274Z",
     "start_time": "2024-04-11T10:42:26.026321Z"
    }
   },
   "cell_type": "code",
   "source": "immutable[0]",
   "id": "83e776155b6f4ae0",
   "outputs": [
    {
     "data": {
      "text/plain": [
       "4"
      ]
     },
     "execution_count": 21,
     "metadata": {},
     "output_type": "execute_result"
    }
   ],
   "execution_count": 21
  },
  {
   "metadata": {
    "ExecuteTime": {
     "end_time": "2024-04-11T10:42:26.151092Z",
     "start_time": "2024-04-11T10:42:26.040793Z"
    }
   },
   "cell_type": "code",
   "source": "immutable[0] = 5",
   "id": "cf2bd2cc98716f64",
   "outputs": [
    {
     "ename": "TypeError",
     "evalue": "'tuple' object does not support item assignment",
     "output_type": "error",
     "traceback": [
      "\u001B[0;31m---------------------------------------------------------------------------\u001B[0m",
      "\u001B[0;31mTypeError\u001B[0m                                 Traceback (most recent call last)",
      "Cell \u001B[0;32mIn[22], line 1\u001B[0m\n\u001B[0;32m----> 1\u001B[0m \u001B[43mimmutable\u001B[49m\u001B[43m[\u001B[49m\u001B[38;5;241;43m0\u001B[39;49m\u001B[43m]\u001B[49m \u001B[38;5;241m=\u001B[39m \u001B[38;5;241m5\u001B[39m\n",
      "\u001B[0;31mTypeError\u001B[0m: 'tuple' object does not support item assignment"
     ]
    }
   ],
   "execution_count": 22
  },
  {
   "metadata": {},
   "cell_type": "markdown",
   "source": "You can convert tuples to lists and vice versa:",
   "id": "6b9555886131cebf"
  },
  {
   "metadata": {
    "ExecuteTime": {
     "end_time": "2024-04-11T10:42:34.725600Z",
     "start_time": "2024-04-11T10:42:34.722561Z"
    }
   },
   "cell_type": "code",
   "source": [
    "mutable = list(immutable)\n",
    "type(mutable)"
   ],
   "id": "6e179e2e203f35a3",
   "outputs": [
    {
     "data": {
      "text/plain": [
       "list"
      ]
     },
     "execution_count": 23,
     "metadata": {},
     "output_type": "execute_result"
    }
   ],
   "execution_count": 23
  },
  {
   "metadata": {
    "ExecuteTime": {
     "end_time": "2024-04-11T10:42:35.246956Z",
     "start_time": "2024-04-11T10:42:35.244048Z"
    }
   },
   "cell_type": "code",
   "source": [
    "immutable_again = tuple(mutable)\n",
    "type(immutable_again)"
   ],
   "id": "818305b898a68046",
   "outputs": [
    {
     "data": {
      "text/plain": [
       "tuple"
      ]
     },
     "execution_count": 24,
     "metadata": {},
     "output_type": "execute_result"
    }
   ],
   "execution_count": 24
  },
  {
   "metadata": {},
   "cell_type": "markdown",
   "source": [
    "## Ranges\n",
    "Ranges are _immutable_ collections of numbers, commonly used for counting in loops (later more). Ranges can be constructed via `[start:end:step]`, where `end` is not inclusive, and `step` is an optional parameter."
   ],
   "id": "c57a11ae5c577fb4"
  },
  {
   "metadata": {
    "ExecuteTime": {
     "end_time": "2024-04-11T10:42:36.820153Z",
     "start_time": "2024-04-11T10:42:36.815795Z"
    }
   },
   "cell_type": "code",
   "source": [
    "numbers = range(1, 11)\n",
    "type(numbers)"
   ],
   "id": "8072c36a1e6ca128",
   "outputs": [
    {
     "data": {
      "text/plain": [
       "range"
      ]
     },
     "execution_count": 25,
     "metadata": {},
     "output_type": "execute_result"
    }
   ],
   "execution_count": 25
  },
  {
   "metadata": {
    "ExecuteTime": {
     "end_time": "2024-04-11T10:42:37.268454Z",
     "start_time": "2024-04-11T10:42:37.264466Z"
    }
   },
   "cell_type": "code",
   "source": "numbers[0]",
   "id": "4be8a2a7c48c6f",
   "outputs": [
    {
     "data": {
      "text/plain": [
       "1"
      ]
     },
     "execution_count": 26,
     "metadata": {},
     "output_type": "execute_result"
    }
   ],
   "execution_count": 26
  },
  {
   "metadata": {
    "ExecuteTime": {
     "end_time": "2024-04-11T10:42:37.645846Z",
     "start_time": "2024-04-11T10:42:37.643136Z"
    }
   },
   "cell_type": "code",
   "source": "list(numbers)",
   "id": "b00ab70146482434",
   "outputs": [
    {
     "data": {
      "text/plain": [
       "[1, 2, 3, 4, 5, 6, 7, 8, 9, 10]"
      ]
     },
     "execution_count": 27,
     "metadata": {},
     "output_type": "execute_result"
    }
   ],
   "execution_count": 27
  },
  {
   "metadata": {},
   "cell_type": "markdown",
   "source": [
    "## Exercise\n",
    "Assume we have measurements on multiple days. Please compute the average measurement of this week."
   ],
   "id": "8e9071953d88addc"
  },
  {
   "metadata": {
    "ExecuteTime": {
     "end_time": "2024-04-11T10:42:44.591792Z",
     "start_time": "2024-04-11T10:42:44.588737Z"
    }
   },
   "cell_type": "code",
   "source": [
    "measurements_monday = [2.3, 3.1, 5.6]\n",
    "measurements_tuesday = [1.8, 7.0]\n",
    "measurements_wednesday = [4.5, 1.5, 6.4, 3.2]\n",
    "measurements_thursday = [1.9, 2.0]\n",
    "measurements_friday = [4.4]"
   ],
   "id": "d73a8a874ebd09be",
   "outputs": [],
   "execution_count": 28
  },
  {
   "metadata": {},
   "cell_type": "code",
   "outputs": [],
   "execution_count": null,
   "source": "",
   "id": "b0a18739f6cd978b"
  }
 ],
 "metadata": {
  "kernelspec": {
   "display_name": "Python 3",
   "language": "python",
   "name": "python3"
  },
  "language_info": {
   "codemirror_mode": {
    "name": "ipython",
    "version": 2
   },
   "file_extension": ".py",
   "mimetype": "text/x-python",
   "name": "python",
   "nbconvert_exporter": "python",
   "pygments_lexer": "ipython2",
   "version": "2.7.6"
  }
 },
 "nbformat": 4,
 "nbformat_minor": 5
}
