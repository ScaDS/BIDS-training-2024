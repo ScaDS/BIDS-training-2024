{
 "cells": [
  {
   "metadata": {},
   "cell_type": "markdown",
   "source": [
    "# Pitfalls when working with Jupyter notebooks\n",
    "You can execute the same cell in Jupyter notebooks multiple times. This may lead to notebooks which make no sense to the reader."
   ],
   "id": "1a7c2b673d8a06b"
  },
  {
   "metadata": {
    "ExecuteTime": {
     "end_time": "2024-04-11T10:41:37.738028Z",
     "start_time": "2024-04-11T10:41:37.733257Z"
    }
   },
   "cell_type": "code",
   "source": [
    "a = 5\n",
    "b = 5"
   ],
   "id": "516e9c51fbf0ad4",
   "outputs": [],
   "execution_count": 1
  },
  {
   "metadata": {
    "ExecuteTime": {
     "end_time": "2024-04-11T10:41:54.455184Z",
     "start_time": "2024-04-11T10:41:54.452440Z"
    }
   },
   "cell_type": "code",
   "source": "a = a + 1",
   "id": "6e6658524f137bc4",
   "outputs": [],
   "execution_count": 9
  },
  {
   "metadata": {
    "ExecuteTime": {
     "end_time": "2024-04-11T10:41:55.888102Z",
     "start_time": "2024-04-11T10:41:55.884064Z"
    }
   },
   "cell_type": "code",
   "source": "a + b",
   "id": "7ad442edb5dd050c",
   "outputs": [
    {
     "data": {
      "text/plain": [
       "14"
      ]
     },
     "execution_count": 10,
     "metadata": {},
     "output_type": "execute_result"
    }
   ],
   "execution_count": 10
  },
  {
   "metadata": {},
   "cell_type": "markdown",
   "source": "You can execute them in the wrong order or overwrite variables, which leads to the same effect.",
   "id": "1650d061793262d2"
  },
  {
   "metadata": {
    "ExecuteTime": {
     "end_time": "2024-04-11T10:42:07.797458Z",
     "start_time": "2024-04-11T10:42:07.794501Z"
    }
   },
   "cell_type": "code",
   "source": "d = 5",
   "id": "60c3052ef891a6e3",
   "outputs": [],
   "execution_count": 11
  },
  {
   "metadata": {
    "ExecuteTime": {
     "end_time": "2024-04-11T10:41:37.749673Z",
     "start_time": "2024-04-11T10:41:37.748069Z"
    }
   },
   "cell_type": "code",
   "source": "d = 10",
   "id": "14d2dd5636cdd77b",
   "outputs": [],
   "execution_count": 5
  },
  {
   "metadata": {
    "ExecuteTime": {
     "end_time": "2024-04-11T10:42:09.332514Z",
     "start_time": "2024-04-11T10:42:09.327890Z"
    }
   },
   "cell_type": "code",
   "source": "d",
   "id": "5d251aa9ea88a0d3",
   "outputs": [
    {
     "data": {
      "text/plain": [
       "5"
      ]
     },
     "execution_count": 12,
     "metadata": {},
     "output_type": "execute_result"
    }
   ],
   "execution_count": 12
  },
  {
   "metadata": {},
   "cell_type": "markdown",
   "source": "You can see that cells were executed in the wrong order, repeatedly or not subsequently, by reading the number `[?]` left to the cell.",
   "id": "4b54c88431da0ae4"
  },
  {
   "metadata": {},
   "cell_type": "markdown",
   "source": "![](cell_execution_number.png)",
   "id": "bcd0aefa0ec96d2"
  },
  {
   "metadata": {},
   "cell_type": "markdown",
   "source": "Tip: When your notebook is ready, click on menu `Kernel > Restart & Run all` to make sure all cells in the notebook are executed in the right order.",
   "id": "776e26ddfb7803f5"
  }
 ],
 "metadata": {
  "kernelspec": {
   "display_name": "Python 3",
   "language": "python",
   "name": "python3"
  },
  "language_info": {
   "codemirror_mode": {
    "name": "ipython",
    "version": 2
   },
   "file_extension": ".py",
   "mimetype": "text/x-python",
   "name": "python",
   "nbconvert_exporter": "python",
   "pygments_lexer": "ipython2",
   "version": "2.7.6"
  }
 },
 "nbformat": 4,
 "nbformat_minor": 5
}
