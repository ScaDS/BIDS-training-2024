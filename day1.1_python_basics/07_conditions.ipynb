{
 "cells": [
  {
   "metadata": {},
   "cell_type": "markdown",
   "source": [
    "# Conditions\n",
    "The `if` statement (a control flow tool), followed by an expression, can be used to execute code conditionally. That means only if that expression is `True`. For such expressions, logical operators from mathematics can be used.\n",
    "\n",
    "See also:\n",
    "* [if…elif…else in Python](https://www.w3schools.com/python/python_conditions.asp)\n",
    "* [Control Flow Tools](https://docs.python.org/3/tutorial/controlflow.html)\n",
    "\n",
    "Let's take a look at some expressions first:"
   ],
   "id": "e456198d5d4d92d9"
  },
  {
   "metadata": {
    "ExecuteTime": {
     "end_time": "2024-04-11T10:43:41.819135Z",
     "start_time": "2024-04-11T10:43:41.814946Z"
    }
   },
   "cell_type": "code",
   "source": [
    "a = 3\n",
    "b = 4"
   ],
   "id": "fead1aa191091a4d",
   "outputs": [],
   "execution_count": 1
  },
  {
   "metadata": {
    "ExecuteTime": {
     "end_time": "2024-04-11T10:43:41.823367Z",
     "start_time": "2024-04-11T10:43:41.820254Z"
    }
   },
   "cell_type": "code",
   "source": [
    "# equal\n",
    "a == b"
   ],
   "id": "a26714477290f025",
   "outputs": [
    {
     "data": {
      "text/plain": [
       "False"
      ]
     },
     "execution_count": 2,
     "metadata": {},
     "output_type": "execute_result"
    }
   ],
   "execution_count": 2
  },
  {
   "metadata": {
    "ExecuteTime": {
     "end_time": "2024-04-11T10:43:41.826257Z",
     "start_time": "2024-04-11T10:43:41.824103Z"
    }
   },
   "cell_type": "code",
   "source": [
    "# not equal\n",
    "a != b"
   ],
   "id": "246c70df03438fbe",
   "outputs": [
    {
     "data": {
      "text/plain": [
       "True"
      ]
     },
     "execution_count": 3,
     "metadata": {},
     "output_type": "execute_result"
    }
   ],
   "execution_count": 3
  },
  {
   "metadata": {
    "ExecuteTime": {
     "end_time": "2024-04-11T10:43:41.828736Z",
     "start_time": "2024-04-11T10:43:41.826905Z"
    }
   },
   "cell_type": "code",
   "source": [
    "# greater\n",
    "a > b"
   ],
   "id": "3c45f221717af60d",
   "outputs": [
    {
     "data": {
      "text/plain": [
       "False"
      ]
     },
     "execution_count": 4,
     "metadata": {},
     "output_type": "execute_result"
    }
   ],
   "execution_count": 4
  },
  {
   "metadata": {
    "ExecuteTime": {
     "end_time": "2024-04-11T10:43:41.832112Z",
     "start_time": "2024-04-11T10:43:41.830174Z"
    }
   },
   "cell_type": "code",
   "source": [
    "# less\n",
    "a < b"
   ],
   "id": "507f089aacb5528d",
   "outputs": [
    {
     "data": {
      "text/plain": [
       "True"
      ]
     },
     "execution_count": 5,
     "metadata": {},
     "output_type": "execute_result"
    }
   ],
   "execution_count": 5
  },
  {
   "metadata": {
    "ExecuteTime": {
     "end_time": "2024-04-11T10:43:41.834280Z",
     "start_time": "2024-04-11T10:43:41.832529Z"
    }
   },
   "cell_type": "code",
   "source": [
    "# greater equal\n",
    "a >= b"
   ],
   "id": "c131954bb073a3c1",
   "outputs": [
    {
     "data": {
      "text/plain": [
       "False"
      ]
     },
     "execution_count": 6,
     "metadata": {},
     "output_type": "execute_result"
    }
   ],
   "execution_count": 6
  },
  {
   "metadata": {
    "ExecuteTime": {
     "end_time": "2024-04-11T10:43:41.836545Z",
     "start_time": "2024-04-11T10:43:41.834857Z"
    }
   },
   "cell_type": "code",
   "source": [
    "# less equal\n",
    "a <= b"
   ],
   "id": "9d43b113a06700ac",
   "outputs": [
    {
     "data": {
      "text/plain": [
       "True"
      ]
     },
     "execution_count": 7,
     "metadata": {},
     "output_type": "execute_result"
    }
   ],
   "execution_count": 7
  },
  {
   "metadata": {},
   "cell_type": "markdown",
   "source": [
    "## The `if` statement\n",
    "\n",
    "After using `if` in combination with an expression, you need to put a colon `:`. The following code for execution must be indented:"
   ],
   "id": "ff0cad91ea30b97"
  },
  {
   "metadata": {
    "ExecuteTime": {
     "end_time": "2024-04-11T10:43:41.838757Z",
     "start_time": "2024-04-11T10:43:41.837123Z"
    }
   },
   "cell_type": "code",
   "source": [
    "if 3 < 4:\n",
    "    print(\"Math is great.\")"
   ],
   "id": "93166e4171c9781d",
   "outputs": [
    {
     "name": "stdout",
     "output_type": "stream",
     "text": [
      "Math is great.\n"
     ]
    }
   ],
   "execution_count": 8
  },
  {
   "metadata": {
    "ExecuteTime": {
     "end_time": "2024-04-11T10:43:41.840675Z",
     "start_time": "2024-04-11T10:43:41.839317Z"
    }
   },
   "cell_type": "code",
   "source": [
    "if 3 > 4:\n",
    "    print(\"Math is weird.\")"
   ],
   "id": "1588d198e2903c50",
   "outputs": [],
   "execution_count": 9
  },
  {
   "metadata": {},
   "cell_type": "markdown",
   "source": "You can also write more sophisticated expressions using `and` and `or`:",
   "id": "fac0af8b5f454c74"
  },
  {
   "metadata": {
    "ExecuteTime": {
     "end_time": "2024-04-11T10:43:41.842814Z",
     "start_time": "2024-04-11T10:43:41.841264Z"
    }
   },
   "cell_type": "code",
   "source": [
    "c = 10\n",
    "\n",
    "if (c > 4) and (c < 20):\n",
    "    print(\"C is between 4 and 20.\")"
   ],
   "id": "5602616047ad32e",
   "outputs": [
    {
     "name": "stdout",
     "output_type": "stream",
     "text": [
      "C is between 4 and 20.\n"
     ]
    }
   ],
   "execution_count": 10
  },
  {
   "metadata": {},
   "cell_type": "markdown",
   "source": "If you want to check if an element is in an array, do it like this:",
   "id": "39c0802b47e9061a"
  },
  {
   "metadata": {
    "ExecuteTime": {
     "end_time": "2024-04-11T10:43:41.844724Z",
     "start_time": "2024-04-11T10:43:41.843277Z"
    }
   },
   "cell_type": "code",
   "source": [
    "animals = ['cat', 'dog', 'mouse']\n",
    "\n",
    "if 'cat' in animals:\n",
    "    print('Our list of animals contains a cat')"
   ],
   "id": "b1ca87b46accb330",
   "outputs": [
    {
     "name": "stdout",
     "output_type": "stream",
     "text": [
      "Our list of animals contains a cat\n"
     ]
    }
   ],
   "execution_count": 11
  },
  {
   "metadata": {},
   "cell_type": "markdown",
   "source": "You can also analyse strings. For example, check if they start or end with certain characters:",
   "id": "ba99f6371edbc5ce"
  },
  {
   "metadata": {
    "ExecuteTime": {
     "end_time": "2024-04-11T10:43:41.846738Z",
     "start_time": "2024-04-11T10:43:41.845314Z"
    }
   },
   "cell_type": "code",
   "source": [
    "filename = \"cells.tif\"\n",
    "\n",
    "if filename.endswith(\"tif\"):\n",
    "    print(\"The file is an image!\")"
   ],
   "id": "f295076376182578",
   "outputs": [
    {
     "name": "stdout",
     "output_type": "stream",
     "text": [
      "The file is an image!\n"
     ]
    }
   ],
   "execution_count": 12
  },
  {
   "metadata": {},
   "cell_type": "markdown",
   "source": [
    "## The `if-else` statement\n",
    "If you have two different blocks of code that should be executed alternatively, use `if-else`:"
   ],
   "id": "48b6c51a19b88907"
  },
  {
   "metadata": {
    "ExecuteTime": {
     "end_time": "2024-04-11T10:43:41.849013Z",
     "start_time": "2024-04-11T10:43:41.847319Z"
    }
   },
   "cell_type": "code",
   "source": [
    "quality_in_percent = 89\n",
    "\n",
    "if quality_in_percent > 90:    \n",
    "    print(\"Our quality is high enough.\")\n",
    "else:\n",
    "    print(\"We need to improve our quality.\")"
   ],
   "id": "f816a04a9f40ef1e",
   "outputs": [
    {
     "name": "stdout",
     "output_type": "stream",
     "text": [
      "We need to improve our quality.\n"
     ]
    }
   ],
   "execution_count": 13
  },
  {
   "metadata": {},
   "cell_type": "markdown",
   "source": [
    "## The `elif` statement\n",
    "\n",
    "For executing code depending on multiple conditions, use the elif-statement:"
   ],
   "id": "761b744bb43d21eb"
  },
  {
   "metadata": {
    "ExecuteTime": {
     "end_time": "2024-04-11T10:43:41.853316Z",
     "start_time": "2024-04-11T10:43:41.851201Z"
    }
   },
   "cell_type": "code",
   "source": [
    "# determining the exam grade depending on \n",
    "number_of_correct_points = 23\n",
    "number_of_total_points = 30\n",
    "\n",
    "# compute percentage\n",
    "percentage = number_of_correct_points / number_of_total_points * 100\n",
    "\n",
    "if percentage > 95:\n",
    "    grade = 1\n",
    "elif percentage > 80:\n",
    "    grade = 2\n",
    "elif percentage > 60:\n",
    "    grade = 3\n",
    "elif percentag > 50:\n",
    "    grade = 4\n",
    "else:\n",
    "    grade = 5\n",
    "    \n",
    "print(\"You scored\", number_of_correct_points, \"out of\", number_of_total_points)\n",
    "print(\"Your grade is\", grade)"
   ],
   "id": "69a84640af8a5a3",
   "outputs": [
    {
     "name": "stdout",
     "output_type": "stream",
     "text": [
      "You scored 23 out of 30\n",
      "Your grade is 3\n"
     ]
    }
   ],
   "execution_count": 14
  },
  {
   "metadata": {},
   "cell_type": "markdown",
   "source": [
    "## Exercise\n",
    "\n",
    "Write python code that prints out the daytime, e.g. \"morning\", \"noon\", \"afternoon\", \"evening\", and \"night\" depending on a given time."
   ],
   "id": "ca27022aa19dd63f"
  },
  {
   "metadata": {
    "ExecuteTime": {
     "end_time": "2024-04-11T10:43:41.855292Z",
     "start_time": "2024-04-11T10:43:41.853916Z"
    }
   },
   "cell_type": "code",
   "source": [
    "# it's 12:15\n",
    "time_hours = 12\n",
    "time_minutes = 15"
   ],
   "id": "43ceb5798723dfc5",
   "outputs": [],
   "execution_count": 15
  },
  {
   "metadata": {
    "ExecuteTime": {
     "end_time": "2024-04-11T10:43:41.856999Z",
     "start_time": "2024-04-11T10:43:41.855881Z"
    }
   },
   "cell_type": "code",
   "source": "",
   "id": "b173249364a03ea9",
   "outputs": [],
   "execution_count": 15
  }
 ],
 "metadata": {
  "kernelspec": {
   "display_name": "Python 3",
   "language": "python",
   "name": "python3"
  },
  "language_info": {
   "codemirror_mode": {
    "name": "ipython",
    "version": 2
   },
   "file_extension": ".py",
   "mimetype": "text/x-python",
   "name": "python",
   "nbconvert_exporter": "python",
   "pygments_lexer": "ipython2",
   "version": "2.7.6"
  }
 },
 "nbformat": 4,
 "nbformat_minor": 5
}
