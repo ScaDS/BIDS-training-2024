{
 "cells": [
  {
   "metadata": {},
   "cell_type": "markdown",
   "source": [
    "# Loops\n",
    "Often, code blocks need to be executed repeatedly. In notebooks, we just may execute a code cell at the desired times. But it's better to use loops, also part of the control flow tools.\n",
    "\n",
    "See also:\n",
    "* [Control Flow Tools](https://docs.python.org/3/tutorial/controlflow.html)\n",
    "* [Python For Loops](https://www.w3schools.com/python/python_for_loops.asp)\n",
    "* [Python While Loops](https://www.w3schools.com/python/python_while_loops.asp)"
   ],
   "id": "e858ef6bffaaf846"
  },
  {
   "metadata": {},
   "cell_type": "markdown",
   "source": [
    "\n",
    "## For loops\n",
    "\n",
    "For looping over a range of numbers, we can use a simple `for` loop and the `range` function. The `range` function helps to easily define the number of loop executions.\n",
    "\n",
    "In the following cell, the `print(i)` command will be executed a couple of times for different values of `i`. We iterate over a range of values. Like for the `if` statement, the to-be executed code block needs to be intended. Also remember that the defined end in a range is not inclusive:"
   ],
   "id": "a9e5b49d57de0774"
  },
  {
   "metadata": {
    "ExecuteTime": {
     "end_time": "2024-04-11T10:43:58.452463Z",
     "start_time": "2024-04-11T10:43:58.447491Z"
    }
   },
   "cell_type": "code",
   "source": [
    "for i in range(0, 5):\n",
    "    print(i)"
   ],
   "id": "8278a0035365d78",
   "outputs": [
    {
     "name": "stdout",
     "output_type": "stream",
     "text": [
      "0\n",
      "1\n",
      "2\n",
      "3\n",
      "4\n"
     ]
    }
   ],
   "execution_count": 1
  },
  {
   "metadata": {},
   "cell_type": "markdown",
   "source": "You can also loop over a range of numbers with a defined step, for example, step 3:",
   "id": "1dd86b008d8a3905"
  },
  {
   "metadata": {
    "ExecuteTime": {
     "end_time": "2024-04-11T10:43:58.471884Z",
     "start_time": "2024-04-11T10:43:58.469786Z"
    }
   },
   "cell_type": "code",
   "source": [
    "for i in range(0, 10, 3):\n",
    "    print(i)"
   ],
   "id": "fe177f0456b6d7ca",
   "outputs": [
    {
     "name": "stdout",
     "output_type": "stream",
     "text": [
      "0\n",
      "3\n",
      "6\n",
      "9\n"
     ]
    }
   ],
   "execution_count": 2
  },
  {
   "metadata": {},
   "cell_type": "markdown",
   "source": "Iterating over arrays allows you to do something with all array elements:",
   "id": "71d46c3b46ec907d"
  },
  {
   "metadata": {
    "ExecuteTime": {
     "end_time": "2024-04-11T10:43:58.474486Z",
     "start_time": "2024-04-11T10:43:58.472778Z"
    }
   },
   "cell_type": "code",
   "source": [
    "for animal in [\"Dog\", \"Cat\", \"Mouse\"]:\n",
    "    print(animal)"
   ],
   "id": "39df3387dd4139ac",
   "outputs": [
    {
     "name": "stdout",
     "output_type": "stream",
     "text": [
      "Dog\n",
      "Cat\n",
      "Mouse\n"
     ]
    }
   ],
   "execution_count": 3
  },
  {
   "metadata": {},
   "cell_type": "markdown",
   "source": "Using the built-in [`zip`](https://docs.python.org/3/library/functions.html#zip) function, we can iterate over two arrays in parallel, pair-wise like this:",
   "id": "89137de147d8338f"
  },
  {
   "metadata": {
    "ExecuteTime": {
     "end_time": "2024-04-11T10:43:58.477554Z",
     "start_time": "2024-04-11T10:43:58.475360Z"
    }
   },
   "cell_type": "code",
   "source": [
    "# going through arrays pair-wise\n",
    "measurement_1 = [1, 9, 7, 1, 2, 8, 9, 2, 1, 7, 8]\n",
    "measurement_2 = [4, 5, 5, 7, 4, 5, 4, 6, 6, 5, 4]\n",
    "\n",
    "for m_1, m_2 in zip(measurement_1, measurement_2):\n",
    "    print(\"Paired measurements: \" + str(m_1) + \" and \" + str(m_2))"
   ],
   "id": "bd00789e1c93f1fc",
   "outputs": [
    {
     "name": "stdout",
     "output_type": "stream",
     "text": [
      "Paired measurements: 1 and 4\n",
      "Paired measurements: 9 and 5\n",
      "Paired measurements: 7 and 5\n",
      "Paired measurements: 1 and 7\n",
      "Paired measurements: 2 and 4\n",
      "Paired measurements: 8 and 5\n",
      "Paired measurements: 9 and 4\n",
      "Paired measurements: 2 and 6\n",
      "Paired measurements: 1 and 6\n",
      "Paired measurements: 7 and 5\n",
      "Paired measurements: 8 and 4\n"
     ]
    }
   ],
   "execution_count": 4
  },
  {
   "metadata": {},
   "cell_type": "markdown",
   "source": "If we want to know the index of the element in the list as well, the built-in [`enumerate`](https://docs.python.org/3/library/functions.html#enumerate) function comes in handy:",
   "id": "329fe1c82013dd80"
  },
  {
   "metadata": {
    "ExecuteTime": {
     "end_time": "2024-04-11T10:43:58.479864Z",
     "start_time": "2024-04-11T10:43:58.478163Z"
    }
   },
   "cell_type": "code",
   "source": [
    "# numbering and iterating through collections\n",
    "for index, animal in enumerate([\"Dog\", \"Cat\", \"Mouse\"]):\n",
    "    print(f\"The animal number {index} in the list is {animal}\")\n"
   ],
   "id": "bc034ab7c0e9d3c2",
   "outputs": [
    {
     "name": "stdout",
     "output_type": "stream",
     "text": [
      "The animal number 0 in the list is Dog\n",
      "The animal number 1 in the list is Cat\n",
      "The animal number 2 in the list is Mouse\n"
     ]
    }
   ],
   "execution_count": 5
  },
  {
   "metadata": {},
   "cell_type": "markdown",
   "source": [
    "## Generating lists in loops\n",
    "\n",
    "We can generate lists using for loops. The conventional way of doing this involves multiple lines of code:"
   ],
   "id": "8307b2fcf99b14c9"
  },
  {
   "metadata": {
    "ExecuteTime": {
     "end_time": "2024-04-11T10:43:58.482902Z",
     "start_time": "2024-04-11T10:43:58.480928Z"
    }
   },
   "cell_type": "code",
   "source": [
    "# we start with an empty list\n",
    "numbers = []\n",
    "\n",
    "# and add elements\n",
    "for i in range(0, 5):\n",
    "    numbers.append(i * 2)\n",
    "    \n",
    "print(numbers)"
   ],
   "id": "9da75a0f097aa30f",
   "outputs": [
    {
     "name": "stdout",
     "output_type": "stream",
     "text": [
      "[0, 2, 4, 6, 8]\n"
     ]
    }
   ],
   "execution_count": 6
  },
  {
   "metadata": {},
   "cell_type": "markdown",
   "source": [
    "One can also write that shorter. The underlying concept is called [`generators`](https://docs.python.org/3/tutorial/classes.html#generators). \n",
    "This is also part of what the community calls \"_The Pythonic Way_\"—making use of available classes and concepts to write short, clean, and understandable code."
   ],
   "id": "dc9e030b65a14f90"
  },
  {
   "metadata": {
    "ExecuteTime": {
     "end_time": "2024-04-11T10:43:58.485469Z",
     "start_time": "2024-04-11T10:43:58.483645Z"
    }
   },
   "cell_type": "code",
   "source": [
    "numbers = [i * 2 for i in range(0, 5)]\n",
    "\n",
    "print(numbers)"
   ],
   "id": "488fcd981853dda7",
   "outputs": [
    {
     "name": "stdout",
     "output_type": "stream",
     "text": [
      "[0, 2, 4, 6, 8]\n"
     ]
    }
   ],
   "execution_count": 7
  },
  {
   "metadata": {},
   "cell_type": "markdown",
   "source": "The conventional combination involving an if-statement looks like this:",
   "id": "343604787f25bf9f"
  },
  {
   "metadata": {
    "ExecuteTime": {
     "end_time": "2024-04-11T10:43:58.488837Z",
     "start_time": "2024-04-11T10:43:58.487010Z"
    }
   },
   "cell_type": "code",
   "source": [
    "# we start with an empty list\n",
    "numbers = []\n",
    "\n",
    "# and add elements\n",
    "for i in range(0, 5):\n",
    "    # check if the number is odd\n",
    "    if i % 2:\n",
    "        numbers.append(i * 2)\n",
    "    \n",
    "print(numbers)"
   ],
   "id": "6cccb19ab7a5d457",
   "outputs": [
    {
     "name": "stdout",
     "output_type": "stream",
     "text": [
      "[2, 6]\n"
     ]
    }
   ],
   "execution_count": 8
  },
  {
   "metadata": {},
   "cell_type": "markdown",
   "source": "And the \"_Pythonic Way_\" like this:",
   "id": "a9a8f956495f19a8"
  },
  {
   "metadata": {
    "ExecuteTime": {
     "end_time": "2024-04-11T10:43:58.491795Z",
     "start_time": "2024-04-11T10:43:58.490264Z"
    }
   },
   "cell_type": "code",
   "source": [
    "numbers = [i * 2 for i in range(0, 5) if i % 2]\n",
    "\n",
    "print(numbers)"
   ],
   "id": "6e6ad5d522f2638d",
   "outputs": [
    {
     "name": "stdout",
     "output_type": "stream",
     "text": [
      "[2, 6]\n"
     ]
    }
   ],
   "execution_count": 9
  },
  {
   "metadata": {},
   "cell_type": "markdown",
   "source": [
    "## While loops\n",
    "\n",
    "Another way of looping is using the `while` loop. It checks a condition before each iteration, similar to the if statement. It will interrupt execution as soon as the condition is no longer true:"
   ],
   "id": "ce598600564da90f"
  },
  {
   "metadata": {
    "ExecuteTime": {
     "end_time": "2024-04-11T10:43:58.500965Z",
     "start_time": "2024-04-11T10:43:58.499192Z"
    }
   },
   "cell_type": "code",
   "source": [
    "number = 1024\n",
    "\n",
    "while (number > 1):\n",
    "    number = number / 2\n",
    "    print(number)"
   ],
   "id": "cf088e3267997361",
   "outputs": [
    {
     "name": "stdout",
     "output_type": "stream",
     "text": [
      "512.0\n",
      "256.0\n",
      "128.0\n",
      "64.0\n",
      "32.0\n",
      "16.0\n",
      "8.0\n",
      "4.0\n",
      "2.0\n",
      "1.0\n"
     ]
    }
   ],
   "execution_count": 10
  },
  {
   "metadata": {},
   "cell_type": "markdown",
   "source": [
    "## Interrupting loops\n",
    "\n",
    "You can interrupt loops at specific points in your code using the `break` command:"
   ],
   "id": "3e5102f329b9794c"
  },
  {
   "metadata": {
    "ExecuteTime": {
     "end_time": "2024-04-11T10:43:58.525890Z",
     "start_time": "2024-04-11T10:43:58.524219Z"
    }
   },
   "cell_type": "code",
   "source": [
    "for i in range(10):\n",
    "    print(i)\n",
    "    if i > 5:\n",
    "        break"
   ],
   "id": "2649ea8a5f31b059",
   "outputs": [
    {
     "name": "stdout",
     "output_type": "stream",
     "text": [
      "0\n",
      "1\n",
      "2\n",
      "3\n",
      "4\n",
      "5\n",
      "6\n"
     ]
    }
   ],
   "execution_count": 11
  },
  {
   "metadata": {
    "ExecuteTime": {
     "end_time": "2024-04-11T10:43:58.529172Z",
     "start_time": "2024-04-11T10:43:58.527441Z"
    }
   },
   "cell_type": "code",
   "source": [
    "number = 1024\n",
    "\n",
    "while (True):\n",
    "    number = number / 2\n",
    "    print(number)\n",
    "    \n",
    "    if number < 1:\n",
    "        break"
   ],
   "id": "7fa6572615fd5e1b",
   "outputs": [
    {
     "name": "stdout",
     "output_type": "stream",
     "text": [
      "512.0\n",
      "256.0\n",
      "128.0\n",
      "64.0\n",
      "32.0\n",
      "16.0\n",
      "8.0\n",
      "4.0\n",
      "2.0\n",
      "1.0\n",
      "0.5\n"
     ]
    }
   ],
   "execution_count": 12
  },
  {
   "metadata": {},
   "cell_type": "markdown",
   "source": [
    "## Skipping iterations in loops\n",
    "\n",
    "If you want to skip iterations, you can use the continue statement. That often makes sense in combination with an if:"
   ],
   "id": "1ad8d25ae8ba5ae3"
  },
  {
   "metadata": {
    "ExecuteTime": {
     "end_time": "2024-04-11T10:43:58.536335Z",
     "start_time": "2024-04-11T10:43:58.534502Z"
    }
   },
   "cell_type": "code",
   "source": [
    "for i in range(0, 10):\n",
    "    if (i >= 3) and (i <= 6):\n",
    "        continue\n",
    "    print(i)"
   ],
   "id": "4622722c1e6417d3",
   "outputs": [
    {
     "name": "stdout",
     "output_type": "stream",
     "text": [
      "0\n",
      "1\n",
      "2\n",
      "7\n",
      "8\n",
      "9\n"
     ]
    }
   ],
   "execution_count": 13
  },
  {
   "metadata": {},
   "cell_type": "markdown",
   "source": [
    "## Exercise 1\n",
    "\n",
    "Assume you have a list of filenames, and you want to do something with them, for example, print them out. Program a for loop which prints out all file names that end with \"tif\"."
   ],
   "id": "daf964593a158df6"
  },
  {
   "metadata": {
    "ExecuteTime": {
     "end_time": "2024-04-11T10:43:58.538626Z",
     "start_time": "2024-04-11T10:43:58.537143Z"
    }
   },
   "cell_type": "code",
   "source": "file_names = ['dataset1.tif', 'dataset2.tif', 'summary.csv', 'readme.md', 'blobs.tif']",
   "id": "abaa719b9c3fb9c5",
   "outputs": [],
   "execution_count": 14
  },
  {
   "metadata": {},
   "cell_type": "markdown",
   "source": "",
   "id": "f9801e280c1a5414"
  },
  {
   "metadata": {},
   "cell_type": "markdown",
   "source": [
    "## Exercise 2\n",
    "\n",
    "Assume you have a list of circle radii. Make a table (dictionary) with two columns: radius and area."
   ],
   "id": "8ac4f29a546467e4"
  },
  {
   "metadata": {
    "ExecuteTime": {
     "end_time": "2024-04-11T10:43:58.540912Z",
     "start_time": "2024-04-11T10:43:58.539467Z"
    }
   },
   "cell_type": "code",
   "source": "radii = [3, 15, 67, 33, 12, 8, 12, 9, 22]",
   "id": "f16ef02f1da10c64",
   "outputs": [],
   "execution_count": 15
  },
  {
   "metadata": {
    "ExecuteTime": {
     "end_time": "2024-04-11T10:43:58.542620Z",
     "start_time": "2024-04-11T10:43:58.541388Z"
    }
   },
   "cell_type": "code",
   "source": "",
   "id": "824bc09025db7ac3",
   "outputs": [],
   "execution_count": 15
  }
 ],
 "metadata": {
  "kernelspec": {
   "display_name": "Python 3",
   "language": "python",
   "name": "python3"
  },
  "language_info": {
   "codemirror_mode": {
    "name": "ipython",
    "version": 2
   },
   "file_extension": ".py",
   "mimetype": "text/x-python",
   "name": "python",
   "nbconvert_exporter": "python",
   "pygments_lexer": "ipython2",
   "version": "2.7.6"
  }
 },
 "nbformat": 4,
 "nbformat_minor": 5
}
