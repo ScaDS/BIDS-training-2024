{
 "cells": [
  {
   "metadata": {},
   "cell_type": "markdown",
   "source": [
    "# Masking NumPy arrays\n",
    "Masking is a term used for selecting entries in arrays via conditional / logical queries on the data. To do this, we need to use [numpy arrays](https://numpy.org/doc/stable/user/basics.creation.html). NumPy is a package for scientific computing and efficient numerical operations in Python. NumPy arrays (multidimensional, homogeneous arrays of fixed-size items) are the basic data structure. Per definition, they contain [numerical data types](https://numpy.org/doc/stable/user/basics.types.html) only.\n",
    "\n",
    "First, we define a NumPy array:"
   ],
   "id": "e3616f102d7eeb28"
  },
  {
   "metadata": {
    "ExecuteTime": {
     "end_time": "2024-04-11T10:43:12.141731Z",
     "start_time": "2024-04-11T10:43:11.945123Z"
    }
   },
   "cell_type": "code",
   "source": [
    "import numpy\n",
    "measurements = numpy.asarray([1, 17, 25, 3, 5, 25, 12])\n",
    "measurements"
   ],
   "id": "1e53c3f9c283de61",
   "outputs": [
    {
     "data": {
      "text/plain": [
       "array([ 1, 17, 25,  3,  5, 25, 12])"
      ]
     },
     "execution_count": 1,
     "metadata": {},
     "output_type": "execute_result"
    }
   ],
   "execution_count": 1
  },
  {
   "metadata": {
    "ExecuteTime": {
     "end_time": "2024-04-11T10:43:12.145019Z",
     "start_time": "2024-04-11T10:43:12.142752Z"
    }
   },
   "cell_type": "code",
   "source": "type(measurements)",
   "id": "7d0360a2aade1cb5",
   "outputs": [
    {
     "data": {
      "text/plain": [
       "numpy.ndarray"
      ]
     },
     "execution_count": 2,
     "metadata": {},
     "output_type": "execute_result"
    }
   ],
   "execution_count": 2
  },
  {
   "metadata": {
    "ExecuteTime": {
     "end_time": "2024-04-11T10:43:12.148083Z",
     "start_time": "2024-04-11T10:43:12.145872Z"
    }
   },
   "cell_type": "code",
   "source": "measurements.dtype",
   "id": "59c35741a76b2e3d",
   "outputs": [
    {
     "data": {
      "text/plain": [
       "dtype('int64')"
      ]
     },
     "execution_count": 3,
     "metadata": {},
     "output_type": "execute_result"
    }
   ],
   "execution_count": 3
  },
  {
   "metadata": {},
   "cell_type": "markdown",
   "source": "Next, we create the mask, e.g., the condition for all measurements that are above a given threshold:",
   "id": "824fc716cfb0240b"
  },
  {
   "metadata": {
    "ExecuteTime": {
     "end_time": "2024-04-11T10:43:12.151182Z",
     "start_time": "2024-04-11T10:43:12.148781Z"
    }
   },
   "cell_type": "code",
   "source": [
    "mask = measurements > 10\n",
    "mask"
   ],
   "id": "f2850a961f09f26f",
   "outputs": [
    {
     "data": {
      "text/plain": [
       "array([False,  True,  True, False, False,  True,  True])"
      ]
     },
     "execution_count": 4,
     "metadata": {},
     "output_type": "execute_result"
    }
   ],
   "execution_count": 4
  },
  {
   "metadata": {},
   "cell_type": "markdown",
   "source": "We can now apply that mask via `[]`operator to our data to retrieve a new array that only contains masked values.",
   "id": "2edc256f1607ea77"
  },
  {
   "metadata": {
    "ExecuteTime": {
     "end_time": "2024-04-11T10:43:12.154605Z",
     "start_time": "2024-04-11T10:43:12.152479Z"
    }
   },
   "cell_type": "code",
   "source": "measurements[mask]",
   "id": "38c1d16ae1450b30",
   "outputs": [
    {
     "data": {
      "text/plain": [
       "array([17, 25, 25, 12])"
      ]
     },
     "execution_count": 5,
     "metadata": {},
     "output_type": "execute_result"
    }
   ],
   "execution_count": 5
  },
  {
   "metadata": {},
   "cell_type": "markdown",
   "source": "All this can also be done in one line. In addition, more complex conditions can be defined with logical operators like `&` (and) or `|` (or), where combined conditions must be separated by parentheses `()`. ",
   "id": "80c1e42f418fa53a"
  },
  {
   "metadata": {
    "ExecuteTime": {
     "end_time": "2024-04-11T10:43:12.157510Z",
     "start_time": "2024-04-11T10:43:12.155237Z"
    }
   },
   "cell_type": "code",
   "source": "measurements[(measurements > 10) & (measurements < 20)]",
   "id": "3bbdc908ee9a0275",
   "outputs": [
    {
     "data": {
      "text/plain": [
       "array([17, 12])"
      ]
     },
     "execution_count": 6,
     "metadata": {},
     "output_type": "execute_result"
    }
   ],
   "execution_count": 6
  },
  {
   "metadata": {},
   "cell_type": "markdown",
   "source": [
    "## Exercises\n",
    "Use masking to select all measurements equal 25"
   ],
   "id": "b530e01ce28058f0"
  },
  {
   "metadata": {
    "ExecuteTime": {
     "end_time": "2024-04-11T10:43:12.159263Z",
     "start_time": "2024-04-11T10:43:12.158110Z"
    }
   },
   "cell_type": "code",
   "source": "",
   "id": "d249d16d238350fe",
   "outputs": [],
   "execution_count": 6
  },
  {
   "metadata": {},
   "cell_type": "markdown",
   "source": [
    "\n",
    "\n",
    "Use masking to select all measurements equal and below 5 or above 20"
   ],
   "id": "156a53529fc091f3"
  },
  {
   "metadata": {
    "ExecuteTime": {
     "end_time": "2024-04-11T10:43:12.161178Z",
     "start_time": "2024-04-11T10:43:12.159891Z"
    }
   },
   "cell_type": "code",
   "source": "",
   "id": "115fb17fbdaf4b1",
   "outputs": [],
   "execution_count": 6
  }
 ],
 "metadata": {
  "kernelspec": {
   "display_name": "Python 3",
   "language": "python",
   "name": "python3"
  },
  "language_info": {
   "codemirror_mode": {
    "name": "ipython",
    "version": 2
   },
   "file_extension": ".py",
   "mimetype": "text/x-python",
   "name": "python",
   "nbconvert_exporter": "python",
   "pygments_lexer": "ipython2",
   "version": "2.7.6"
  }
 },
 "nbformat": 4,
 "nbformat_minor": 5
}
