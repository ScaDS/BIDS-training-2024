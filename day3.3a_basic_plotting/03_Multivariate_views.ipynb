{
 "cells": [
  {
   "cell_type": "markdown",
   "id": "3b84ddbc-2079-48c9-a38b-b0a34abd6d27",
   "metadata": {
    "pycharm": {
     "name": "#%% md\n"
    }
   },
   "source": [
    "# Multivariate views"
   ]
  },
  {
   "cell_type": "markdown",
   "id": "23618ebe-f01c-47b9-aa85-ce4ad6d01619",
   "metadata": {
    "pycharm": {
     "name": "#%% md\n"
    }
   },
   "source": [
    "In this notebook, we show a few examples of how to have plots with graphs of different types in a figure, like having a scatter plot with marginal distributions or even a multivariate plot with pair relationships of all properties in a table."
   ]
  },
  {
   "cell_type": "code",
   "execution_count": null,
   "id": "ec137599-b8bd-4666-b5f7-13e94243b50e",
   "metadata": {
    "pycharm": {
     "name": "#%%\n"
    }
   },
   "outputs": [],
   "source": [
    "import pandas as pd\n",
    "import seaborn as sns\n",
    "sns.set_theme()"
   ]
  },
  {
   "cell_type": "markdown",
   "id": "88932903-b980-42a3-b6e8-3f42327735c6",
   "metadata": {
    "pycharm": {
     "name": "#%% md\n"
    }
   },
   "source": [
    "Let's load the same dataframe."
   ]
  },
  {
   "cell_type": "code",
   "execution_count": null,
   "id": "c0a502d8-9181-47b4-8e6b-63b37ed3a8d4",
   "metadata": {
    "pycharm": {
     "name": "#%%\n"
    }
   },
   "outputs": [],
   "source": [
    "df = pd.read_csv(\"../data/BBBC007_analysis.csv\")\n",
    "df.head()"
   ]
  },
  {
   "cell_type": "markdown",
   "id": "ed4b3c99-c91c-46e5-b83f-0767205dfca5",
   "metadata": {
    "pycharm": {
     "name": "#%% md\n"
    }
   },
   "source": [
    "## Plotting joint and marginal distributions"
   ]
  },
  {
   "cell_type": "markdown",
   "id": "a14bad1a-c992-4fc3-8da9-8a9e07e1560b",
   "metadata": {
    "pycharm": {
     "name": "#%% md\n"
    }
   },
   "source": [
    "To have a joint distribution of two variables with the marginal distributions on the sides, we can use `jointplot`."
   ]
  },
  {
   "cell_type": "code",
   "execution_count": null,
   "id": "f6ca04a6-23b7-4851-8089-1faa8d02c000",
   "metadata": {
    "pycharm": {
     "name": "#%%\n"
    }
   },
   "outputs": [],
   "source": [
    "sns.jointplot(data=df,\n",
    "              x=\"aspect_ratio\",\n",
    "              y=\"area\");"
   ]
  },
  {
   "cell_type": "markdown",
   "id": "3f400c05-00e1-4295-9681-857871b6be51",
   "metadata": {
    "pycharm": {
     "name": "#%% md\n"
    }
   },
   "source": [
    "As expected, it is possible to separate groups by passing a categorical property to the `hue` argument. This has an effect on the marginal distribution, turning them from histogram to kde plots."
   ]
  },
  {
   "cell_type": "code",
   "execution_count": null,
   "id": "3e9fcfc2-8634-4f80-b361-538c5e084117",
   "metadata": {
    "pycharm": {
     "name": "#%%\n"
    }
   },
   "outputs": [],
   "source": [
    "sns.jointplot(data=df,\n",
    "              x=\"aspect_ratio\",\n",
    "              y=\"area\",\n",
    "              hue='file_name');"
   ]
  },
  {
   "cell_type": "markdown",
   "id": "d180362a-29a1-42b5-8734-bf23ef5f1442",
   "metadata": {
    "pycharm": {
     "name": "#%% md\n"
    }
   },
   "source": [
    "## Plotting many distributions at once"
   ]
  },
  {
   "cell_type": "markdown",
   "id": "165c2544-3086-486d-b9a4-0f4eeb83e2ed",
   "metadata": {
    "pycharm": {
     "name": "#%% md\n"
    }
   },
   "source": [
    "The above examples displayed a plot with relationship between two variables. This can be further expanded with the `pairplot` function which displays the relationship between all variables in a table. The result is a matrix of scatter plots with an univariate distribution of each variable on the diagonal."
   ]
  },
  {
   "cell_type": "code",
   "execution_count": null,
   "id": "c25b9980-1525-4500-ae37-c6ad8550da77",
   "metadata": {
    "pycharm": {
     "name": "#%%\n"
    }
   },
   "outputs": [],
   "source": [
    "sns.pairplot(data=df);"
   ]
  },
  {
   "cell_type": "markdown",
   "source": [
    "As in the former examples, we can separate the groups by passing a categorical property to the `hue` argument."
   ],
   "metadata": {
    "collapsed": false,
    "pycharm": {
     "name": "#%% md\n"
    }
   }
  },
  {
   "cell_type": "code",
   "execution_count": null,
   "id": "c9b2cd94-b738-4c18-b30a-c2b5bcb5fc32",
   "metadata": {
    "pycharm": {
     "name": "#%%\n"
    }
   },
   "outputs": [],
   "source": [
    "sns.pairplot(data=df,\n",
    "             hue=\"file_name\");"
   ]
  },
  {
   "cell_type": "markdown",
   "id": "adc9dfae-4165-491c-8854-249a3ec03a8b",
   "metadata": {
    "pycharm": {
     "name": "#%% md\n"
    }
   },
   "source": [
    "If you have too many points, displaying every single point may yield graphs too poluted. An alternative visualization in this case could be a 2D histogram plot. We can do that by changing the `kind` argument to \"hist\". With this, each subplot describes the bivariate relationships between different pairs of variables. Essentially, it offers a heat-map-like view, where the intersection of intervals between two variables shows the density of data points."
   ]
  },
  {
   "cell_type": "code",
   "execution_count": null,
   "id": "99eace07-edbf-4d1f-adf4-d286561a04bd",
   "metadata": {
    "pycharm": {
     "name": "#%%\n"
    }
   },
   "outputs": [],
   "source": [
    "sns.pairplot(data=df,\n",
    "             hue=\"file_name\",\n",
    "             kind=\"hist\");"
   ]
  },
  {
   "cell_type": "markdown",
   "source": [
    "---"
   ],
   "metadata": {
    "collapsed": false,
    "pycharm": {
     "name": "#%% md\n"
    }
   }
  },
  {
   "cell_type": "markdown",
   "id": "0e4abd4d-743d-49e4-a05b-0e5b84cca506",
   "metadata": {
    "pycharm": {
     "name": "#%% md\n"
    }
   },
   "source": [
    "## Exercise 4"
   ]
  },
  {
   "cell_type": "markdown",
   "id": "0351b141-d20a-4629-b6b5-906b70f17b0d",
   "metadata": {
    "pycharm": {
     "name": "#%% md\n"
    }
   },
   "source": [
    "You may have noticed that the `pairplot` is redundant in some plots because the upper diagonal displays the same relationships rotated.\n",
    "\n",
    "Redraw the `pairplot` to display only the lower diagonal of the plots.\n",
    "\n",
    "*Hint: explore the properties of the [`pairplot`](https://seaborn.pydata.org/generated/seaborn.pairplot.html#seaborn.pairplot).*"
   ]
  },
  {
   "cell_type": "code",
   "execution_count": null,
   "id": "bd2d2a5b",
   "metadata": {
    "pycharm": {
     "name": "#%%\n"
    }
   },
   "outputs": [],
   "source": [
    "# Your code here\n"
   ]
  }
 ],
 "metadata": {
  "kernelspec": {
   "display_name": "Python 3 (ipykernel)",
   "language": "python",
   "name": "python3"
  },
  "language_info": {
   "codemirror_mode": {
    "name": "ipython",
    "version": 3
   },
   "file_extension": ".py",
   "mimetype": "text/x-python",
   "name": "python",
   "nbconvert_exporter": "python",
   "pygments_lexer": "ipython3",
   "version": "3.9.18"
  }
 },
 "nbformat": 4,
 "nbformat_minor": 5
}