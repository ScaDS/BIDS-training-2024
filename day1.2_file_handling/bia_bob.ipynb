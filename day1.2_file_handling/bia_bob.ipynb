{
 "cells": [
  {
   "cell_type": "markdown",
   "id": "13d3a582-f479-408a-8a7e-37d928949e0d",
   "metadata": {},
   "source": [
    "# Coding assistance\n",
    "Writing code for simple tasks such as showing images or iterating over files in a folder can be time-consuming. Generative artificial intelligence tools such as [github copilot]() or [bia-bob]() can help out. In this notebook we will demonstrate how to use bia-bob, a coding assistant specialized in bio-image analysis."
   ]
  },
  {
   "cell_type": "code",
   "execution_count": 1,
   "id": "4dbec23f-4c29-4123-bcd9-68a5592b3c63",
   "metadata": {},
   "outputs": [],
   "source": [
    "## The following cells might be necessary if you run this code on your computer. \n",
    "## Ask a trainer for the key to enter at ... \n",
    "# import os\n",
    "# os.environ['OPENAI_API_KEY'] = 'sk-...'"
   ]
  },
  {
   "cell_type": "markdown",
   "id": "72003b1b-493b-44f1-9e99-c67d1a2bc169",
   "metadata": {},
   "source": [
    "You can initialize bia-bob like this."
   ]
  },
  {
   "cell_type": "code",
   "execution_count": 2,
   "id": "b7ac23c0-afd8-468f-9a2e-a975324a52d7",
   "metadata": {
    "tags": []
   },
   "outputs": [],
   "source": [
    "import bia_bob"
   ]
  },
  {
   "cell_type": "markdown",
   "id": "ef4e1040-a9d5-4bfd-9189-815fc7528857",
   "metadata": {},
   "source": [
    "Afterwards, you ask for assistance by writing `%bob` in front of an English prompt. Bob will generate code right below the cell."
   ]
  },
  {
   "cell_type": "code",
   "execution_count": 3,
   "id": "17c8334d-2590-4a8b-96d4-84c674eafe98",
   "metadata": {},
   "outputs": [
    {
     "data": {
      "text/markdown": [
       "I will load an image named `blobs.tif` from disk and display it.\n",
       "\n"
      ],
      "text/plain": [
       "<IPython.core.display.Markdown object>"
      ]
     },
     "metadata": {},
     "output_type": "display_data"
    }
   ],
   "source": [
    "%bob load blobs.tif and show it"
   ]
  },
  {
   "cell_type": "code",
   "execution_count": null,
   "id": "da498b08-bf5b-49a4-ab4a-99cbc0493163",
   "metadata": {},
   "outputs": [],
   "source": [
    "from skimage.io import imread\n",
    "import stackview\n",
    "\n",
    "# Load image from disk\n",
    "image_blobs = imread('blobs.tif')\n",
    "\n",
    "# Display the image\n",
    "stackview.insight(image_blobs)"
   ]
  },
  {
   "cell_type": "markdown",
   "id": "a1dd8a20-6234-43b7-a8c7-63271885d4ad",
   "metadata": {},
   "source": [
    "If your task is more complex, you can write multi-line prompts behind ´%%bob´. The more details you provide, e.g. which libraries and functions Bob should use, will make the code fit better to what you expect."
   ]
  },
  {
   "cell_type": "code",
   "execution_count": 4,
   "id": "c46b0b53-c04d-4c0c-a8fa-295cadc1eb1f",
   "metadata": {
    "tags": []
   },
   "outputs": [
    {
     "data": {
      "text/markdown": [
       "I will load all image files located in the folder `data_banana` and display each one using `skimage.io.imshow`.\n",
       "\n"
      ],
      "text/plain": [
       "<IPython.core.display.Markdown object>"
      ]
     },
     "metadata": {},
     "output_type": "display_data"
    }
   ],
   "source": [
    "%%bob\n",
    "For all image files in the folder ´data_banana´:\n",
    "* load the image\n",
    "* show the image using ´skimage.io.imshow´"
   ]
  },
  {
   "cell_type": "code",
   "execution_count": null,
   "id": "0bab61e2-f91a-4fd4-b9ce-dba2c61317ad",
   "metadata": {},
   "outputs": [],
   "source": [
    "import os\n",
    "from skimage.io import imread, imshow\n",
    "import matplotlib.pyplot as plt\n",
    "\n",
    "# Get a list of files in 'data_banana' directory\n",
    "directory_path = 'data_banana'\n",
    "file_list = os.listdir(directory_path)\n",
    "\n",
    "# Filter out files that are image files (common extensions)\n",
    "image_files = [f for f in file_list if f.endswith(('.tif', '.czi', '.png', '.jpg'))]\n",
    "\n",
    "# Load and display each image file\n",
    "for filename in image_files:\n",
    "    # Construct the full image path\n",
    "    file_path = os.path.join(directory_path, filename)\n",
    "    \n",
    "    # Load the image\n",
    "    img = imread(file_path)\n",
    "    \n",
    "    # Display the image\n",
    "    imshow(img)\n",
    "    plt.title(f\"Displaying image: {filename}\")\n",
    "    plt.show()"
   ]
  }
 ],
 "metadata": {
  "kernelspec": {
   "display_name": "Python 3 (ipykernel)",
   "language": "python",
   "name": "python3"
  },
  "language_info": {
   "codemirror_mode": {
    "name": "ipython",
    "version": 3
   },
   "file_extension": ".py",
   "mimetype": "text/x-python",
   "name": "python",
   "nbconvert_exporter": "python",
   "pygments_lexer": "ipython3",
   "version": "3.11.9"
  }
 },
 "nbformat": 4,
 "nbformat_minor": 5
}
