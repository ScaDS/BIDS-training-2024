{
 "cells": [
  {
   "cell_type": "markdown",
   "metadata": {},
   "source": [
    "# Part 2 Data exploration by unsupervised learning"
   ]
  },
  {
   "cell_type": "code",
   "execution_count": null,
   "metadata": {},
   "outputs": [],
   "source": [
    "import warnings\n",
    "warnings.simplefilter(action='ignore', category=FutureWarning) ## suppress annoying deprecation warnings\n",
    "\n",
    "import pandas as pd\n",
    "import seaborn.objects as so\n",
    "import seaborn as sns\n",
    "import matplotlib.pyplot as plt\n",
    "from matplotlib import style\n",
    "\n",
    "from sklearn.preprocessing import StandardScaler\n",
    "\n",
    "from sklearn.manifold import TSNE\n",
    "from sklearn.decomposition import PCA\n",
    "\n",
    "from sklearn.preprocessing import StandardScaler\n",
    "from sklearn.cluster import KMeans"
   ]
  },
  {
   "cell_type": "code",
   "execution_count": null,
   "metadata": {},
   "outputs": [],
   "source": [
    "# Renaming columns for better axis labels in plots\n",
    "col_rename = {\n",
    "\t'tavg': 'Temp_Avg_°C',\n",
    "\t'tmax': 'Temp_Max_°C',\n",
    "\t'tmin': 'Temp_Min_°C',\n",
    "\t'rhum': 'Rel_Humidity_%',\n",
    "\t'coco': 'Condition',\n",
    "\t'wspd': 'Wind_Speed_kmh',\n",
    "\t'prcp': 'Precipation_mm',\n",
    "\t'wdir': 'Wind_Direction_°',\n",
    "\t'pres': 'Air_pressure_hPa',\n",
    "\t'dwpt': 'Dew_point_°C'\n",
    "}"
   ]
  },
  {
   "cell_type": "code",
   "execution_count": null,
   "metadata": {},
   "outputs": [],
   "source": [
    "## Reload data\n",
    "weather_df = pd.read_csv('global_weather.csv', parse_dates=['time'], dtype={'wmo':str, 'station':str}) \n",
    "weather_df = weather_df.dropna()\n",
    "\n",
    "weather_df.rename(columns=col_rename, inplace=True)\n",
    "\n",
    "weather_df = weather_df.assign(Continent = weather_df[\"timezone\"].str.split('/').str[0])  ## Get continent from timezone column"
   ]
  },
  {
   "cell_type": "markdown",
   "metadata": {},
   "source": [
    "## Dimension reduction by PCA and t-SNE"
   ]
  },
  {
   "cell_type": "code",
   "execution_count": null,
   "metadata": {},
   "outputs": [],
   "source": [
    "weather_df.select_dtypes(include='number') ## Only on numerical attributes of weather data "
   ]
  },
  {
   "cell_type": "code",
   "execution_count": null,
   "metadata": {},
   "outputs": [],
   "source": [
    "scaler = StandardScaler().set_output(transform=\"pandas\") # Features need to be scaled for dimension reduction\n",
    "\n",
    "#!# weather_d2_tsne = TSNE(n_components=?, perplexity=100, random_state=42).fit_transform(\t\t\t## Define and perform dimension reduction\n",
    "\t\t\t\t\t\t\tscaler.fit_transform(weather_df.select_dtypes(include='number')) \t## Scale Data first; only numerical features can be used\n",
    "\t\t\t\t\t\t\t)\n",
    "#!# weather_d2_pca = PCA(n_components=?).fit_transform(\n",
    "\t\t\t\t\t\t\tscaler.fit_transform(weather_df.select_dtypes(include='number'))\n",
    "\t\t\t\t\t\t\t)\n",
    "\n",
    "weather_df = weather_df.assign(TSNE1= weather_d2_tsne[:,0]) ## Add as additional columns for easy plotting\n",
    "weather_df = weather_df.assign(TSNE2= weather_d2_tsne[:,1])\n",
    "\n",
    "weather_df = weather_df.assign(PC1= weather_d2_pca[:,0])\n",
    "weather_df = weather_df.assign(PC2= weather_d2_pca[:,1])"
   ]
  },
  {
   "cell_type": "markdown",
   "metadata": {},
   "source": [
    "## Scatter plots\n",
    "### (1) simple plot with no additional information"
   ]
  },
  {
   "cell_type": "code",
   "execution_count": null,
   "metadata": {},
   "outputs": [],
   "source": [
    "(\n",
    "    so.Plot(weather_df)\n",
    "#!# .pair(x=[\"TSNE1\",\"PC1\"], y=[\"TSNE2\",\"PC2\"], cross=??) # pair as cousin of facet (sharing of axes)\n",
    "    .layout(size=(12, 6))\n",
    "    .add(so.Dot())\n",
    ")"
   ]
  },
  {
   "cell_type": "markdown",
   "metadata": {},
   "source": [
    "### (2) After reducing to two dimension we can overlay with numerical and categorical features for exploration of potential clusters"
   ]
  },
  {
   "cell_type": "code",
   "execution_count": null,
   "metadata": {},
   "outputs": [],
   "source": [
    "(\n",
    "#!# so.Plot(weather_df, color=??)\n",
    "    .pair(x=[\"TSNE1\",\"PC1\"], y=[\"TSNE2\",\"PC2\"], cross=False)\n",
    "    .layout(size=(12, 6))\n",
    "    .add(so.Dot())\n",
    ")"
   ]
  },
  {
   "cell_type": "markdown",
   "metadata": {},
   "source": [
    "### (3) How about atmospheric pressure?"
   ]
  },
  {
   "cell_type": "markdown",
   "metadata": {},
   "source": [
    "Interestingly, intuitive color assignment for low/high pressure seems to be reversed in US (https://as1.ftcdn.net/v2/jpg/02/74/36/92/1000_F_274369230_Kvnl7UddxtOPCV0CDMwX6I0y6m1GezDo.jpg) compared to Germany (https://bluewhale.ch/wp-content/uploads/2020/02/Profi-Isobaren-Wetter-Karte.jpg)"
   ]
  },
  {
   "cell_type": "code",
   "execution_count": null,
   "metadata": {},
   "outputs": [],
   "source": [
    "(\n",
    "    so.Plot(weather_df, color=\"Air_pressure_hPa\")\n",
    "    .pair(x=[\"TSNE1\",\"PC1\"], y=[\"TSNE2\",\"PC2\"], cross=False)\n",
    "#!# .scale(color=so.Continuous(??).tick(upto=10)) ## Again important to choose an intuitive colormap. \n",
    "    .layout(size=(12, 6))\n",
    "    .add(so.Dot())\n",
    "\t.theme({**style.library[\"dark_background\"]})  ## If midpoint is white, a dark background is desirable\n",
    ")"
   ]
  },
  {
   "cell_type": "markdown",
   "metadata": {},
   "source": [
    "## Tackling the overplotting issue in scatter plots"
   ]
  },
  {
   "cell_type": "markdown",
   "metadata": {},
   "source": [
    "Strategies:\n",
    "1) smaller markers\n",
    "2) transparency to show density\n",
    "3) marker edges "
   ]
  },
  {
   "cell_type": "code",
   "execution_count": null,
   "metadata": {},
   "outputs": [],
   "source": [
    "(\n",
    "    so.Plot(weather_df, x=\"TSNE1\", y=\"TSNE2\", color=\"Temp_Avg_°C\")\n",
    "#!#\t.add(so.Dot(alpha=??, pointsize=??, edgecolor=\"black\")) # adjusting pointsize, introduce transparency, edges increase visibility (dark, bright)\n",
    "\t.scale(color=so.Continuous(\"Spectral_r\").tick(upto=7)) # reverse\n",
    "\t.layout(size=(6, 6))\n",
    ")"
   ]
  },
  {
   "cell_type": "markdown",
   "metadata": {},
   "source": [
    "## Avoid overplotting by facet subgroups"
   ]
  },
  {
   "cell_type": "code",
   "execution_count": null,
   "metadata": {},
   "outputs": [],
   "source": [
    "(\n",
    "\tso.Plot(weather_df, x=\"TSNE1\", y=\"TSNE2\", color=\"Rel_Humidity_%\")\n",
    "\t# .facet(??, wrap=4).layout(size=(18, 8))\n",
    "    .add(so.Dot(alpha=0.3, pointsize=4, edgecolor=\"black\"))\n",
    "\t.scale(color=\"cividis_r\")\n",
    ")"
   ]
  },
  {
   "cell_type": "markdown",
   "metadata": {},
   "source": [
    "## Alternative: 2D density and histogram plots (unfortunately not available via seaborn.object API)"
   ]
  },
  {
   "cell_type": "code",
   "execution_count": null,
   "metadata": {},
   "outputs": [],
   "source": [
    "f, axes = plt.subplots(2,4, figsize=(18, 6), sharex=True, sharey=True)\n",
    "\n",
    "sns.scatterplot(data=weather_df ,x=\"TSNE1\", y=\"TSNE2\", ax=axes[0,0], alpha=0.05)\t## Scatter plot with very low alpha\n",
    "sns.histplot(data=weather_df ,x=\"TSNE1\", y=\"TSNE2\", ax=axes[0,1])\t\t\t\t\t## Tiles showing density (low resolution)\n",
    "sns.kdeplot(data=weather_df ,x=\"TSNE1\", y=\"TSNE2\", ax=axes[0,2])\t\t\t\t\t## Isoclines of density (high resolution)\n",
    "#!# sns.kdeplot(data=weather_df ,x=\"TSNE1\", y=\"TSNE2\", ax=axes[0,3], fill=True, thresh=0, levels=??, cmap=\"Blues\",)\t## Filled density (high resolution) \n",
    "## try out high number of levels -> what is maximum number you can discriminate before blurring out?\n",
    "\n",
    "\n",
    "## For a single continent for comparison \n",
    "sns.scatterplot(data=weather_df.where(weather_df['Continent'] == \"Europe\") ,x=\"TSNE1\", y=\"TSNE2\", ax=axes[1,0], alpha=0.05)\n",
    "sns.histplot(data=weather_df.where(weather_df['Continent'] == \"Europe\") ,x=\"TSNE1\", y=\"TSNE2\", ax=axes[1,1])\n",
    "sns.kdeplot(data=weather_df.where(weather_df['Continent'] == \"Europe\") ,x=\"TSNE1\", y=\"TSNE2\", ax=axes[1,2])\n",
    "sns.kdeplot(data=weather_df.where(weather_df['Continent'] == \"Europe\") ,x=\"TSNE1\", y=\"TSNE2\", ax=axes[1,3], fill=True, thresh=0, levels=10, cmap=\"Blues\")"
   ]
  },
  {
   "cell_type": "markdown",
   "metadata": {},
   "source": [
    "## Analysis of clusters"
   ]
  },
  {
   "cell_type": "code",
   "execution_count": null,
   "metadata": {},
   "outputs": [],
   "source": [
    "#!# clustering = KMeans(n_clusters=??, random_state=42).fit(\n",
    "\tStandardScaler().fit_transform(\n",
    "\t\tweather_d2_tsne\n",
    "\t\t\t)\n",
    "\t\t)\n",
    "\n",
    "clustering.labels_"
   ]
  },
  {
   "cell_type": "code",
   "execution_count": null,
   "metadata": {},
   "outputs": [],
   "source": [
    "weather_df = weather_df.assign(Cluster= [str(x) for x in clustering.labels_]) ## Add Cluster labels to dataframe for plotting\n",
    "\n",
    "(\n",
    "\tso.Plot(weather_df, x=\"TSNE1\", y=\"TSNE2\", color=\"Cluster\", marker=\"Continent\") # Try out visualize cluster assignment by color and marker\n",
    "    .add(so.Dot(alpha=0.8, pointsize=6, edgecolor=\"black\"))\t\n",
    "\t.scale(color=\"pastel\") # Important to use a colormap for categorical data\n",
    ")"
   ]
  },
  {
   "cell_type": "markdown",
   "metadata": {},
   "source": [
    "### Let's have a look on Cluster if it is enriched with European cities"
   ]
  },
  {
   "cell_type": "code",
   "execution_count": null,
   "metadata": {},
   "outputs": [],
   "source": [
    "(\n",
    "#!# so.Plot(weather_df.loc[weather_df[\"Cluster\"]== \"0\",:], x=\"TSNE1\", y=\"TSNE2\", ??=\"Continent\")  # try marker and color\n",
    "    .add(so.Dot(alpha=0.5, pointsize=10, edgecolor=\"black\"))\t\n",
    "\t.scale(color=\"Set2\")\n",
    ")"
   ]
  },
  {
   "cell_type": "markdown",
   "metadata": {},
   "source": [
    "# Homework and discussion: \n",
    "### Looking at the clustering in TSNE plots. How to check and plot city assignment to clusters? Are cities always in the same cluster?\n",
    "### What is driving cluster assigment? Regions, day/night, weather ..."
   ]
  }
 ],
 "metadata": {
  "kernelspec": {
   "display_name": "datavizenv",
   "language": "python",
   "name": "python3"
  },
  "language_info": {
   "codemirror_mode": {
    "name": "ipython",
    "version": 3
   },
   "file_extension": ".py",
   "mimetype": "text/x-python",
   "name": "python",
   "nbconvert_exporter": "python",
   "pygments_lexer": "ipython3",
   "version": "3.9.19"
  }
 },
 "nbformat": 4,
 "nbformat_minor": 2
}
