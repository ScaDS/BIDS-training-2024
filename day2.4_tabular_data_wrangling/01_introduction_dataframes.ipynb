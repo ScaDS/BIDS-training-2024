{
 "cells": [
  {
   "metadata": {},
   "cell_type": "markdown",
   "source": [
    "# Introduction to working with DataFrames\n",
    "\n",
    "In basic Python, we often use dictionaries containing data as vectors, like our measurements. While these basic structures are convenient\n",
    " for collecting data, they are suboptimal for advanced data processing. For that, we introduce [pandas](https://pandas.pydata.org/), one of the primary tools in the Python Data Science ecosystem for handling data. Pandas' primary object, the \"DataFrame\", is a 2-dimensional labeled data structure with columns of different data types, and is extremely useful in wrangling data. \n",
    "\n",
    "See also:\n",
    "* [DataFrame - API reference](https://pandas.pydata.org/docs/reference/api/pandas.DataFrame.html)\n",
    "* [DataFrame - user guide](https://pandas.pydata.org/docs/user_guide/dsintro.html#dataframe)"
   ],
   "id": "92204799a7a3d7c8"
  },
  {
   "metadata": {
    "ExecuteTime": {
     "end_time": "2024-04-30T14:12:10.467622Z",
     "start_time": "2024-04-30T14:12:09.831096Z"
    }
   },
   "cell_type": "code",
   "source": "import pandas as pd",
   "id": "9125bc100baf5f39",
   "outputs": [],
   "execution_count": 1
  },
  {
   "metadata": {},
   "cell_type": "markdown",
   "source": [
    "## Creating DataFrames\n",
    "### DataFrames from dictionaries\n",
    "Assume we did some image processing and have some results available in a dictionary that contains lists of numbers:"
   ],
   "id": "69ec023821c17ef8"
  },
  {
   "metadata": {
    "ExecuteTime": {
     "end_time": "2024-04-30T14:12:10.470810Z",
     "start_time": "2024-04-30T14:12:10.468673Z"
    }
   },
   "cell_type": "code",
   "source": [
    "measurements = {\n",
    "    \"labels\": [1, 2, 3],\n",
    "    \"area\": [45, 23, 68],\n",
    "    \"minor_axis\": [2, 4, 4],\n",
    "    \"major_axis\": [3, 4, 5],\n",
    "}"
   ],
   "id": "8af6991d7441650f",
   "outputs": [],
   "execution_count": 2
  },
  {
   "metadata": {},
   "cell_type": "markdown",
   "source": "This data structure can be easily transferred into a DataFrame which provides additional functionalities, like visualizing it nicely:",
   "id": "62ef9d3f31248eed"
  },
  {
   "metadata": {
    "ExecuteTime": {
     "end_time": "2024-04-30T14:12:10.480187Z",
     "start_time": "2024-04-30T14:12:10.471517Z"
    }
   },
   "cell_type": "code",
   "source": [
    "df = pd.DataFrame(data=measurements)\n",
    "df"
   ],
   "id": "eaf8d6b232e10cb1",
   "outputs": [
    {
     "data": {
      "text/plain": [
       "   labels  area  minor_axis  major_axis\n",
       "0       1    45           2           3\n",
       "1       2    23           4           4\n",
       "2       3    68           4           5"
      ],
      "text/html": [
       "<div>\n",
       "<style scoped>\n",
       "    .dataframe tbody tr th:only-of-type {\n",
       "        vertical-align: middle;\n",
       "    }\n",
       "\n",
       "    .dataframe tbody tr th {\n",
       "        vertical-align: top;\n",
       "    }\n",
       "\n",
       "    .dataframe thead th {\n",
       "        text-align: right;\n",
       "    }\n",
       "</style>\n",
       "<table border=\"1\" class=\"dataframe\">\n",
       "  <thead>\n",
       "    <tr style=\"text-align: right;\">\n",
       "      <th></th>\n",
       "      <th>labels</th>\n",
       "      <th>area</th>\n",
       "      <th>minor_axis</th>\n",
       "      <th>major_axis</th>\n",
       "    </tr>\n",
       "  </thead>\n",
       "  <tbody>\n",
       "    <tr>\n",
       "      <th>0</th>\n",
       "      <td>1</td>\n",
       "      <td>45</td>\n",
       "      <td>2</td>\n",
       "      <td>3</td>\n",
       "    </tr>\n",
       "    <tr>\n",
       "      <th>1</th>\n",
       "      <td>2</td>\n",
       "      <td>23</td>\n",
       "      <td>4</td>\n",
       "      <td>4</td>\n",
       "    </tr>\n",
       "    <tr>\n",
       "      <th>2</th>\n",
       "      <td>3</td>\n",
       "      <td>68</td>\n",
       "      <td>4</td>\n",
       "      <td>5</td>\n",
       "    </tr>\n",
       "  </tbody>\n",
       "</table>\n",
       "</div>"
      ]
     },
     "execution_count": 3,
     "metadata": {},
     "output_type": "execute_result"
    }
   ],
   "execution_count": 3
  },
  {
   "metadata": {},
   "cell_type": "markdown",
   "source": "DataFrames also provide some important methods to get an overview of the DataFrames' structure and the containing data:",
   "id": "70d15d36c3c369f3"
  },
  {
   "metadata": {
    "ExecuteTime": {
     "end_time": "2024-04-30T14:12:10.488446Z",
     "start_time": "2024-04-30T14:12:10.481456Z"
    }
   },
   "cell_type": "code",
   "source": [
    "# Show structure of the DataFrame\n",
    "df.info()"
   ],
   "id": "c37332d683c24ff6",
   "outputs": [
    {
     "name": "stdout",
     "output_type": "stream",
     "text": [
      "<class 'pandas.core.frame.DataFrame'>\n",
      "RangeIndex: 3 entries, 0 to 2\n",
      "Data columns (total 4 columns):\n",
      " #   Column      Non-Null Count  Dtype\n",
      "---  ------      --------------  -----\n",
      " 0   labels      3 non-null      int64\n",
      " 1   area        3 non-null      int64\n",
      " 2   minor_axis  3 non-null      int64\n",
      " 3   major_axis  3 non-null      int64\n",
      "dtypes: int64(4)\n",
      "memory usage: 224.0 bytes\n"
     ]
    }
   ],
   "execution_count": 4
  },
  {
   "metadata": {
    "ExecuteTime": {
     "end_time": "2024-04-30T14:12:10.497340Z",
     "start_time": "2024-04-30T14:12:10.489134Z"
    }
   },
   "cell_type": "code",
   "source": [
    "# Show basic descriptive statistics of the containing data\n",
    "df.describe().transpose()"
   ],
   "id": "145d80feaa3417e6",
   "outputs": [
    {
     "data": {
      "text/plain": [
       "            count       mean        std   min   25%   50%   75%   max\n",
       "labels        3.0   2.000000   1.000000   1.0   1.5   2.0   2.5   3.0\n",
       "area          3.0  45.333333  22.501852  23.0  34.0  45.0  56.5  68.0\n",
       "minor_axis    3.0   3.333333   1.154701   2.0   3.0   4.0   4.0   4.0\n",
       "major_axis    3.0   4.000000   1.000000   3.0   3.5   4.0   4.5   5.0"
      ],
      "text/html": [
       "<div>\n",
       "<style scoped>\n",
       "    .dataframe tbody tr th:only-of-type {\n",
       "        vertical-align: middle;\n",
       "    }\n",
       "\n",
       "    .dataframe tbody tr th {\n",
       "        vertical-align: top;\n",
       "    }\n",
       "\n",
       "    .dataframe thead th {\n",
       "        text-align: right;\n",
       "    }\n",
       "</style>\n",
       "<table border=\"1\" class=\"dataframe\">\n",
       "  <thead>\n",
       "    <tr style=\"text-align: right;\">\n",
       "      <th></th>\n",
       "      <th>count</th>\n",
       "      <th>mean</th>\n",
       "      <th>std</th>\n",
       "      <th>min</th>\n",
       "      <th>25%</th>\n",
       "      <th>50%</th>\n",
       "      <th>75%</th>\n",
       "      <th>max</th>\n",
       "    </tr>\n",
       "  </thead>\n",
       "  <tbody>\n",
       "    <tr>\n",
       "      <th>labels</th>\n",
       "      <td>3.0</td>\n",
       "      <td>2.000000</td>\n",
       "      <td>1.000000</td>\n",
       "      <td>1.0</td>\n",
       "      <td>1.5</td>\n",
       "      <td>2.0</td>\n",
       "      <td>2.5</td>\n",
       "      <td>3.0</td>\n",
       "    </tr>\n",
       "    <tr>\n",
       "      <th>area</th>\n",
       "      <td>3.0</td>\n",
       "      <td>45.333333</td>\n",
       "      <td>22.501852</td>\n",
       "      <td>23.0</td>\n",
       "      <td>34.0</td>\n",
       "      <td>45.0</td>\n",
       "      <td>56.5</td>\n",
       "      <td>68.0</td>\n",
       "    </tr>\n",
       "    <tr>\n",
       "      <th>minor_axis</th>\n",
       "      <td>3.0</td>\n",
       "      <td>3.333333</td>\n",
       "      <td>1.154701</td>\n",
       "      <td>2.0</td>\n",
       "      <td>3.0</td>\n",
       "      <td>4.0</td>\n",
       "      <td>4.0</td>\n",
       "      <td>4.0</td>\n",
       "    </tr>\n",
       "    <tr>\n",
       "      <th>major_axis</th>\n",
       "      <td>3.0</td>\n",
       "      <td>4.000000</td>\n",
       "      <td>1.000000</td>\n",
       "      <td>3.0</td>\n",
       "      <td>3.5</td>\n",
       "      <td>4.0</td>\n",
       "      <td>4.5</td>\n",
       "      <td>5.0</td>\n",
       "    </tr>\n",
       "  </tbody>\n",
       "</table>\n",
       "</div>"
      ]
     },
     "execution_count": 5,
     "metadata": {},
     "output_type": "execute_result"
    }
   ],
   "execution_count": 5
  },
  {
   "metadata": {},
   "cell_type": "markdown",
   "source": [
    "### DataFrames from (nested) lists\n",
    "Sometimes, we are confronted with data in the form of nested lists (lists of lists). To make pandas understand that form of data correctly, we also need to provide the headers in the same order as the lists. This can be the rows' names (index), or the columns' names, or both."
   ],
   "id": "98295d06567c5e8c"
  },
  {
   "metadata": {
    "ExecuteTime": {
     "end_time": "2024-04-30T14:12:10.501828Z",
     "start_time": "2024-04-30T14:12:10.498022Z"
    }
   },
   "cell_type": "code",
   "source": [
    "headers = ['labels', 'area', 'minor_axis', 'major_axis']\n",
    "\n",
    "data = [\n",
    "    [1, 2, 3],\n",
    "    [45, 23, 68],\n",
    "    [2, 4, 4],\n",
    "    [3, 4, 5],\n",
    "]\n",
    "\n",
    "# convert the data and header arrays in a pandas data frame and show it\n",
    "df = pd.DataFrame(data, headers)\n",
    "df"
   ],
   "id": "6fcfe3eb61d88ab4",
   "outputs": [
    {
     "data": {
      "text/plain": [
       "             0   1   2\n",
       "labels       1   2   3\n",
       "area        45  23  68\n",
       "minor_axis   2   4   4\n",
       "major_axis   3   4   5"
      ],
      "text/html": [
       "<div>\n",
       "<style scoped>\n",
       "    .dataframe tbody tr th:only-of-type {\n",
       "        vertical-align: middle;\n",
       "    }\n",
       "\n",
       "    .dataframe tbody tr th {\n",
       "        vertical-align: top;\n",
       "    }\n",
       "\n",
       "    .dataframe thead th {\n",
       "        text-align: right;\n",
       "    }\n",
       "</style>\n",
       "<table border=\"1\" class=\"dataframe\">\n",
       "  <thead>\n",
       "    <tr style=\"text-align: right;\">\n",
       "      <th></th>\n",
       "      <th>0</th>\n",
       "      <th>1</th>\n",
       "      <th>2</th>\n",
       "    </tr>\n",
       "  </thead>\n",
       "  <tbody>\n",
       "    <tr>\n",
       "      <th>labels</th>\n",
       "      <td>1</td>\n",
       "      <td>2</td>\n",
       "      <td>3</td>\n",
       "    </tr>\n",
       "    <tr>\n",
       "      <th>area</th>\n",
       "      <td>45</td>\n",
       "      <td>23</td>\n",
       "      <td>68</td>\n",
       "    </tr>\n",
       "    <tr>\n",
       "      <th>minor_axis</th>\n",
       "      <td>2</td>\n",
       "      <td>4</td>\n",
       "      <td>4</td>\n",
       "    </tr>\n",
       "    <tr>\n",
       "      <th>major_axis</th>\n",
       "      <td>3</td>\n",
       "      <td>4</td>\n",
       "      <td>5</td>\n",
       "    </tr>\n",
       "  </tbody>\n",
       "</table>\n",
       "</div>"
      ]
     },
     "execution_count": 6,
     "metadata": {},
     "output_type": "execute_result"
    }
   ],
   "execution_count": 6
  },
  {
   "metadata": {},
   "cell_type": "markdown",
   "source": "As you can see, this table is rotated and our column names are set as index (rows' names). We can bring it in the usual form via transposing:",
   "id": "425964ba72a49d07"
  },
  {
   "metadata": {
    "ExecuteTime": {
     "end_time": "2024-04-30T14:12:10.505596Z",
     "start_time": "2024-04-30T14:12:10.502569Z"
    }
   },
   "cell_type": "code",
   "source": [
    "df = df.transpose()\n",
    "df"
   ],
   "id": "f00881e20091cfd",
   "outputs": [
    {
     "data": {
      "text/plain": [
       "   labels  area  minor_axis  major_axis\n",
       "0       1    45           2           3\n",
       "1       2    23           4           4\n",
       "2       3    68           4           5"
      ],
      "text/html": [
       "<div>\n",
       "<style scoped>\n",
       "    .dataframe tbody tr th:only-of-type {\n",
       "        vertical-align: middle;\n",
       "    }\n",
       "\n",
       "    .dataframe tbody tr th {\n",
       "        vertical-align: top;\n",
       "    }\n",
       "\n",
       "    .dataframe thead th {\n",
       "        text-align: right;\n",
       "    }\n",
       "</style>\n",
       "<table border=\"1\" class=\"dataframe\">\n",
       "  <thead>\n",
       "    <tr style=\"text-align: right;\">\n",
       "      <th></th>\n",
       "      <th>labels</th>\n",
       "      <th>area</th>\n",
       "      <th>minor_axis</th>\n",
       "      <th>major_axis</th>\n",
       "    </tr>\n",
       "  </thead>\n",
       "  <tbody>\n",
       "    <tr>\n",
       "      <th>0</th>\n",
       "      <td>1</td>\n",
       "      <td>45</td>\n",
       "      <td>2</td>\n",
       "      <td>3</td>\n",
       "    </tr>\n",
       "    <tr>\n",
       "      <th>1</th>\n",
       "      <td>2</td>\n",
       "      <td>23</td>\n",
       "      <td>4</td>\n",
       "      <td>4</td>\n",
       "    </tr>\n",
       "    <tr>\n",
       "      <th>2</th>\n",
       "      <td>3</td>\n",
       "      <td>68</td>\n",
       "      <td>4</td>\n",
       "      <td>5</td>\n",
       "    </tr>\n",
       "  </tbody>\n",
       "</table>\n",
       "</div>"
      ]
     },
     "execution_count": 7,
     "metadata": {},
     "output_type": "execute_result"
    }
   ],
   "execution_count": 7
  },
  {
   "metadata": {},
   "cell_type": "markdown",
   "source": [
    "## Saving and loading DataFrames\n",
    "We can save this DataFrames for continuing to work with it. We chose to save it as a CSV file, where CSV stands for comma-separated value. This is a text file that can easily be read into data structures in many programming languages.\n",
    "\n",
    "You should generally always store your data in such an open, compatible format with well-defined specifications, (not necessarily CSV), and is readable in many contexts. Excel files do not meet these criteria, neither do .mat files."
   ],
   "id": "3c48b6f9c3f8ddc"
  },
  {
   "metadata": {
    "ExecuteTime": {
     "end_time": "2024-04-30T14:12:10.509091Z",
     "start_time": "2024-04-30T14:12:10.506322Z"
    }
   },
   "cell_type": "code",
   "source": "df.to_csv('../data/measurements_table.csv')",
   "id": "3671c5cc6e5e78ca",
   "outputs": [],
   "execution_count": 8
  },
  {
   "metadata": {},
   "cell_type": "markdown",
   "source": [
    "Stored DataFrames can be read with pandas from various formats, so we are able to read files into a DataFrame again.\n",
    "\n",
    "See also:\n",
    "* [Input and Output with pandas](https://pandas.pydata.org/pandas-docs/stable/reference/io.html)"
   ],
   "id": "bd2bc8f3500837e5"
  },
  {
   "metadata": {
    "ExecuteTime": {
     "end_time": "2024-04-30T14:12:10.517187Z",
     "start_time": "2024-04-30T14:12:10.509781Z"
    }
   },
   "cell_type": "code",
   "source": [
    "# Since we know that the column at position 0 is our index, we shall provide this information\n",
    "df_new = pd.read_csv('../data/blobs_statistics.csv', index_col=0)\n",
    "df_new"
   ],
   "id": "a5a55abb1fb3c53a",
   "outputs": [
    {
     "data": {
      "text/plain": [
       "    area  mean_intensity  minor_axis_length  major_axis_length  eccentricity  \\\n",
       "0    422      192.379147          16.488550          34.566789      0.878900   \n",
       "1    182      180.131868          11.736074          20.802697      0.825665   \n",
       "2    661      205.216339          28.409502          30.208433      0.339934   \n",
       "3    437      216.585812          23.143996          24.606130      0.339576   \n",
       "4    476      212.302521          19.852882          31.075106      0.769317   \n",
       "..   ...             ...                ...                ...           ...   \n",
       "56   211      185.061611          14.522762          18.489138      0.618893   \n",
       "57    78      185.230769           6.028638          17.579799      0.939361   \n",
       "58    86      183.720930           5.426871          21.261427      0.966876   \n",
       "59    51      190.431373           5.032414          13.742079      0.930534   \n",
       "60    46      175.304348           3.803982          15.948714      0.971139   \n",
       "\n",
       "      extent  feret_diameter_max  equivalent_diameter_area  bbox-0  bbox-1  \\\n",
       "0   0.586111           35.227830                 23.179885       0      11   \n",
       "1   0.787879           21.377558                 15.222667       0      53   \n",
       "2   0.874339           32.756679                 29.010538       0      95   \n",
       "3   0.826087           26.925824                 23.588253       0     144   \n",
       "4   0.863884           31.384710                 24.618327       0     237   \n",
       "..       ...                 ...                       ...     ...     ...   \n",
       "56  0.781481           18.973666                 16.390654     232      39   \n",
       "57  0.722222           18.027756                  9.965575     248     170   \n",
       "58  0.781818           22.000000                 10.464158     249     117   \n",
       "59  0.728571           14.035669                  8.058239     249     228   \n",
       "60  0.766667           15.033296                  7.653040     250      67   \n",
       "\n",
       "    bbox-2  bbox-3  \n",
       "0       30      35  \n",
       "1       11      74  \n",
       "2       28     122  \n",
       "3       23     167  \n",
       "4       29     256  \n",
       "..     ...     ...  \n",
       "56     250      54  \n",
       "57     254     188  \n",
       "58     254     139  \n",
       "59     254     242  \n",
       "60     254      82  \n",
       "\n",
       "[61 rows x 12 columns]"
      ],
      "text/html": [
       "<div>\n",
       "<style scoped>\n",
       "    .dataframe tbody tr th:only-of-type {\n",
       "        vertical-align: middle;\n",
       "    }\n",
       "\n",
       "    .dataframe tbody tr th {\n",
       "        vertical-align: top;\n",
       "    }\n",
       "\n",
       "    .dataframe thead th {\n",
       "        text-align: right;\n",
       "    }\n",
       "</style>\n",
       "<table border=\"1\" class=\"dataframe\">\n",
       "  <thead>\n",
       "    <tr style=\"text-align: right;\">\n",
       "      <th></th>\n",
       "      <th>area</th>\n",
       "      <th>mean_intensity</th>\n",
       "      <th>minor_axis_length</th>\n",
       "      <th>major_axis_length</th>\n",
       "      <th>eccentricity</th>\n",
       "      <th>extent</th>\n",
       "      <th>feret_diameter_max</th>\n",
       "      <th>equivalent_diameter_area</th>\n",
       "      <th>bbox-0</th>\n",
       "      <th>bbox-1</th>\n",
       "      <th>bbox-2</th>\n",
       "      <th>bbox-3</th>\n",
       "    </tr>\n",
       "  </thead>\n",
       "  <tbody>\n",
       "    <tr>\n",
       "      <th>0</th>\n",
       "      <td>422</td>\n",
       "      <td>192.379147</td>\n",
       "      <td>16.488550</td>\n",
       "      <td>34.566789</td>\n",
       "      <td>0.878900</td>\n",
       "      <td>0.586111</td>\n",
       "      <td>35.227830</td>\n",
       "      <td>23.179885</td>\n",
       "      <td>0</td>\n",
       "      <td>11</td>\n",
       "      <td>30</td>\n",
       "      <td>35</td>\n",
       "    </tr>\n",
       "    <tr>\n",
       "      <th>1</th>\n",
       "      <td>182</td>\n",
       "      <td>180.131868</td>\n",
       "      <td>11.736074</td>\n",
       "      <td>20.802697</td>\n",
       "      <td>0.825665</td>\n",
       "      <td>0.787879</td>\n",
       "      <td>21.377558</td>\n",
       "      <td>15.222667</td>\n",
       "      <td>0</td>\n",
       "      <td>53</td>\n",
       "      <td>11</td>\n",
       "      <td>74</td>\n",
       "    </tr>\n",
       "    <tr>\n",
       "      <th>2</th>\n",
       "      <td>661</td>\n",
       "      <td>205.216339</td>\n",
       "      <td>28.409502</td>\n",
       "      <td>30.208433</td>\n",
       "      <td>0.339934</td>\n",
       "      <td>0.874339</td>\n",
       "      <td>32.756679</td>\n",
       "      <td>29.010538</td>\n",
       "      <td>0</td>\n",
       "      <td>95</td>\n",
       "      <td>28</td>\n",
       "      <td>122</td>\n",
       "    </tr>\n",
       "    <tr>\n",
       "      <th>3</th>\n",
       "      <td>437</td>\n",
       "      <td>216.585812</td>\n",
       "      <td>23.143996</td>\n",
       "      <td>24.606130</td>\n",
       "      <td>0.339576</td>\n",
       "      <td>0.826087</td>\n",
       "      <td>26.925824</td>\n",
       "      <td>23.588253</td>\n",
       "      <td>0</td>\n",
       "      <td>144</td>\n",
       "      <td>23</td>\n",
       "      <td>167</td>\n",
       "    </tr>\n",
       "    <tr>\n",
       "      <th>4</th>\n",
       "      <td>476</td>\n",
       "      <td>212.302521</td>\n",
       "      <td>19.852882</td>\n",
       "      <td>31.075106</td>\n",
       "      <td>0.769317</td>\n",
       "      <td>0.863884</td>\n",
       "      <td>31.384710</td>\n",
       "      <td>24.618327</td>\n",
       "      <td>0</td>\n",
       "      <td>237</td>\n",
       "      <td>29</td>\n",
       "      <td>256</td>\n",
       "    </tr>\n",
       "    <tr>\n",
       "      <th>...</th>\n",
       "      <td>...</td>\n",
       "      <td>...</td>\n",
       "      <td>...</td>\n",
       "      <td>...</td>\n",
       "      <td>...</td>\n",
       "      <td>...</td>\n",
       "      <td>...</td>\n",
       "      <td>...</td>\n",
       "      <td>...</td>\n",
       "      <td>...</td>\n",
       "      <td>...</td>\n",
       "      <td>...</td>\n",
       "    </tr>\n",
       "    <tr>\n",
       "      <th>56</th>\n",
       "      <td>211</td>\n",
       "      <td>185.061611</td>\n",
       "      <td>14.522762</td>\n",
       "      <td>18.489138</td>\n",
       "      <td>0.618893</td>\n",
       "      <td>0.781481</td>\n",
       "      <td>18.973666</td>\n",
       "      <td>16.390654</td>\n",
       "      <td>232</td>\n",
       "      <td>39</td>\n",
       "      <td>250</td>\n",
       "      <td>54</td>\n",
       "    </tr>\n",
       "    <tr>\n",
       "      <th>57</th>\n",
       "      <td>78</td>\n",
       "      <td>185.230769</td>\n",
       "      <td>6.028638</td>\n",
       "      <td>17.579799</td>\n",
       "      <td>0.939361</td>\n",
       "      <td>0.722222</td>\n",
       "      <td>18.027756</td>\n",
       "      <td>9.965575</td>\n",
       "      <td>248</td>\n",
       "      <td>170</td>\n",
       "      <td>254</td>\n",
       "      <td>188</td>\n",
       "    </tr>\n",
       "    <tr>\n",
       "      <th>58</th>\n",
       "      <td>86</td>\n",
       "      <td>183.720930</td>\n",
       "      <td>5.426871</td>\n",
       "      <td>21.261427</td>\n",
       "      <td>0.966876</td>\n",
       "      <td>0.781818</td>\n",
       "      <td>22.000000</td>\n",
       "      <td>10.464158</td>\n",
       "      <td>249</td>\n",
       "      <td>117</td>\n",
       "      <td>254</td>\n",
       "      <td>139</td>\n",
       "    </tr>\n",
       "    <tr>\n",
       "      <th>59</th>\n",
       "      <td>51</td>\n",
       "      <td>190.431373</td>\n",
       "      <td>5.032414</td>\n",
       "      <td>13.742079</td>\n",
       "      <td>0.930534</td>\n",
       "      <td>0.728571</td>\n",
       "      <td>14.035669</td>\n",
       "      <td>8.058239</td>\n",
       "      <td>249</td>\n",
       "      <td>228</td>\n",
       "      <td>254</td>\n",
       "      <td>242</td>\n",
       "    </tr>\n",
       "    <tr>\n",
       "      <th>60</th>\n",
       "      <td>46</td>\n",
       "      <td>175.304348</td>\n",
       "      <td>3.803982</td>\n",
       "      <td>15.948714</td>\n",
       "      <td>0.971139</td>\n",
       "      <td>0.766667</td>\n",
       "      <td>15.033296</td>\n",
       "      <td>7.653040</td>\n",
       "      <td>250</td>\n",
       "      <td>67</td>\n",
       "      <td>254</td>\n",
       "      <td>82</td>\n",
       "    </tr>\n",
       "  </tbody>\n",
       "</table>\n",
       "<p>61 rows × 12 columns</p>\n",
       "</div>"
      ]
     },
     "execution_count": 9,
     "metadata": {},
     "output_type": "execute_result"
    }
   ],
   "execution_count": 9
  }
 ],
 "metadata": {
  "kernelspec": {
   "display_name": "Python 3",
   "language": "python",
   "name": "python3"
  },
  "language_info": {
   "codemirror_mode": {
    "name": "ipython",
    "version": 2
   },
   "file_extension": ".py",
   "mimetype": "text/x-python",
   "name": "python",
   "nbconvert_exporter": "python",
   "pygments_lexer": "ipython2",
   "version": "2.7.6"
  }
 },
 "nbformat": 4,
 "nbformat_minor": 5
}
