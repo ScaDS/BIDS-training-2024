{
 "cells": [
  {
   "metadata": {},
   "cell_type": "markdown",
   "source": [
    "# Group by: split-apply-combine\n",
    "\n",
    "“group by” is an analysis process involving one or more of the following steps:\n",
    "* **Splitting** the data into groups based on some criteria\n",
    "* **Applying** a function to each group independently\n",
    "* **Combining** the results into a data structure\n",
    "\n",
    "In the apply step, we might wish to do one of the following:\n",
    "* **Aggregation**: compute a summary statistic (or statistics) for each group, e.g., sums or means\n",
    "* **Transformation**: run group-specific computations and return a like-indexed object, e.g., standardize data or fill missing values within a group\n",
    "* **Filter**: discard some groups, according to a group-wise computation that evaluates to True or False, e.g., discard data based on a groups mean\n",
    "\n",
    "See also:\n",
    "* [Pandas user guide on group by](https://pandas.pydata.org/docs/user_guide/groupby.html)\n",
    "* [Pandas API reference on group by](https://pandas.pydata.org/docs/reference/api/pandas.DataFrame.groupby.html)"
   ],
   "id": "7f59c300113b158a"
  },
  {
   "metadata": {
    "ExecuteTime": {
     "end_time": "2024-04-30T14:22:29.668859Z",
     "start_time": "2024-04-30T14:22:29.501180Z"
    }
   },
   "cell_type": "code",
   "source": [
    "import pandas as pd\n",
    "import numpy as np"
   ],
   "id": "ae455e46ecfa0895",
   "outputs": [],
   "execution_count": 1
  },
  {
   "metadata": {},
   "cell_type": "markdown",
   "source": "Let's load the dataframe we saved in exercise notebook 03. It contains measurements of objects from two different files.",
   "id": "a9f14661b31fb0c1"
  },
  {
   "metadata": {
    "ExecuteTime": {
     "end_time": "2024-04-30T14:22:29.675444Z",
     "start_time": "2024-04-30T14:22:29.670133Z"
    }
   },
   "cell_type": "code",
   "source": [
    "df = pd.read_csv('../data/BBBC007_concat.csv', index_col=0)\n",
    "df.info()"
   ],
   "id": "b63736cc7b138ad9",
   "outputs": [
    {
     "name": "stdout",
     "output_type": "stream",
     "text": [
      "<class 'pandas.core.frame.DataFrame'>\n",
      "Index: 111 entries, 0 to 110\n",
      "Data columns (total 6 columns):\n",
      " #   Column             Non-Null Count  Dtype  \n",
      "---  ------             --------------  -----  \n",
      " 0   area               111 non-null    int64  \n",
      " 1   intensity_mean     111 non-null    float64\n",
      " 2   major_axis_length  111 non-null    float64\n",
      " 3   minor_axis_length  111 non-null    float64\n",
      " 4   aspect_ratio       111 non-null    float64\n",
      " 5   source_file        111 non-null    object \n",
      "dtypes: float64(4), int64(1), object(1)\n",
      "memory usage: 6.1+ KB\n"
     ]
    }
   ],
   "execution_count": 2
  },
  {
   "metadata": {},
   "cell_type": "markdown",
   "source": [
    "Let’s say we want to compute the median \"intensity_mean\" of round objects and also discriminate these objects per source file. Ignoring for the second the mechanics of how we would do this with Python, let’s think about it in English. What do we need to do?\n",
    "* Split the data set according to a 'round' criterion field, i.e., split it, so we have a separate data set for the two classes, those which are round and those which are not.\n",
    "* Apply a median function to the intensity in these split data sets.\n",
    "* Combine the results of these averages on the split data set into a new summary data set that contains the two classes (round and not round) and medians for each.\n",
    "\n",
    "We see that the strategy we want is a split-apply-combine strategy, and it turns out that this is a strategy we want to use very often. Split the data in terms of some criterion. Apply some function to the split data. Combine the results into a new data frame.\n",
    "\n",
    "Note that if the data is tidy, this procedure makes a lot of sense. Choose the column you want to use to split by. All rows with like entries in the splitting column are then grouped into a new data set. You can then apply any function you want into these new data sets. You can then combine the results into a new data frame.\n",
    "\n",
    "Pandas' split-apply-combine operations are achieved using the DataFrames `groupby()` method. You can think of `groupby()` as the splitting part. You can then apply functions to the resulting DataFrameGroupBy object. The Pandas documentation on split-apply-combine is worth reading through. It is extensive though, so don’t let yourself get intimidated by it.\n",
    "\n",
    "Before all that, let's first create a new column with our criterion for roundness."
   ],
   "id": "52d9c18c6287a962"
  },
  {
   "metadata": {
    "ExecuteTime": {
     "end_time": "2024-04-30T14:22:29.682673Z",
     "start_time": "2024-04-30T14:22:29.676213Z"
    }
   },
   "cell_type": "code",
   "source": [
    "df['round'] = df['aspect_ratio'] < 1.2\n",
    "df.head()"
   ],
   "id": "210082c9b341ddc0",
   "outputs": [
    {
     "data": {
      "text/plain": [
       "   area  intensity_mean  major_axis_length  minor_axis_length  aspect_ratio  \\\n",
       "0   256       93.250000          19.995017          17.021559      1.174688   \n",
       "1    90       82.488889          15.939969           7.516326      2.120713   \n",
       "2   577       90.637782          35.324458          21.759434      1.623409   \n",
       "3   270       95.640741          20.229431          17.669052      1.144908   \n",
       "4   153       84.908497          15.683703          12.420475      1.262730   \n",
       "\n",
       "                  source_file  round  \n",
       "0  BBBC007_20P1_POS0007_D_1UL   True  \n",
       "1  BBBC007_20P1_POS0007_D_1UL  False  \n",
       "2  BBBC007_20P1_POS0007_D_1UL  False  \n",
       "3  BBBC007_20P1_POS0007_D_1UL   True  \n",
       "4  BBBC007_20P1_POS0007_D_1UL  False  "
      ],
      "text/html": [
       "<div>\n",
       "<style scoped>\n",
       "    .dataframe tbody tr th:only-of-type {\n",
       "        vertical-align: middle;\n",
       "    }\n",
       "\n",
       "    .dataframe tbody tr th {\n",
       "        vertical-align: top;\n",
       "    }\n",
       "\n",
       "    .dataframe thead th {\n",
       "        text-align: right;\n",
       "    }\n",
       "</style>\n",
       "<table border=\"1\" class=\"dataframe\">\n",
       "  <thead>\n",
       "    <tr style=\"text-align: right;\">\n",
       "      <th></th>\n",
       "      <th>area</th>\n",
       "      <th>intensity_mean</th>\n",
       "      <th>major_axis_length</th>\n",
       "      <th>minor_axis_length</th>\n",
       "      <th>aspect_ratio</th>\n",
       "      <th>source_file</th>\n",
       "      <th>round</th>\n",
       "    </tr>\n",
       "  </thead>\n",
       "  <tbody>\n",
       "    <tr>\n",
       "      <th>0</th>\n",
       "      <td>256</td>\n",
       "      <td>93.250000</td>\n",
       "      <td>19.995017</td>\n",
       "      <td>17.021559</td>\n",
       "      <td>1.174688</td>\n",
       "      <td>BBBC007_20P1_POS0007_D_1UL</td>\n",
       "      <td>True</td>\n",
       "    </tr>\n",
       "    <tr>\n",
       "      <th>1</th>\n",
       "      <td>90</td>\n",
       "      <td>82.488889</td>\n",
       "      <td>15.939969</td>\n",
       "      <td>7.516326</td>\n",
       "      <td>2.120713</td>\n",
       "      <td>BBBC007_20P1_POS0007_D_1UL</td>\n",
       "      <td>False</td>\n",
       "    </tr>\n",
       "    <tr>\n",
       "      <th>2</th>\n",
       "      <td>577</td>\n",
       "      <td>90.637782</td>\n",
       "      <td>35.324458</td>\n",
       "      <td>21.759434</td>\n",
       "      <td>1.623409</td>\n",
       "      <td>BBBC007_20P1_POS0007_D_1UL</td>\n",
       "      <td>False</td>\n",
       "    </tr>\n",
       "    <tr>\n",
       "      <th>3</th>\n",
       "      <td>270</td>\n",
       "      <td>95.640741</td>\n",
       "      <td>20.229431</td>\n",
       "      <td>17.669052</td>\n",
       "      <td>1.144908</td>\n",
       "      <td>BBBC007_20P1_POS0007_D_1UL</td>\n",
       "      <td>True</td>\n",
       "    </tr>\n",
       "    <tr>\n",
       "      <th>4</th>\n",
       "      <td>153</td>\n",
       "      <td>84.908497</td>\n",
       "      <td>15.683703</td>\n",
       "      <td>12.420475</td>\n",
       "      <td>1.262730</td>\n",
       "      <td>BBBC007_20P1_POS0007_D_1UL</td>\n",
       "      <td>False</td>\n",
       "    </tr>\n",
       "  </tbody>\n",
       "</table>\n",
       "</div>"
      ]
     },
     "execution_count": 3,
     "metadata": {},
     "output_type": "execute_result"
    }
   ],
   "execution_count": 3
  },
  {
   "metadata": {},
   "cell_type": "markdown",
   "source": [
    "## Aggregation of median intensity\n",
    "### Split\n",
    "Let's start splitting the data using `groupby()` and have a look at the resulting object."
   ],
   "id": "3380a3d25320d1c6"
  },
  {
   "metadata": {
    "ExecuteTime": {
     "end_time": "2024-04-30T14:22:29.686315Z",
     "start_time": "2024-04-30T14:22:29.684011Z"
    }
   },
   "cell_type": "code",
   "source": [
    "grouped = df.groupby('round')\n",
    "grouped"
   ],
   "id": "8ae6b7d53a0ab853",
   "outputs": [
    {
     "data": {
      "text/plain": [
       "<pandas.core.groupby.generic.DataFrameGroupBy object at 0x10a3bc1f0>"
      ]
     },
     "execution_count": 4,
     "metadata": {},
     "output_type": "execute_result"
    }
   ],
   "execution_count": 4
  },
  {
   "metadata": {},
   "cell_type": "markdown",
   "source": "There is not much to see on the resulting DataFrameGroupBy object itself, but there is a lot we can do with it. First, let's iterate through the groups and have a closer look:",
   "id": "10ea2a43fe5c823b"
  },
  {
   "metadata": {
    "ExecuteTime": {
     "end_time": "2024-04-30T14:22:29.689063Z",
     "start_time": "2024-04-30T14:22:29.686947Z"
    }
   },
   "cell_type": "code",
   "source": [
    "for name, group in grouped:\n",
    "    print(name)\n",
    "    print(type(group))"
   ],
   "id": "a380be6127b85c28",
   "outputs": [
    {
     "name": "stdout",
     "output_type": "stream",
     "text": [
      "False\n",
      "<class 'pandas.core.frame.DataFrame'>\n",
      "True\n",
      "<class 'pandas.core.frame.DataFrame'>\n"
     ]
    }
   ],
   "execution_count": 5
  },
  {
   "metadata": {},
   "cell_type": "markdown",
   "source": [
    "### Apply and Combine\n",
    "Using the `.` operator on the DataFrameGroupBy object and hitting tab will show you [the many possibilities](https://pandas.pydata.org/docs/reference/groupby.html#dataframegroupby-computations-descriptive-stats). For most of these possibilities, the apply and combine steps are comprised and a new DataFrame is returned. The `.median()` method is exactly what we want. Here, the `numeric_only` option is set to exclude the object-typed 'source_file' column from the calculation."
   ],
   "id": "2154558287f497f9"
  },
  {
   "metadata": {
    "ExecuteTime": {
     "end_time": "2024-04-30T14:22:29.693669Z",
     "start_time": "2024-04-30T14:22:29.689658Z"
    }
   },
   "cell_type": "code",
   "source": [
    "df_median = grouped.median(numeric_only = True)\n",
    "\n",
    "# Take a look\n",
    "df_median"
   ],
   "id": "591f76dfc4c8af88",
   "outputs": [
    {
     "data": {
      "text/plain": [
       "        area  intensity_mean  major_axis_length  minor_axis_length  \\\n",
       "round                                                                \n",
       "False  270.0       92.788345          21.459495          15.858324   \n",
       "True   291.0      100.256000          20.155547          18.352287   \n",
       "\n",
       "       aspect_ratio  \n",
       "round                \n",
       "False      1.412849  \n",
       "True       1.101700  "
      ],
      "text/html": [
       "<div>\n",
       "<style scoped>\n",
       "    .dataframe tbody tr th:only-of-type {\n",
       "        vertical-align: middle;\n",
       "    }\n",
       "\n",
       "    .dataframe tbody tr th {\n",
       "        vertical-align: top;\n",
       "    }\n",
       "\n",
       "    .dataframe thead th {\n",
       "        text-align: right;\n",
       "    }\n",
       "</style>\n",
       "<table border=\"1\" class=\"dataframe\">\n",
       "  <thead>\n",
       "    <tr style=\"text-align: right;\">\n",
       "      <th></th>\n",
       "      <th>area</th>\n",
       "      <th>intensity_mean</th>\n",
       "      <th>major_axis_length</th>\n",
       "      <th>minor_axis_length</th>\n",
       "      <th>aspect_ratio</th>\n",
       "    </tr>\n",
       "    <tr>\n",
       "      <th>round</th>\n",
       "      <th></th>\n",
       "      <th></th>\n",
       "      <th></th>\n",
       "      <th></th>\n",
       "      <th></th>\n",
       "    </tr>\n",
       "  </thead>\n",
       "  <tbody>\n",
       "    <tr>\n",
       "      <th>False</th>\n",
       "      <td>270.0</td>\n",
       "      <td>92.788345</td>\n",
       "      <td>21.459495</td>\n",
       "      <td>15.858324</td>\n",
       "      <td>1.412849</td>\n",
       "    </tr>\n",
       "    <tr>\n",
       "      <th>True</th>\n",
       "      <td>291.0</td>\n",
       "      <td>100.256000</td>\n",
       "      <td>20.155547</td>\n",
       "      <td>18.352287</td>\n",
       "      <td>1.101700</td>\n",
       "    </tr>\n",
       "  </tbody>\n",
       "</table>\n",
       "</div>"
      ]
     },
     "execution_count": 6,
     "metadata": {},
     "output_type": "execute_result"
    }
   ],
   "execution_count": 6
  },
  {
   "metadata": {},
   "cell_type": "markdown",
   "source": "The resulting DataFrame has the medians of all numerical columns, including the intensities that we wanted. Note that the column 'round' has been set as row index. If we want to keep 'round' as a normal column (which, remember, is what we used to split up the data before we computed the summary statistics), we can use the `reset_index()` method.",
   "id": "d813888e70f28567"
  },
  {
   "metadata": {
    "ExecuteTime": {
     "end_time": "2024-04-30T14:22:29.698547Z",
     "start_time": "2024-04-30T14:22:29.694387Z"
    }
   },
   "cell_type": "code",
   "source": [
    "df_median = df_median.reset_index()\n",
    "# Alternatively, do:\n",
    "# df_median.reset_index(inplace=True)\n",
    "df_median"
   ],
   "id": "ada9ce4e984226dc",
   "outputs": [
    {
     "data": {
      "text/plain": [
       "   round   area  intensity_mean  major_axis_length  minor_axis_length  \\\n",
       "0  False  270.0       92.788345          21.459495          15.858324   \n",
       "1   True  291.0      100.256000          20.155547          18.352287   \n",
       "\n",
       "   aspect_ratio  \n",
       "0      1.412849  \n",
       "1      1.101700  "
      ],
      "text/html": [
       "<div>\n",
       "<style scoped>\n",
       "    .dataframe tbody tr th:only-of-type {\n",
       "        vertical-align: middle;\n",
       "    }\n",
       "\n",
       "    .dataframe tbody tr th {\n",
       "        vertical-align: top;\n",
       "    }\n",
       "\n",
       "    .dataframe thead th {\n",
       "        text-align: right;\n",
       "    }\n",
       "</style>\n",
       "<table border=\"1\" class=\"dataframe\">\n",
       "  <thead>\n",
       "    <tr style=\"text-align: right;\">\n",
       "      <th></th>\n",
       "      <th>round</th>\n",
       "      <th>area</th>\n",
       "      <th>intensity_mean</th>\n",
       "      <th>major_axis_length</th>\n",
       "      <th>minor_axis_length</th>\n",
       "      <th>aspect_ratio</th>\n",
       "    </tr>\n",
       "  </thead>\n",
       "  <tbody>\n",
       "    <tr>\n",
       "      <th>0</th>\n",
       "      <td>False</td>\n",
       "      <td>270.0</td>\n",
       "      <td>92.788345</td>\n",
       "      <td>21.459495</td>\n",
       "      <td>15.858324</td>\n",
       "      <td>1.412849</td>\n",
       "    </tr>\n",
       "    <tr>\n",
       "      <th>1</th>\n",
       "      <td>True</td>\n",
       "      <td>291.0</td>\n",
       "      <td>100.256000</td>\n",
       "      <td>20.155547</td>\n",
       "      <td>18.352287</td>\n",
       "      <td>1.101700</td>\n",
       "    </tr>\n",
       "  </tbody>\n",
       "</table>\n",
       "</div>"
      ]
     },
     "execution_count": 7,
     "metadata": {},
     "output_type": "execute_result"
    }
   ],
   "execution_count": 7
  },
  {
   "metadata": {},
   "cell_type": "markdown",
   "source": [
    "### Split on multiple columns\n",
    "Assume, we may wish to look at four groups, round / not round from the first file, round / not round from the second file. To do this, we can pass a list of columns to the `groupby()` method. We will chain the commands, performing a groupby, applying a median, and then resetting the index of the result, all in one line."
   ],
   "id": "22655173be0185b7"
  },
  {
   "metadata": {
    "ExecuteTime": {
     "end_time": "2024-04-30T14:22:29.704301Z",
     "start_time": "2024-04-30T14:22:29.699138Z"
    }
   },
   "cell_type": "code",
   "source": "df.groupby(['round', 'source_file']).median().reset_index()",
   "id": "a0b8c2ceb8e14d90",
   "outputs": [
    {
     "data": {
      "text/plain": [
       "   round                 source_file   area  intensity_mean  \\\n",
       "0  False  BBBC007_20P1_POS0007_D_1UL  323.0       91.796791   \n",
       "1  False  BBBC007_20P1_POS0010_D_1UL  237.0       93.269113   \n",
       "2   True  BBBC007_20P1_POS0007_D_1UL  293.0       98.227799   \n",
       "3   True  BBBC007_20P1_POS0010_D_1UL  277.5      103.299825   \n",
       "\n",
       "   major_axis_length  minor_axis_length  aspect_ratio  \n",
       "0          23.755227          17.072477      1.467410  \n",
       "1          20.410737          14.832035      1.353858  \n",
       "2          20.307965          18.599043      1.101700  \n",
       "3          19.662330          17.680741      1.103133  "
      ],
      "text/html": [
       "<div>\n",
       "<style scoped>\n",
       "    .dataframe tbody tr th:only-of-type {\n",
       "        vertical-align: middle;\n",
       "    }\n",
       "\n",
       "    .dataframe tbody tr th {\n",
       "        vertical-align: top;\n",
       "    }\n",
       "\n",
       "    .dataframe thead th {\n",
       "        text-align: right;\n",
       "    }\n",
       "</style>\n",
       "<table border=\"1\" class=\"dataframe\">\n",
       "  <thead>\n",
       "    <tr style=\"text-align: right;\">\n",
       "      <th></th>\n",
       "      <th>round</th>\n",
       "      <th>source_file</th>\n",
       "      <th>area</th>\n",
       "      <th>intensity_mean</th>\n",
       "      <th>major_axis_length</th>\n",
       "      <th>minor_axis_length</th>\n",
       "      <th>aspect_ratio</th>\n",
       "    </tr>\n",
       "  </thead>\n",
       "  <tbody>\n",
       "    <tr>\n",
       "      <th>0</th>\n",
       "      <td>False</td>\n",
       "      <td>BBBC007_20P1_POS0007_D_1UL</td>\n",
       "      <td>323.0</td>\n",
       "      <td>91.796791</td>\n",
       "      <td>23.755227</td>\n",
       "      <td>17.072477</td>\n",
       "      <td>1.467410</td>\n",
       "    </tr>\n",
       "    <tr>\n",
       "      <th>1</th>\n",
       "      <td>False</td>\n",
       "      <td>BBBC007_20P1_POS0010_D_1UL</td>\n",
       "      <td>237.0</td>\n",
       "      <td>93.269113</td>\n",
       "      <td>20.410737</td>\n",
       "      <td>14.832035</td>\n",
       "      <td>1.353858</td>\n",
       "    </tr>\n",
       "    <tr>\n",
       "      <th>2</th>\n",
       "      <td>True</td>\n",
       "      <td>BBBC007_20P1_POS0007_D_1UL</td>\n",
       "      <td>293.0</td>\n",
       "      <td>98.227799</td>\n",
       "      <td>20.307965</td>\n",
       "      <td>18.599043</td>\n",
       "      <td>1.101700</td>\n",
       "    </tr>\n",
       "    <tr>\n",
       "      <th>3</th>\n",
       "      <td>True</td>\n",
       "      <td>BBBC007_20P1_POS0010_D_1UL</td>\n",
       "      <td>277.5</td>\n",
       "      <td>103.299825</td>\n",
       "      <td>19.662330</td>\n",
       "      <td>17.680741</td>\n",
       "      <td>1.103133</td>\n",
       "    </tr>\n",
       "  </tbody>\n",
       "</table>\n",
       "</div>"
      ]
     },
     "execution_count": 8,
     "metadata": {},
     "output_type": "execute_result"
    }
   ],
   "execution_count": 8
  },
  {
   "metadata": {},
   "cell_type": "markdown",
   "source": [
    "## Applying custom functions\n",
    "If we want to apply a function that is not built-in, we can also do so. For example, let's apply the coefficient of variance. We can define a generic function that calculates it like shown below."
   ],
   "id": "f1b695168180e57f"
  },
  {
   "metadata": {
    "ExecuteTime": {
     "end_time": "2024-04-30T14:22:29.706673Z",
     "start_time": "2024-04-30T14:22:29.704940Z"
    }
   },
   "cell_type": "code",
   "source": [
    "def coefficient_of_variance(data):\n",
    "    \"\"\"Compute coefficient of variation from an array of data.\"\"\"\n",
    "    return np.std(data) / np.mean(data)"
   ],
   "id": "1981eff750c82cba",
   "outputs": [],
   "execution_count": 9
  },
  {
   "metadata": {},
   "cell_type": "markdown",
   "source": "Let's group our data again and apply our custom function as an aggregating function. If there are other categorical variables, they should be masked.",
   "id": "e583ca531b978233"
  },
  {
   "metadata": {
    "ExecuteTime": {
     "end_time": "2024-04-30T14:22:29.710063Z",
     "start_time": "2024-04-30T14:22:29.708421Z"
    }
   },
   "cell_type": "code",
   "source": "grouped = df.groupby(['round', 'source_file'])",
   "id": "7dfb25acd9b15c77",
   "outputs": [],
   "execution_count": 10
  },
  {
   "metadata": {
    "ExecuteTime": {
     "end_time": "2024-04-30T14:22:29.717494Z",
     "start_time": "2024-04-30T14:22:29.710701Z"
    }
   },
   "cell_type": "code",
   "source": "grouped.agg(coefficient_of_variance).reset_index()",
   "id": "fac1fc225ed976b2",
   "outputs": [
    {
     "data": {
      "text/plain": [
       "   round                 source_file      area  intensity_mean  \\\n",
       "0  False  BBBC007_20P1_POS0007_D_1UL  0.540399        0.145956   \n",
       "1  False  BBBC007_20P1_POS0010_D_1UL  0.765156        0.143506   \n",
       "2   True  BBBC007_20P1_POS0007_D_1UL  0.248799        0.099636   \n",
       "3   True  BBBC007_20P1_POS0010_D_1UL  0.275120        0.107008   \n",
       "\n",
       "   major_axis_length  minor_axis_length  aspect_ratio  \n",
       "0           0.349857           0.289063      0.243450  \n",
       "1           0.447638           0.402708      0.316206  \n",
       "2           0.145247           0.147626      0.036950  \n",
       "3           0.167722           0.166214      0.043755  "
      ],
      "text/html": [
       "<div>\n",
       "<style scoped>\n",
       "    .dataframe tbody tr th:only-of-type {\n",
       "        vertical-align: middle;\n",
       "    }\n",
       "\n",
       "    .dataframe tbody tr th {\n",
       "        vertical-align: top;\n",
       "    }\n",
       "\n",
       "    .dataframe thead th {\n",
       "        text-align: right;\n",
       "    }\n",
       "</style>\n",
       "<table border=\"1\" class=\"dataframe\">\n",
       "  <thead>\n",
       "    <tr style=\"text-align: right;\">\n",
       "      <th></th>\n",
       "      <th>round</th>\n",
       "      <th>source_file</th>\n",
       "      <th>area</th>\n",
       "      <th>intensity_mean</th>\n",
       "      <th>major_axis_length</th>\n",
       "      <th>minor_axis_length</th>\n",
       "      <th>aspect_ratio</th>\n",
       "    </tr>\n",
       "  </thead>\n",
       "  <tbody>\n",
       "    <tr>\n",
       "      <th>0</th>\n",
       "      <td>False</td>\n",
       "      <td>BBBC007_20P1_POS0007_D_1UL</td>\n",
       "      <td>0.540399</td>\n",
       "      <td>0.145956</td>\n",
       "      <td>0.349857</td>\n",
       "      <td>0.289063</td>\n",
       "      <td>0.243450</td>\n",
       "    </tr>\n",
       "    <tr>\n",
       "      <th>1</th>\n",
       "      <td>False</td>\n",
       "      <td>BBBC007_20P1_POS0010_D_1UL</td>\n",
       "      <td>0.765156</td>\n",
       "      <td>0.143506</td>\n",
       "      <td>0.447638</td>\n",
       "      <td>0.402708</td>\n",
       "      <td>0.316206</td>\n",
       "    </tr>\n",
       "    <tr>\n",
       "      <th>2</th>\n",
       "      <td>True</td>\n",
       "      <td>BBBC007_20P1_POS0007_D_1UL</td>\n",
       "      <td>0.248799</td>\n",
       "      <td>0.099636</td>\n",
       "      <td>0.145247</td>\n",
       "      <td>0.147626</td>\n",
       "      <td>0.036950</td>\n",
       "    </tr>\n",
       "    <tr>\n",
       "      <th>3</th>\n",
       "      <td>True</td>\n",
       "      <td>BBBC007_20P1_POS0010_D_1UL</td>\n",
       "      <td>0.275120</td>\n",
       "      <td>0.107008</td>\n",
       "      <td>0.167722</td>\n",
       "      <td>0.166214</td>\n",
       "      <td>0.043755</td>\n",
       "    </tr>\n",
       "  </tbody>\n",
       "</table>\n",
       "</div>"
      ]
     },
     "execution_count": 11,
     "metadata": {},
     "output_type": "execute_result"
    }
   ],
   "execution_count": 11
  }
 ],
 "metadata": {
  "kernelspec": {
   "display_name": "Python 3",
   "language": "python",
   "name": "python3"
  },
  "language_info": {
   "codemirror_mode": {
    "name": "ipython",
    "version": 2
   },
   "file_extension": ".py",
   "mimetype": "text/x-python",
   "name": "python",
   "nbconvert_exporter": "python",
   "pygments_lexer": "ipython2",
   "version": "2.7.6"
  }
 },
 "nbformat": 4,
 "nbformat_minor": 5
}
