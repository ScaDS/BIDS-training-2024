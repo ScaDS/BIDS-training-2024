{
 "cells": [
  {
   "metadata": {},
   "cell_type": "markdown",
   "source": [
    "# Handling missing data\n",
    "\n",
    "When analyzing tabular data, sometimes table cells are present that do not contain data. In Python, this typically means the value is _Not a Number_, or [`NaN`](https://en.wikipedia.org/wiki/NaN). Often, we cannot assume these values are 0 or -1 or any other value because that would distort descriptive statistics, for example. We need to deal with these NaN entries differently, and this notebook will introduce how.\n",
    "\n",
    "To get a first view where NaNs play a role, we load again some example data from a CSV file. This file uses a semicolon as separator or delimiter...we can provide pandas with this information."
   ],
   "id": "c5c5fccfe658f1a9"
  },
  {
   "metadata": {
    "ExecuteTime": {
     "end_time": "2024-04-30T14:20:47.687311Z",
     "start_time": "2024-04-30T14:20:47.520572Z"
    }
   },
   "cell_type": "code",
   "source": "import pandas as pd",
   "id": "713577616ee4c7f0",
   "outputs": [],
   "execution_count": 1
  },
  {
   "metadata": {
    "ExecuteTime": {
     "end_time": "2024-04-30T14:20:47.695340Z",
     "start_time": "2024-04-30T14:20:47.688397Z"
    }
   },
   "cell_type": "code",
   "source": [
    "df = pd.read_csv('../data/results.csv', index_col=0, delimiter=';')\n",
    "df.info()"
   ],
   "id": "b466bd0bd87bb45e",
   "outputs": [
    {
     "name": "stdout",
     "output_type": "stream",
     "text": [
      "<class 'pandas.core.frame.DataFrame'>\n",
      "Index: 391 entries, 1 to 391\n",
      "Data columns (total 14 columns):\n",
      " #   Column  Non-Null Count  Dtype  \n",
      "---  ------  --------------  -----  \n",
      " 0   Area    389 non-null    float64\n",
      " 1   Mean    386 non-null    float64\n",
      " 2   StdDev  388 non-null    float64\n",
      " 3   Min     388 non-null    float64\n",
      " 4   Max     388 non-null    float64\n",
      " 5   X       389 non-null    float64\n",
      " 6   Y       388 non-null    float64\n",
      " 7   XM      388 non-null    float64\n",
      " 8   YM      386 non-null    float64\n",
      " 9   Major   383 non-null    float64\n",
      " 10  Minor   388 non-null    float64\n",
      " 11  Angle   390 non-null    float64\n",
      " 12  %Area   391 non-null    int64  \n",
      " 13  Type    391 non-null    object \n",
      "dtypes: float64(12), int64(1), object(1)\n",
      "memory usage: 45.8+ KB\n"
     ]
    }
   ],
   "execution_count": 2
  },
  {
   "metadata": {
    "ExecuteTime": {
     "end_time": "2024-04-30T14:20:47.705704Z",
     "start_time": "2024-04-30T14:20:47.696162Z"
    }
   },
   "cell_type": "code",
   "source": "df",
   "id": "1d8faa1aaca0086e",
   "outputs": [
    {
     "data": {
      "text/plain": [
       "      Area     Mean   StdDev    Min     Max        X        Y       XM  \\\n",
       "                                                                         \n",
       "1     18.0  730.389  103.354  592.0   948.0  435.000    4.722  434.962   \n",
       "2    126.0  718.333   90.367  556.0  1046.0  388.087    8.683  388.183   \n",
       "3      NaN      NaN      NaN  608.0   964.0      NaN      NaN      NaN   \n",
       "4     68.0  686.985   61.169  571.0   880.0  126.147    8.809  126.192   \n",
       "5      NaN      NaN   69.438  566.0   792.0  348.500    7.500      NaN   \n",
       "..     ...      ...      ...    ...     ...      ...      ...      ...   \n",
       "387  152.0  801.599  111.328  582.0  1263.0  348.487  497.632  348.451   \n",
       "388   17.0  742.706   69.624  620.0   884.0  420.500  496.382  420.513   \n",
       "389   60.0  758.033   77.309  601.0   947.0  259.000  499.300  258.990   \n",
       "390   12.0  714.833   67.294  551.0   785.0  240.167  498.167  240.179   \n",
       "391   23.0  695.043   67.356  611.0   846.0   49.891  503.022   49.882   \n",
       "\n",
       "          YM   Major   Minor    Angle  %Area Type  \n",
       "                                                   \n",
       "1      4.697   5.987   3.828  168.425    100    A  \n",
       "2      8.687  16.559   9.688  175.471    100    A  \n",
       "3      7.665   7.359     NaN  101.121    100    A  \n",
       "4      8.811  15.136   5.720  168.133    100    A  \n",
       "5      7.508     NaN   3.088      NaN    100    A  \n",
       "..       ...     ...     ...      ...    ...  ...  \n",
       "387  497.675  17.773  10.889   11.829    100    A  \n",
       "388      NaN     NaN   3.663   49.457    100    A  \n",
       "389  499.289   9.476   8.062   90.000    100    A  \n",
       "390  498.148   4.606   3.317  168.690    100    A  \n",
       "391  502.979   6.454   4.537   73.243    100    A  \n",
       "\n",
       "[391 rows x 14 columns]"
      ],
      "text/html": [
       "<div>\n",
       "<style scoped>\n",
       "    .dataframe tbody tr th:only-of-type {\n",
       "        vertical-align: middle;\n",
       "    }\n",
       "\n",
       "    .dataframe tbody tr th {\n",
       "        vertical-align: top;\n",
       "    }\n",
       "\n",
       "    .dataframe thead th {\n",
       "        text-align: right;\n",
       "    }\n",
       "</style>\n",
       "<table border=\"1\" class=\"dataframe\">\n",
       "  <thead>\n",
       "    <tr style=\"text-align: right;\">\n",
       "      <th></th>\n",
       "      <th>Area</th>\n",
       "      <th>Mean</th>\n",
       "      <th>StdDev</th>\n",
       "      <th>Min</th>\n",
       "      <th>Max</th>\n",
       "      <th>X</th>\n",
       "      <th>Y</th>\n",
       "      <th>XM</th>\n",
       "      <th>YM</th>\n",
       "      <th>Major</th>\n",
       "      <th>Minor</th>\n",
       "      <th>Angle</th>\n",
       "      <th>%Area</th>\n",
       "      <th>Type</th>\n",
       "    </tr>\n",
       "    <tr>\n",
       "      <th></th>\n",
       "      <th></th>\n",
       "      <th></th>\n",
       "      <th></th>\n",
       "      <th></th>\n",
       "      <th></th>\n",
       "      <th></th>\n",
       "      <th></th>\n",
       "      <th></th>\n",
       "      <th></th>\n",
       "      <th></th>\n",
       "      <th></th>\n",
       "      <th></th>\n",
       "      <th></th>\n",
       "      <th></th>\n",
       "    </tr>\n",
       "  </thead>\n",
       "  <tbody>\n",
       "    <tr>\n",
       "      <th>1</th>\n",
       "      <td>18.0</td>\n",
       "      <td>730.389</td>\n",
       "      <td>103.354</td>\n",
       "      <td>592.0</td>\n",
       "      <td>948.0</td>\n",
       "      <td>435.000</td>\n",
       "      <td>4.722</td>\n",
       "      <td>434.962</td>\n",
       "      <td>4.697</td>\n",
       "      <td>5.987</td>\n",
       "      <td>3.828</td>\n",
       "      <td>168.425</td>\n",
       "      <td>100</td>\n",
       "      <td>A</td>\n",
       "    </tr>\n",
       "    <tr>\n",
       "      <th>2</th>\n",
       "      <td>126.0</td>\n",
       "      <td>718.333</td>\n",
       "      <td>90.367</td>\n",
       "      <td>556.0</td>\n",
       "      <td>1046.0</td>\n",
       "      <td>388.087</td>\n",
       "      <td>8.683</td>\n",
       "      <td>388.183</td>\n",
       "      <td>8.687</td>\n",
       "      <td>16.559</td>\n",
       "      <td>9.688</td>\n",
       "      <td>175.471</td>\n",
       "      <td>100</td>\n",
       "      <td>A</td>\n",
       "    </tr>\n",
       "    <tr>\n",
       "      <th>3</th>\n",
       "      <td>NaN</td>\n",
       "      <td>NaN</td>\n",
       "      <td>NaN</td>\n",
       "      <td>608.0</td>\n",
       "      <td>964.0</td>\n",
       "      <td>NaN</td>\n",
       "      <td>NaN</td>\n",
       "      <td>NaN</td>\n",
       "      <td>7.665</td>\n",
       "      <td>7.359</td>\n",
       "      <td>NaN</td>\n",
       "      <td>101.121</td>\n",
       "      <td>100</td>\n",
       "      <td>A</td>\n",
       "    </tr>\n",
       "    <tr>\n",
       "      <th>4</th>\n",
       "      <td>68.0</td>\n",
       "      <td>686.985</td>\n",
       "      <td>61.169</td>\n",
       "      <td>571.0</td>\n",
       "      <td>880.0</td>\n",
       "      <td>126.147</td>\n",
       "      <td>8.809</td>\n",
       "      <td>126.192</td>\n",
       "      <td>8.811</td>\n",
       "      <td>15.136</td>\n",
       "      <td>5.720</td>\n",
       "      <td>168.133</td>\n",
       "      <td>100</td>\n",
       "      <td>A</td>\n",
       "    </tr>\n",
       "    <tr>\n",
       "      <th>5</th>\n",
       "      <td>NaN</td>\n",
       "      <td>NaN</td>\n",
       "      <td>69.438</td>\n",
       "      <td>566.0</td>\n",
       "      <td>792.0</td>\n",
       "      <td>348.500</td>\n",
       "      <td>7.500</td>\n",
       "      <td>NaN</td>\n",
       "      <td>7.508</td>\n",
       "      <td>NaN</td>\n",
       "      <td>3.088</td>\n",
       "      <td>NaN</td>\n",
       "      <td>100</td>\n",
       "      <td>A</td>\n",
       "    </tr>\n",
       "    <tr>\n",
       "      <th>...</th>\n",
       "      <td>...</td>\n",
       "      <td>...</td>\n",
       "      <td>...</td>\n",
       "      <td>...</td>\n",
       "      <td>...</td>\n",
       "      <td>...</td>\n",
       "      <td>...</td>\n",
       "      <td>...</td>\n",
       "      <td>...</td>\n",
       "      <td>...</td>\n",
       "      <td>...</td>\n",
       "      <td>...</td>\n",
       "      <td>...</td>\n",
       "      <td>...</td>\n",
       "    </tr>\n",
       "    <tr>\n",
       "      <th>387</th>\n",
       "      <td>152.0</td>\n",
       "      <td>801.599</td>\n",
       "      <td>111.328</td>\n",
       "      <td>582.0</td>\n",
       "      <td>1263.0</td>\n",
       "      <td>348.487</td>\n",
       "      <td>497.632</td>\n",
       "      <td>348.451</td>\n",
       "      <td>497.675</td>\n",
       "      <td>17.773</td>\n",
       "      <td>10.889</td>\n",
       "      <td>11.829</td>\n",
       "      <td>100</td>\n",
       "      <td>A</td>\n",
       "    </tr>\n",
       "    <tr>\n",
       "      <th>388</th>\n",
       "      <td>17.0</td>\n",
       "      <td>742.706</td>\n",
       "      <td>69.624</td>\n",
       "      <td>620.0</td>\n",
       "      <td>884.0</td>\n",
       "      <td>420.500</td>\n",
       "      <td>496.382</td>\n",
       "      <td>420.513</td>\n",
       "      <td>NaN</td>\n",
       "      <td>NaN</td>\n",
       "      <td>3.663</td>\n",
       "      <td>49.457</td>\n",
       "      <td>100</td>\n",
       "      <td>A</td>\n",
       "    </tr>\n",
       "    <tr>\n",
       "      <th>389</th>\n",
       "      <td>60.0</td>\n",
       "      <td>758.033</td>\n",
       "      <td>77.309</td>\n",
       "      <td>601.0</td>\n",
       "      <td>947.0</td>\n",
       "      <td>259.000</td>\n",
       "      <td>499.300</td>\n",
       "      <td>258.990</td>\n",
       "      <td>499.289</td>\n",
       "      <td>9.476</td>\n",
       "      <td>8.062</td>\n",
       "      <td>90.000</td>\n",
       "      <td>100</td>\n",
       "      <td>A</td>\n",
       "    </tr>\n",
       "    <tr>\n",
       "      <th>390</th>\n",
       "      <td>12.0</td>\n",
       "      <td>714.833</td>\n",
       "      <td>67.294</td>\n",
       "      <td>551.0</td>\n",
       "      <td>785.0</td>\n",
       "      <td>240.167</td>\n",
       "      <td>498.167</td>\n",
       "      <td>240.179</td>\n",
       "      <td>498.148</td>\n",
       "      <td>4.606</td>\n",
       "      <td>3.317</td>\n",
       "      <td>168.690</td>\n",
       "      <td>100</td>\n",
       "      <td>A</td>\n",
       "    </tr>\n",
       "    <tr>\n",
       "      <th>391</th>\n",
       "      <td>23.0</td>\n",
       "      <td>695.043</td>\n",
       "      <td>67.356</td>\n",
       "      <td>611.0</td>\n",
       "      <td>846.0</td>\n",
       "      <td>49.891</td>\n",
       "      <td>503.022</td>\n",
       "      <td>49.882</td>\n",
       "      <td>502.979</td>\n",
       "      <td>6.454</td>\n",
       "      <td>4.537</td>\n",
       "      <td>73.243</td>\n",
       "      <td>100</td>\n",
       "      <td>A</td>\n",
       "    </tr>\n",
       "  </tbody>\n",
       "</table>\n",
       "<p>391 rows × 14 columns</p>\n",
       "</div>"
      ]
     },
     "execution_count": 3,
     "metadata": {},
     "output_type": "execute_result"
    }
   ],
   "execution_count": 3
  },
  {
   "metadata": {},
   "cell_type": "markdown",
   "source": [
    "## Examine missing data\n",
    "As you can see, there are rows containing NaNs. A check if there are NaNs anywhere in a DataFrame is an important quality check at the beginning of any analysis task and good scientific practice.\n",
    "\n",
    "Pandas' [`isnull`](https://pandas.pydata.org/docs/reference/api/pandas.DataFrame.isnull.html) provides a boolean masking of the DataFrame with `True / False` values, where `True` indicates a NaN."
   ],
   "id": "708e02eec2e5636e"
  },
  {
   "metadata": {
    "ExecuteTime": {
     "end_time": "2024-04-30T14:20:47.711759Z",
     "start_time": "2024-04-30T14:20:47.706975Z"
    }
   },
   "cell_type": "code",
   "source": "df.isnull().head()",
   "id": "d3710b568ce96445",
   "outputs": [
    {
     "data": {
      "text/plain": [
       "    Area   Mean  StdDev    Min    Max      X      Y     XM     YM  Major  \\\n",
       "                                                                           \n",
       "1  False  False   False  False  False  False  False  False  False  False   \n",
       "2  False  False   False  False  False  False  False  False  False  False   \n",
       "3   True   True    True  False  False   True   True   True  False  False   \n",
       "4  False  False   False  False  False  False  False  False  False  False   \n",
       "5   True   True   False  False  False  False  False   True  False   True   \n",
       "\n",
       "   Minor  Angle  %Area   Type  \n",
       "                               \n",
       "1  False  False  False  False  \n",
       "2  False  False  False  False  \n",
       "3   True  False  False  False  \n",
       "4  False  False  False  False  \n",
       "5  False   True  False  False  "
      ],
      "text/html": [
       "<div>\n",
       "<style scoped>\n",
       "    .dataframe tbody tr th:only-of-type {\n",
       "        vertical-align: middle;\n",
       "    }\n",
       "\n",
       "    .dataframe tbody tr th {\n",
       "        vertical-align: top;\n",
       "    }\n",
       "\n",
       "    .dataframe thead th {\n",
       "        text-align: right;\n",
       "    }\n",
       "</style>\n",
       "<table border=\"1\" class=\"dataframe\">\n",
       "  <thead>\n",
       "    <tr style=\"text-align: right;\">\n",
       "      <th></th>\n",
       "      <th>Area</th>\n",
       "      <th>Mean</th>\n",
       "      <th>StdDev</th>\n",
       "      <th>Min</th>\n",
       "      <th>Max</th>\n",
       "      <th>X</th>\n",
       "      <th>Y</th>\n",
       "      <th>XM</th>\n",
       "      <th>YM</th>\n",
       "      <th>Major</th>\n",
       "      <th>Minor</th>\n",
       "      <th>Angle</th>\n",
       "      <th>%Area</th>\n",
       "      <th>Type</th>\n",
       "    </tr>\n",
       "    <tr>\n",
       "      <th></th>\n",
       "      <th></th>\n",
       "      <th></th>\n",
       "      <th></th>\n",
       "      <th></th>\n",
       "      <th></th>\n",
       "      <th></th>\n",
       "      <th></th>\n",
       "      <th></th>\n",
       "      <th></th>\n",
       "      <th></th>\n",
       "      <th></th>\n",
       "      <th></th>\n",
       "      <th></th>\n",
       "      <th></th>\n",
       "    </tr>\n",
       "  </thead>\n",
       "  <tbody>\n",
       "    <tr>\n",
       "      <th>1</th>\n",
       "      <td>False</td>\n",
       "      <td>False</td>\n",
       "      <td>False</td>\n",
       "      <td>False</td>\n",
       "      <td>False</td>\n",
       "      <td>False</td>\n",
       "      <td>False</td>\n",
       "      <td>False</td>\n",
       "      <td>False</td>\n",
       "      <td>False</td>\n",
       "      <td>False</td>\n",
       "      <td>False</td>\n",
       "      <td>False</td>\n",
       "      <td>False</td>\n",
       "    </tr>\n",
       "    <tr>\n",
       "      <th>2</th>\n",
       "      <td>False</td>\n",
       "      <td>False</td>\n",
       "      <td>False</td>\n",
       "      <td>False</td>\n",
       "      <td>False</td>\n",
       "      <td>False</td>\n",
       "      <td>False</td>\n",
       "      <td>False</td>\n",
       "      <td>False</td>\n",
       "      <td>False</td>\n",
       "      <td>False</td>\n",
       "      <td>False</td>\n",
       "      <td>False</td>\n",
       "      <td>False</td>\n",
       "    </tr>\n",
       "    <tr>\n",
       "      <th>3</th>\n",
       "      <td>True</td>\n",
       "      <td>True</td>\n",
       "      <td>True</td>\n",
       "      <td>False</td>\n",
       "      <td>False</td>\n",
       "      <td>True</td>\n",
       "      <td>True</td>\n",
       "      <td>True</td>\n",
       "      <td>False</td>\n",
       "      <td>False</td>\n",
       "      <td>True</td>\n",
       "      <td>False</td>\n",
       "      <td>False</td>\n",
       "      <td>False</td>\n",
       "    </tr>\n",
       "    <tr>\n",
       "      <th>4</th>\n",
       "      <td>False</td>\n",
       "      <td>False</td>\n",
       "      <td>False</td>\n",
       "      <td>False</td>\n",
       "      <td>False</td>\n",
       "      <td>False</td>\n",
       "      <td>False</td>\n",
       "      <td>False</td>\n",
       "      <td>False</td>\n",
       "      <td>False</td>\n",
       "      <td>False</td>\n",
       "      <td>False</td>\n",
       "      <td>False</td>\n",
       "      <td>False</td>\n",
       "    </tr>\n",
       "    <tr>\n",
       "      <th>5</th>\n",
       "      <td>True</td>\n",
       "      <td>True</td>\n",
       "      <td>False</td>\n",
       "      <td>False</td>\n",
       "      <td>False</td>\n",
       "      <td>False</td>\n",
       "      <td>False</td>\n",
       "      <td>True</td>\n",
       "      <td>False</td>\n",
       "      <td>True</td>\n",
       "      <td>False</td>\n",
       "      <td>True</td>\n",
       "      <td>False</td>\n",
       "      <td>False</td>\n",
       "    </tr>\n",
       "  </tbody>\n",
       "</table>\n",
       "</div>"
      ]
     },
     "execution_count": 4,
     "metadata": {},
     "output_type": "execute_result"
    }
   ],
   "execution_count": 4
  },
  {
   "metadata": {},
   "cell_type": "markdown",
   "source": "With this boolean masking, we can do some further analysis. And since `True / False` can also be interpreted as `1 / 0`, we also can do math with it.",
   "id": "9eaf9281e0139a63"
  },
  {
   "metadata": {
    "ExecuteTime": {
     "end_time": "2024-04-30T14:20:47.714728Z",
     "start_time": "2024-04-30T14:20:47.712391Z"
    }
   },
   "cell_type": "code",
   "source": [
    "# Check if there are any NaN in the data\n",
    "df.isna().values.any()"
   ],
   "id": "4b4ed037794ffc55",
   "outputs": [
    {
     "data": {
      "text/plain": [
       "True"
      ]
     },
     "execution_count": 5,
     "metadata": {},
     "output_type": "execute_result"
    }
   ],
   "execution_count": 5
  },
  {
   "metadata": {
    "ExecuteTime": {
     "end_time": "2024-04-30T14:20:47.718426Z",
     "start_time": "2024-04-30T14:20:47.715408Z"
    }
   },
   "cell_type": "code",
   "source": [
    "# Get a column-wise overview of NaN and count them\n",
    "df.isnull().sum().sort_values(ascending=False)"
   ],
   "id": "d59d344e92e2ae87",
   "outputs": [
    {
     "data": {
      "text/plain": [
       "Major     8\n",
       "Mean      5\n",
       "YM        5\n",
       "StdDev    3\n",
       "Min       3\n",
       "Max       3\n",
       "Y         3\n",
       "XM        3\n",
       "Minor     3\n",
       "Area      2\n",
       "X         2\n",
       "Angle     1\n",
       "%Area     0\n",
       "Type      0\n",
       "dtype: int64"
      ]
     },
     "execution_count": 6,
     "metadata": {},
     "output_type": "execute_result"
    }
   ],
   "execution_count": 6
  },
  {
   "metadata": {
    "ExecuteTime": {
     "end_time": "2024-04-30T14:20:47.722185Z",
     "start_time": "2024-04-30T14:20:47.719081Z"
    }
   },
   "cell_type": "code",
   "source": [
    "# Compute the column-wise percentage of NaN\n",
    "df.isnull().mean().sort_values(ascending=False) * 100"
   ],
   "id": "b3fad4a528ba7e65",
   "outputs": [
    {
     "data": {
      "text/plain": [
       "Major     2.046036\n",
       "Mean      1.278772\n",
       "YM        1.278772\n",
       "StdDev    0.767263\n",
       "Min       0.767263\n",
       "Max       0.767263\n",
       "Y         0.767263\n",
       "XM        0.767263\n",
       "Minor     0.767263\n",
       "Area      0.511509\n",
       "X         0.511509\n",
       "Angle     0.255754\n",
       "%Area     0.000000\n",
       "Type      0.000000\n",
       "dtype: float64"
      ]
     },
     "execution_count": 7,
     "metadata": {},
     "output_type": "execute_result"
    }
   ],
   "execution_count": 7
  },
  {
   "metadata": {},
   "cell_type": "markdown",
   "source": "For most DataFrame methods, we can provide the parameter `axis`, determining whether the computation should be done on the columns or the rows / index.",
   "id": "304fd1003634fdef"
  },
  {
   "metadata": {
    "ExecuteTime": {
     "end_time": "2024-04-30T14:20:47.726170Z",
     "start_time": "2024-04-30T14:20:47.722843Z"
    }
   },
   "cell_type": "code",
   "source": [
    "# Compute the row-wise percentage of NaN\n",
    "df.isnull().mean(axis=1).sort_values(ascending=False) * 100"
   ],
   "id": "9e157ba21e96166f",
   "outputs": [
    {
     "data": {
      "text/plain": [
       " \n",
       "184    71.428571\n",
       "3      50.000000\n",
       "5      35.714286\n",
       "138    14.285714\n",
       "388    14.285714\n",
       "         ...    \n",
       "134     0.000000\n",
       "133     0.000000\n",
       "132     0.000000\n",
       "131     0.000000\n",
       "391     0.000000\n",
       "Length: 391, dtype: float64"
      ]
     },
     "execution_count": 8,
     "metadata": {},
     "output_type": "execute_result"
    }
   ],
   "execution_count": 8
  },
  {
   "metadata": {},
   "cell_type": "markdown",
   "source": "We may also want to have a list of indices for rows containing NaNs, i.e., sample numbers with missing data. Here, we can combine the indexing with a boolean masking for existing NaN:",
   "id": "aac43fb2447804bb"
  },
  {
   "metadata": {
    "ExecuteTime": {
     "end_time": "2024-04-30T14:20:47.729600Z",
     "start_time": "2024-04-30T14:20:47.727054Z"
    }
   },
   "cell_type": "code",
   "source": "df.loc[df.isnull().any(axis=1)].index.values.tolist()",
   "id": "5eae5973f5092d92",
   "outputs": [
    {
     "data": {
      "text/plain": [
       "[3, 5, 43, 48, 52, 77, 114, 115, 117, 138, 162, 184, 186, 384, 385, 386, 388]"
      ]
     },
     "execution_count": 9,
     "metadata": {},
     "output_type": "execute_result"
    }
   ],
   "execution_count": 9
  },
  {
   "metadata": {},
   "cell_type": "markdown",
   "source": [
    "## Dropping data that contain NaNs\n",
    "\n",
    "Depending on what kind of data analysis should be performed, it might make sense to just ignore rows and columns that contain NaN values. Alternatively, it is possible to delete rows or columns that contain NaNs. We may also use different methods to impute missing data and fill the gaps, where we should consider that those values may not represent the \"real world\" and may have an impact on further data analysis.\n",
    "\n",
    "It always depends on your project, the data, and what is important or not for your analysis. It's not an easy answer. Whatever the solution will be, it should be documented and this info should also be provided in any scientific publication based on this data.\n",
    "\n",
    "In this case, we'll use [`dropna`](https://pandas.pydata.org/docs/reference/api/pandas.DataFrame.dropna.html) to remove all rows (`index`) which have `any` missing data."
   ],
   "id": "efd4c9f8af24aff1"
  },
  {
   "metadata": {
    "ExecuteTime": {
     "end_time": "2024-04-30T14:20:47.735413Z",
     "start_time": "2024-04-30T14:20:47.731334Z"
    }
   },
   "cell_type": "code",
   "source": [
    "df_no_nan = df.dropna(axis='index', how='any')\n",
    "df_no_nan.info()"
   ],
   "id": "a1aa373780c55d90",
   "outputs": [
    {
     "name": "stdout",
     "output_type": "stream",
     "text": [
      "<class 'pandas.core.frame.DataFrame'>\n",
      "Index: 374 entries, 1 to 391\n",
      "Data columns (total 14 columns):\n",
      " #   Column  Non-Null Count  Dtype  \n",
      "---  ------  --------------  -----  \n",
      " 0   Area    374 non-null    float64\n",
      " 1   Mean    374 non-null    float64\n",
      " 2   StdDev  374 non-null    float64\n",
      " 3   Min     374 non-null    float64\n",
      " 4   Max     374 non-null    float64\n",
      " 5   X       374 non-null    float64\n",
      " 6   Y       374 non-null    float64\n",
      " 7   XM      374 non-null    float64\n",
      " 8   YM      374 non-null    float64\n",
      " 9   Major   374 non-null    float64\n",
      " 10  Minor   374 non-null    float64\n",
      " 11  Angle   374 non-null    float64\n",
      " 12  %Area   374 non-null    int64  \n",
      " 13  Type    374 non-null    object \n",
      "dtypes: float64(12), int64(1), object(1)\n",
      "memory usage: 43.8+ KB\n"
     ]
    }
   ],
   "execution_count": 10
  },
  {
   "metadata": {},
   "cell_type": "markdown",
   "source": "We can now also check again if NaNs are present.",
   "id": "8d90e303fde9703d"
  },
  {
   "metadata": {
    "ExecuteTime": {
     "end_time": "2024-04-30T14:20:47.738411Z",
     "start_time": "2024-04-30T14:20:47.736107Z"
    }
   },
   "cell_type": "code",
   "source": "df_no_nan.isnull().values.any()",
   "id": "567644dd2c2afdb8",
   "outputs": [
    {
     "data": {
      "text/plain": [
       "False"
      ]
     },
     "execution_count": 11,
     "metadata": {},
     "output_type": "execute_result"
    }
   ],
   "execution_count": 11
  },
  {
   "metadata": {},
   "cell_type": "markdown",
   "source": [
    "## Exercise\n",
    "\n",
    "Take the original data table and select the columns Area and Mean. Remove all rows that contain NaNs and count the remaining rows. Afterward, take the original data table again and select the columns Major and Minor. Remove NaNs and count the remaining rows again. What do you conclude?"
   ],
   "id": "68b00bce75e41b75"
  },
  {
   "metadata": {
    "ExecuteTime": {
     "end_time": "2024-04-30T14:20:47.740123Z",
     "start_time": "2024-04-30T14:20:47.738986Z"
    }
   },
   "cell_type": "code",
   "source": "",
   "id": "8f3bc5b3f1fece28",
   "outputs": [],
   "execution_count": 11
  }
 ],
 "metadata": {
  "kernelspec": {
   "display_name": "Python 3",
   "language": "python",
   "name": "python3"
  },
  "language_info": {
   "codemirror_mode": {
    "name": "ipython",
    "version": 2
   },
   "file_extension": ".py",
   "mimetype": "text/x-python",
   "name": "python",
   "nbconvert_exporter": "python",
   "pygments_lexer": "ipython2",
   "version": "2.7.6"
  }
 },
 "nbformat": 4,
 "nbformat_minor": 5
}
