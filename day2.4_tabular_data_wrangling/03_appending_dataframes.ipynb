{
 "cells": [
  {
   "metadata": {},
   "cell_type": "markdown",
   "source": [
    "# Appending and extending DataFrames\n",
    "\n",
    "When processing different data, e.g., multiple images, potentially using multiple image processing libraries, a common task is to combine the resulting DataFrames or tables. Pandas provides a couple of approaches to do this.\n",
    "\n",
    "See also:\n",
    "* [Pandas user guide on combining](https://pandas.pydata.org/docs/user_guide/merging.html)\n",
    "* [RealPython guide on combining](https://realpython.com/pandas-merge-join-and-concat/)\n",
    "\n",
    "We start with two small tables of measurements that could have been obtained from different functions or different libraries."
   ],
   "id": "5c0bd731be7a1b80"
  },
  {
   "metadata": {
    "ExecuteTime": {
     "end_time": "2024-04-30T14:19:33.980776Z",
     "start_time": "2024-04-30T14:19:33.810138Z"
    }
   },
   "cell_type": "code",
   "source": "import pandas as pd",
   "id": "ad8214ba3085e3bd",
   "outputs": [],
   "execution_count": 1
  },
  {
   "metadata": {
    "ExecuteTime": {
     "end_time": "2024-04-30T14:19:33.987986Z",
     "start_time": "2024-04-30T14:19:33.981949Z"
    }
   },
   "cell_type": "code",
   "source": [
    "table1 = pd.DataFrame({\n",
    "    \"label\":       [1,   2,   3],\n",
    "    \"circularity\": [0.3, 0.5, 0.7],\n",
    "    \"elongation\":  [2.3, 3.4, 1.2],\n",
    "})\n",
    "table1"
   ],
   "id": "164e05b74351f325",
   "outputs": [
    {
     "data": {
      "text/plain": [
       "   label  circularity  elongation\n",
       "0      1          0.3         2.3\n",
       "1      2          0.5         3.4\n",
       "2      3          0.7         1.2"
      ],
      "text/html": [
       "<div>\n",
       "<style scoped>\n",
       "    .dataframe tbody tr th:only-of-type {\n",
       "        vertical-align: middle;\n",
       "    }\n",
       "\n",
       "    .dataframe tbody tr th {\n",
       "        vertical-align: top;\n",
       "    }\n",
       "\n",
       "    .dataframe thead th {\n",
       "        text-align: right;\n",
       "    }\n",
       "</style>\n",
       "<table border=\"1\" class=\"dataframe\">\n",
       "  <thead>\n",
       "    <tr style=\"text-align: right;\">\n",
       "      <th></th>\n",
       "      <th>label</th>\n",
       "      <th>circularity</th>\n",
       "      <th>elongation</th>\n",
       "    </tr>\n",
       "  </thead>\n",
       "  <tbody>\n",
       "    <tr>\n",
       "      <th>0</th>\n",
       "      <td>1</td>\n",
       "      <td>0.3</td>\n",
       "      <td>2.3</td>\n",
       "    </tr>\n",
       "    <tr>\n",
       "      <th>1</th>\n",
       "      <td>2</td>\n",
       "      <td>0.5</td>\n",
       "      <td>3.4</td>\n",
       "    </tr>\n",
       "    <tr>\n",
       "      <th>2</th>\n",
       "      <td>3</td>\n",
       "      <td>0.7</td>\n",
       "      <td>1.2</td>\n",
       "    </tr>\n",
       "  </tbody>\n",
       "</table>\n",
       "</div>"
      ]
     },
     "execution_count": 2,
     "metadata": {},
     "output_type": "execute_result"
    }
   ],
   "execution_count": 2
  },
  {
   "metadata": {
    "ExecuteTime": {
     "end_time": "2024-04-30T14:19:33.992529Z",
     "start_time": "2024-04-30T14:19:33.988719Z"
    }
   },
   "cell_type": "code",
   "source": [
    "table2 = pd.DataFrame({\n",
    "    \"label\":    [3,   2,   1,   4],\n",
    "    \"area\":     [22,  32,  25,  18],\n",
    "    \"skewness\": [0.5, 0.6, 0.3, 0.3],\n",
    "})\n",
    "table2"
   ],
   "id": "8657e3e8b403261c",
   "outputs": [
    {
     "data": {
      "text/plain": [
       "   label  area  skewness\n",
       "0      3    22       0.5\n",
       "1      2    32       0.6\n",
       "2      1    25       0.3\n",
       "3      4    18       0.3"
      ],
      "text/html": [
       "<div>\n",
       "<style scoped>\n",
       "    .dataframe tbody tr th:only-of-type {\n",
       "        vertical-align: middle;\n",
       "    }\n",
       "\n",
       "    .dataframe tbody tr th {\n",
       "        vertical-align: top;\n",
       "    }\n",
       "\n",
       "    .dataframe thead th {\n",
       "        text-align: right;\n",
       "    }\n",
       "</style>\n",
       "<table border=\"1\" class=\"dataframe\">\n",
       "  <thead>\n",
       "    <tr style=\"text-align: right;\">\n",
       "      <th></th>\n",
       "      <th>label</th>\n",
       "      <th>area</th>\n",
       "      <th>skewness</th>\n",
       "    </tr>\n",
       "  </thead>\n",
       "  <tbody>\n",
       "    <tr>\n",
       "      <th>0</th>\n",
       "      <td>3</td>\n",
       "      <td>22</td>\n",
       "      <td>0.5</td>\n",
       "    </tr>\n",
       "    <tr>\n",
       "      <th>1</th>\n",
       "      <td>2</td>\n",
       "      <td>32</td>\n",
       "      <td>0.6</td>\n",
       "    </tr>\n",
       "    <tr>\n",
       "      <th>2</th>\n",
       "      <td>1</td>\n",
       "      <td>25</td>\n",
       "      <td>0.3</td>\n",
       "    </tr>\n",
       "    <tr>\n",
       "      <th>3</th>\n",
       "      <td>4</td>\n",
       "      <td>18</td>\n",
       "      <td>0.3</td>\n",
       "    </tr>\n",
       "  </tbody>\n",
       "</table>\n",
       "</div>"
      ]
     },
     "execution_count": 3,
     "metadata": {},
     "output_type": "execute_result"
    }
   ],
   "execution_count": 3
  },
  {
   "metadata": {},
   "cell_type": "markdown",
   "source": [
    "## Combining columns of DataFrames\n",
    "\n",
    "There are multiple ways of combining tables. We first use [`concat`](https://pandas.pydata.org/docs/reference/api/pandas.concat.html) without further adaption as an example to highlight pitfalls when combining tables."
   ],
   "id": "4f3c4bbae88c66e9"
  },
  {
   "metadata": {
    "ExecuteTime": {
     "end_time": "2024-04-30T14:19:33.998657Z",
     "start_time": "2024-04-30T14:19:33.993655Z"
    }
   },
   "cell_type": "code",
   "source": [
    "wrongly_combined_tables = pd.concat([table1, table2], axis=1)\n",
    "wrongly_combined_tables"
   ],
   "id": "c7d477f82c9d5545",
   "outputs": [
    {
     "data": {
      "text/plain": [
       "   label  circularity  elongation  label  area  skewness\n",
       "0    1.0          0.3         2.3      3    22       0.5\n",
       "1    2.0          0.5         3.4      2    32       0.6\n",
       "2    3.0          0.7         1.2      1    25       0.3\n",
       "3    NaN          NaN         NaN      4    18       0.3"
      ],
      "text/html": [
       "<div>\n",
       "<style scoped>\n",
       "    .dataframe tbody tr th:only-of-type {\n",
       "        vertical-align: middle;\n",
       "    }\n",
       "\n",
       "    .dataframe tbody tr th {\n",
       "        vertical-align: top;\n",
       "    }\n",
       "\n",
       "    .dataframe thead th {\n",
       "        text-align: right;\n",
       "    }\n",
       "</style>\n",
       "<table border=\"1\" class=\"dataframe\">\n",
       "  <thead>\n",
       "    <tr style=\"text-align: right;\">\n",
       "      <th></th>\n",
       "      <th>label</th>\n",
       "      <th>circularity</th>\n",
       "      <th>elongation</th>\n",
       "      <th>label</th>\n",
       "      <th>area</th>\n",
       "      <th>skewness</th>\n",
       "    </tr>\n",
       "  </thead>\n",
       "  <tbody>\n",
       "    <tr>\n",
       "      <th>0</th>\n",
       "      <td>1.0</td>\n",
       "      <td>0.3</td>\n",
       "      <td>2.3</td>\n",
       "      <td>3</td>\n",
       "      <td>22</td>\n",
       "      <td>0.5</td>\n",
       "    </tr>\n",
       "    <tr>\n",
       "      <th>1</th>\n",
       "      <td>2.0</td>\n",
       "      <td>0.5</td>\n",
       "      <td>3.4</td>\n",
       "      <td>2</td>\n",
       "      <td>32</td>\n",
       "      <td>0.6</td>\n",
       "    </tr>\n",
       "    <tr>\n",
       "      <th>2</th>\n",
       "      <td>3.0</td>\n",
       "      <td>0.7</td>\n",
       "      <td>1.2</td>\n",
       "      <td>1</td>\n",
       "      <td>25</td>\n",
       "      <td>0.3</td>\n",
       "    </tr>\n",
       "    <tr>\n",
       "      <th>3</th>\n",
       "      <td>NaN</td>\n",
       "      <td>NaN</td>\n",
       "      <td>NaN</td>\n",
       "      <td>4</td>\n",
       "      <td>18</td>\n",
       "      <td>0.3</td>\n",
       "    </tr>\n",
       "  </tbody>\n",
       "</table>\n",
       "</div>"
      ]
     },
     "execution_count": 4,
     "metadata": {},
     "output_type": "execute_result"
    }
   ],
   "execution_count": 4
  },
  {
   "metadata": {},
   "cell_type": "markdown",
   "source": [
    "In the above example, measurements of label 1 and 3 have been mixed. Since both tables where not indexed on the labels but with a numbered row index, `concat` used this to combine them. Furthermore, one of our tables did not contain measurements for label 4.\n",
    "\n",
    "A better way for combining tables is the [`merge`](https://pandas.pydata.org/docs/reference/api/pandas.DataFrame.merge.html) command. It allows explicitly specifying `how` the merging is done, and `on` which column the tables should be combined. Data scientists speak of the 'index' or 'identifier' of rows in the tables."
   ],
   "id": "cd5b83e42e168a50"
  },
  {
   "metadata": {
    "ExecuteTime": {
     "end_time": "2024-04-30T14:19:34.004774Z",
     "start_time": "2024-04-30T14:19:33.999332Z"
    }
   },
   "cell_type": "code",
   "source": [
    "correctly_combined_tables1 = pd.merge(table1, table2, how='inner', on='label')\n",
    "correctly_combined_tables1"
   ],
   "id": "f16d69881dc87a7b",
   "outputs": [
    {
     "data": {
      "text/plain": [
       "   label  circularity  elongation  area  skewness\n",
       "0      1          0.3         2.3    25       0.3\n",
       "1      2          0.5         3.4    32       0.6\n",
       "2      3          0.7         1.2    22       0.5"
      ],
      "text/html": [
       "<div>\n",
       "<style scoped>\n",
       "    .dataframe tbody tr th:only-of-type {\n",
       "        vertical-align: middle;\n",
       "    }\n",
       "\n",
       "    .dataframe tbody tr th {\n",
       "        vertical-align: top;\n",
       "    }\n",
       "\n",
       "    .dataframe thead th {\n",
       "        text-align: right;\n",
       "    }\n",
       "</style>\n",
       "<table border=\"1\" class=\"dataframe\">\n",
       "  <thead>\n",
       "    <tr style=\"text-align: right;\">\n",
       "      <th></th>\n",
       "      <th>label</th>\n",
       "      <th>circularity</th>\n",
       "      <th>elongation</th>\n",
       "      <th>area</th>\n",
       "      <th>skewness</th>\n",
       "    </tr>\n",
       "  </thead>\n",
       "  <tbody>\n",
       "    <tr>\n",
       "      <th>0</th>\n",
       "      <td>1</td>\n",
       "      <td>0.3</td>\n",
       "      <td>2.3</td>\n",
       "      <td>25</td>\n",
       "      <td>0.3</td>\n",
       "    </tr>\n",
       "    <tr>\n",
       "      <th>1</th>\n",
       "      <td>2</td>\n",
       "      <td>0.5</td>\n",
       "      <td>3.4</td>\n",
       "      <td>32</td>\n",
       "      <td>0.6</td>\n",
       "    </tr>\n",
       "    <tr>\n",
       "      <th>2</th>\n",
       "      <td>3</td>\n",
       "      <td>0.7</td>\n",
       "      <td>1.2</td>\n",
       "      <td>22</td>\n",
       "      <td>0.5</td>\n",
       "    </tr>\n",
       "  </tbody>\n",
       "</table>\n",
       "</div>"
      ]
     },
     "execution_count": 5,
     "metadata": {},
     "output_type": "execute_result"
    }
   ],
   "execution_count": 5
  },
  {
   "metadata": {},
   "cell_type": "markdown",
   "source": "You may note that in the above example, label 4 is missing. We can also include it in our table by performing an `outer join`.",
   "id": "c6f6a6a1bfebe0b8"
  },
  {
   "metadata": {
    "ExecuteTime": {
     "end_time": "2024-04-30T14:19:34.010491Z",
     "start_time": "2024-04-30T14:19:34.005267Z"
    }
   },
   "cell_type": "code",
   "source": [
    "correctly_combined_tables2 = pd.merge(table1, table2, how='outer', on='label')\n",
    "correctly_combined_tables2"
   ],
   "id": "32a000508ba86aef",
   "outputs": [
    {
     "data": {
      "text/plain": [
       "   label  circularity  elongation  area  skewness\n",
       "0      1          0.3         2.3    25       0.3\n",
       "1      2          0.5         3.4    32       0.6\n",
       "2      3          0.7         1.2    22       0.5\n",
       "3      4          NaN         NaN    18       0.3"
      ],
      "text/html": [
       "<div>\n",
       "<style scoped>\n",
       "    .dataframe tbody tr th:only-of-type {\n",
       "        vertical-align: middle;\n",
       "    }\n",
       "\n",
       "    .dataframe tbody tr th {\n",
       "        vertical-align: top;\n",
       "    }\n",
       "\n",
       "    .dataframe thead th {\n",
       "        text-align: right;\n",
       "    }\n",
       "</style>\n",
       "<table border=\"1\" class=\"dataframe\">\n",
       "  <thead>\n",
       "    <tr style=\"text-align: right;\">\n",
       "      <th></th>\n",
       "      <th>label</th>\n",
       "      <th>circularity</th>\n",
       "      <th>elongation</th>\n",
       "      <th>area</th>\n",
       "      <th>skewness</th>\n",
       "    </tr>\n",
       "  </thead>\n",
       "  <tbody>\n",
       "    <tr>\n",
       "      <th>0</th>\n",
       "      <td>1</td>\n",
       "      <td>0.3</td>\n",
       "      <td>2.3</td>\n",
       "      <td>25</td>\n",
       "      <td>0.3</td>\n",
       "    </tr>\n",
       "    <tr>\n",
       "      <th>1</th>\n",
       "      <td>2</td>\n",
       "      <td>0.5</td>\n",
       "      <td>3.4</td>\n",
       "      <td>32</td>\n",
       "      <td>0.6</td>\n",
       "    </tr>\n",
       "    <tr>\n",
       "      <th>2</th>\n",
       "      <td>3</td>\n",
       "      <td>0.7</td>\n",
       "      <td>1.2</td>\n",
       "      <td>22</td>\n",
       "      <td>0.5</td>\n",
       "    </tr>\n",
       "    <tr>\n",
       "      <th>3</th>\n",
       "      <td>4</td>\n",
       "      <td>NaN</td>\n",
       "      <td>NaN</td>\n",
       "      <td>18</td>\n",
       "      <td>0.3</td>\n",
       "    </tr>\n",
       "  </tbody>\n",
       "</table>\n",
       "</div>"
      ]
     },
     "execution_count": 6,
     "metadata": {},
     "output_type": "execute_result"
    }
   ],
   "execution_count": 6
  },
  {
   "metadata": {},
   "cell_type": "markdown",
   "source": "Suppose there is a common measurement name from different tables. For example, table3 below also contains \"elongation\".",
   "id": "ffb2b31da5abbdf"
  },
  {
   "metadata": {
    "ExecuteTime": {
     "end_time": "2024-04-30T14:19:34.015341Z",
     "start_time": "2024-04-30T14:19:34.011207Z"
    }
   },
   "cell_type": "code",
   "source": [
    "table3 = pd.DataFrame({\n",
    "    \"label\":    [3,   2,   1,   4],\n",
    "    \"area\":     [22,  32,  25,  18],\n",
    "    \"skewness\": [0.5, 0.6, 0.3, 0.3],\n",
    "    \"elongation\":  [2.3, 3.4, 1.2, 1.1]\n",
    "    })\n",
    "table3"
   ],
   "id": "a5631c0654bb83f5",
   "outputs": [
    {
     "data": {
      "text/plain": [
       "   label  area  skewness  elongation\n",
       "0      3    22       0.5         2.3\n",
       "1      2    32       0.6         3.4\n",
       "2      1    25       0.3         1.2\n",
       "3      4    18       0.3         1.1"
      ],
      "text/html": [
       "<div>\n",
       "<style scoped>\n",
       "    .dataframe tbody tr th:only-of-type {\n",
       "        vertical-align: middle;\n",
       "    }\n",
       "\n",
       "    .dataframe tbody tr th {\n",
       "        vertical-align: top;\n",
       "    }\n",
       "\n",
       "    .dataframe thead th {\n",
       "        text-align: right;\n",
       "    }\n",
       "</style>\n",
       "<table border=\"1\" class=\"dataframe\">\n",
       "  <thead>\n",
       "    <tr style=\"text-align: right;\">\n",
       "      <th></th>\n",
       "      <th>label</th>\n",
       "      <th>area</th>\n",
       "      <th>skewness</th>\n",
       "      <th>elongation</th>\n",
       "    </tr>\n",
       "  </thead>\n",
       "  <tbody>\n",
       "    <tr>\n",
       "      <th>0</th>\n",
       "      <td>3</td>\n",
       "      <td>22</td>\n",
       "      <td>0.5</td>\n",
       "      <td>2.3</td>\n",
       "    </tr>\n",
       "    <tr>\n",
       "      <th>1</th>\n",
       "      <td>2</td>\n",
       "      <td>32</td>\n",
       "      <td>0.6</td>\n",
       "      <td>3.4</td>\n",
       "    </tr>\n",
       "    <tr>\n",
       "      <th>2</th>\n",
       "      <td>1</td>\n",
       "      <td>25</td>\n",
       "      <td>0.3</td>\n",
       "      <td>1.2</td>\n",
       "    </tr>\n",
       "    <tr>\n",
       "      <th>3</th>\n",
       "      <td>4</td>\n",
       "      <td>18</td>\n",
       "      <td>0.3</td>\n",
       "      <td>1.1</td>\n",
       "    </tr>\n",
       "  </tbody>\n",
       "</table>\n",
       "</div>"
      ]
     },
     "execution_count": 7,
     "metadata": {},
     "output_type": "execute_result"
    }
   ],
   "execution_count": 7
  },
  {
   "metadata": {},
   "cell_type": "markdown",
   "source": "Merging tables containing the same column name still preserves both measurements in different, renamed columns.",
   "id": "bb20efa0b397b92e"
  },
  {
   "metadata": {
    "ExecuteTime": {
     "end_time": "2024-04-30T14:19:34.021418Z",
     "start_time": "2024-04-30T14:19:34.016023Z"
    }
   },
   "cell_type": "code",
   "source": [
    "correctly_combined_tables3 = pd.merge(table1, table3, how='outer', on='label')\n",
    "correctly_combined_tables3"
   ],
   "id": "3247d76ce9f83e60",
   "outputs": [
    {
     "data": {
      "text/plain": [
       "   label  circularity  elongation_x  area  skewness  elongation_y\n",
       "0      1          0.3           2.3    25       0.3           1.2\n",
       "1      2          0.5           3.4    32       0.6           3.4\n",
       "2      3          0.7           1.2    22       0.5           2.3\n",
       "3      4          NaN           NaN    18       0.3           1.1"
      ],
      "text/html": [
       "<div>\n",
       "<style scoped>\n",
       "    .dataframe tbody tr th:only-of-type {\n",
       "        vertical-align: middle;\n",
       "    }\n",
       "\n",
       "    .dataframe tbody tr th {\n",
       "        vertical-align: top;\n",
       "    }\n",
       "\n",
       "    .dataframe thead th {\n",
       "        text-align: right;\n",
       "    }\n",
       "</style>\n",
       "<table border=\"1\" class=\"dataframe\">\n",
       "  <thead>\n",
       "    <tr style=\"text-align: right;\">\n",
       "      <th></th>\n",
       "      <th>label</th>\n",
       "      <th>circularity</th>\n",
       "      <th>elongation_x</th>\n",
       "      <th>area</th>\n",
       "      <th>skewness</th>\n",
       "      <th>elongation_y</th>\n",
       "    </tr>\n",
       "  </thead>\n",
       "  <tbody>\n",
       "    <tr>\n",
       "      <th>0</th>\n",
       "      <td>1</td>\n",
       "      <td>0.3</td>\n",
       "      <td>2.3</td>\n",
       "      <td>25</td>\n",
       "      <td>0.3</td>\n",
       "      <td>1.2</td>\n",
       "    </tr>\n",
       "    <tr>\n",
       "      <th>1</th>\n",
       "      <td>2</td>\n",
       "      <td>0.5</td>\n",
       "      <td>3.4</td>\n",
       "      <td>32</td>\n",
       "      <td>0.6</td>\n",
       "      <td>3.4</td>\n",
       "    </tr>\n",
       "    <tr>\n",
       "      <th>2</th>\n",
       "      <td>3</td>\n",
       "      <td>0.7</td>\n",
       "      <td>1.2</td>\n",
       "      <td>22</td>\n",
       "      <td>0.5</td>\n",
       "      <td>2.3</td>\n",
       "    </tr>\n",
       "    <tr>\n",
       "      <th>3</th>\n",
       "      <td>4</td>\n",
       "      <td>NaN</td>\n",
       "      <td>NaN</td>\n",
       "      <td>18</td>\n",
       "      <td>0.3</td>\n",
       "      <td>1.1</td>\n",
       "    </tr>\n",
       "  </tbody>\n",
       "</table>\n",
       "</div>"
      ]
     },
     "execution_count": 8,
     "metadata": {},
     "output_type": "execute_result"
    }
   ],
   "execution_count": 8
  },
  {
   "metadata": {},
   "cell_type": "markdown",
   "source": "We can define suffixes instead of the default 'x' and 'y' to better distinguish both columns:",
   "id": "2d1ca0b641ecee60"
  },
  {
   "metadata": {
    "ExecuteTime": {
     "end_time": "2024-04-30T14:19:34.027526Z",
     "start_time": "2024-04-30T14:19:34.022072Z"
    }
   },
   "cell_type": "code",
   "source": [
    "correctly_combined_tables3 = pd.merge(table1, table3, how='outer', on='label', suffixes=('_method-1', '_method-3'))\n",
    "correctly_combined_tables3"
   ],
   "id": "f47948c80beb0d44",
   "outputs": [
    {
     "data": {
      "text/plain": [
       "   label  circularity  elongation_method-1  area  skewness  \\\n",
       "0      1          0.3                  2.3    25       0.3   \n",
       "1      2          0.5                  3.4    32       0.6   \n",
       "2      3          0.7                  1.2    22       0.5   \n",
       "3      4          NaN                  NaN    18       0.3   \n",
       "\n",
       "   elongation_method-3  \n",
       "0                  1.2  \n",
       "1                  3.4  \n",
       "2                  2.3  \n",
       "3                  1.1  "
      ],
      "text/html": [
       "<div>\n",
       "<style scoped>\n",
       "    .dataframe tbody tr th:only-of-type {\n",
       "        vertical-align: middle;\n",
       "    }\n",
       "\n",
       "    .dataframe tbody tr th {\n",
       "        vertical-align: top;\n",
       "    }\n",
       "\n",
       "    .dataframe thead th {\n",
       "        text-align: right;\n",
       "    }\n",
       "</style>\n",
       "<table border=\"1\" class=\"dataframe\">\n",
       "  <thead>\n",
       "    <tr style=\"text-align: right;\">\n",
       "      <th></th>\n",
       "      <th>label</th>\n",
       "      <th>circularity</th>\n",
       "      <th>elongation_method-1</th>\n",
       "      <th>area</th>\n",
       "      <th>skewness</th>\n",
       "      <th>elongation_method-3</th>\n",
       "    </tr>\n",
       "  </thead>\n",
       "  <tbody>\n",
       "    <tr>\n",
       "      <th>0</th>\n",
       "      <td>1</td>\n",
       "      <td>0.3</td>\n",
       "      <td>2.3</td>\n",
       "      <td>25</td>\n",
       "      <td>0.3</td>\n",
       "      <td>1.2</td>\n",
       "    </tr>\n",
       "    <tr>\n",
       "      <th>1</th>\n",
       "      <td>2</td>\n",
       "      <td>0.5</td>\n",
       "      <td>3.4</td>\n",
       "      <td>32</td>\n",
       "      <td>0.6</td>\n",
       "      <td>3.4</td>\n",
       "    </tr>\n",
       "    <tr>\n",
       "      <th>2</th>\n",
       "      <td>3</td>\n",
       "      <td>0.7</td>\n",
       "      <td>1.2</td>\n",
       "      <td>22</td>\n",
       "      <td>0.5</td>\n",
       "      <td>2.3</td>\n",
       "    </tr>\n",
       "    <tr>\n",
       "      <th>3</th>\n",
       "      <td>4</td>\n",
       "      <td>NaN</td>\n",
       "      <td>NaN</td>\n",
       "      <td>18</td>\n",
       "      <td>0.3</td>\n",
       "      <td>1.1</td>\n",
       "    </tr>\n",
       "  </tbody>\n",
       "</table>\n",
       "</div>"
      ]
     },
     "execution_count": 9,
     "metadata": {},
     "output_type": "execute_result"
    }
   ],
   "execution_count": 9
  },
  {
   "metadata": {},
   "cell_type": "markdown",
   "source": [
    "## Combining rows of DataFrames\n",
    "\n",
    "When applying a workflow to many images, you would get tables with the same column names, but with variable rows. To calculate statistics for whole folders or to perform machine learning, we usually need to concatenate those tables, but it is important to keep track of the source files.\n",
    "\n",
    "Let's open two tables generated from applying the same workflow to different files.\n"
   ],
   "id": "8fd02a7f474a2682"
  },
  {
   "metadata": {
    "ExecuteTime": {
     "end_time": "2024-04-30T14:19:34.034306Z",
     "start_time": "2024-04-30T14:19:34.029407Z"
    }
   },
   "cell_type": "code",
   "source": [
    "df1 = pd.read_csv('../data/BBBC007_20P1_POS0007_D_1UL.csv')\n",
    "df1.info()"
   ],
   "id": "803e99625504dad3",
   "outputs": [
    {
     "name": "stdout",
     "output_type": "stream",
     "text": [
      "<class 'pandas.core.frame.DataFrame'>\n",
      "RangeIndex: 64 entries, 0 to 63\n",
      "Data columns (total 5 columns):\n",
      " #   Column             Non-Null Count  Dtype  \n",
      "---  ------             --------------  -----  \n",
      " 0   area               64 non-null     int64  \n",
      " 1   intensity_mean     64 non-null     float64\n",
      " 2   major_axis_length  64 non-null     float64\n",
      " 3   minor_axis_length  64 non-null     float64\n",
      " 4   aspect_ratio       64 non-null     float64\n",
      "dtypes: float64(4), int64(1)\n",
      "memory usage: 2.6 KB\n"
     ]
    }
   ],
   "execution_count": 10
  },
  {
   "metadata": {
    "ExecuteTime": {
     "end_time": "2024-04-30T14:19:34.039101Z",
     "start_time": "2024-04-30T14:19:34.035119Z"
    }
   },
   "cell_type": "code",
   "source": [
    "df2 = pd.read_csv('../data/BBBC007_20P1_POS0010_D_1UL.csv')\n",
    "df2.info()"
   ],
   "id": "e8796adf61d10920",
   "outputs": [
    {
     "name": "stdout",
     "output_type": "stream",
     "text": [
      "<class 'pandas.core.frame.DataFrame'>\n",
      "RangeIndex: 47 entries, 0 to 46\n",
      "Data columns (total 5 columns):\n",
      " #   Column             Non-Null Count  Dtype  \n",
      "---  ------             --------------  -----  \n",
      " 0   area               47 non-null     int64  \n",
      " 1   intensity_mean     47 non-null     float64\n",
      " 2   major_axis_length  47 non-null     float64\n",
      " 3   minor_axis_length  47 non-null     float64\n",
      " 4   aspect_ratio       47 non-null     float64\n",
      "dtypes: float64(4), int64(1)\n",
      "memory usage: 2.0 KB\n"
     ]
    }
   ],
   "execution_count": 11
  },
  {
   "metadata": {},
   "cell_type": "markdown",
   "source": "In this particular case where we know we have the same columns, we could concatenate them into a single big table. We can use [`concat`](https://pandas.pydata.org/docs/reference/api/pandas.concat.html) and define `axis=0` to concatenate along the rows (index).",
   "id": "d63e6d5fe1e28e89"
  },
  {
   "metadata": {
    "ExecuteTime": {
     "end_time": "2024-04-30T14:19:34.043389Z",
     "start_time": "2024-04-30T14:19:34.039728Z"
    }
   },
   "cell_type": "code",
   "source": [
    "big_df = pd.concat([df1, df2], axis=0)\n",
    "big_df.info()"
   ],
   "id": "58066e37fca4fa53",
   "outputs": [
    {
     "name": "stdout",
     "output_type": "stream",
     "text": [
      "<class 'pandas.core.frame.DataFrame'>\n",
      "Index: 111 entries, 0 to 46\n",
      "Data columns (total 5 columns):\n",
      " #   Column             Non-Null Count  Dtype  \n",
      "---  ------             --------------  -----  \n",
      " 0   area               111 non-null    int64  \n",
      " 1   intensity_mean     111 non-null    float64\n",
      " 2   major_axis_length  111 non-null    float64\n",
      " 3   minor_axis_length  111 non-null    float64\n",
      " 4   aspect_ratio       111 non-null    float64\n",
      "dtypes: float64(4), int64(1)\n",
      "memory usage: 5.2 KB\n"
     ]
    }
   ],
   "execution_count": 12
  },
  {
   "metadata": {
    "ExecuteTime": {
     "end_time": "2024-04-30T14:19:34.047540Z",
     "start_time": "2024-04-30T14:19:34.044071Z"
    }
   },
   "cell_type": "code",
   "source": "big_df.head()",
   "id": "980f3a63b4823bbd",
   "outputs": [
    {
     "data": {
      "text/plain": [
       "   area  intensity_mean  major_axis_length  minor_axis_length  aspect_ratio\n",
       "0   256       93.250000          19.995017          17.021559      1.174688\n",
       "1    90       82.488889          15.939969           7.516326      2.120713\n",
       "2   577       90.637782          35.324458          21.759434      1.623409\n",
       "3   270       95.640741          20.229431          17.669052      1.144908\n",
       "4   153       84.908497          15.683703          12.420475      1.262730"
      ],
      "text/html": [
       "<div>\n",
       "<style scoped>\n",
       "    .dataframe tbody tr th:only-of-type {\n",
       "        vertical-align: middle;\n",
       "    }\n",
       "\n",
       "    .dataframe tbody tr th {\n",
       "        vertical-align: top;\n",
       "    }\n",
       "\n",
       "    .dataframe thead th {\n",
       "        text-align: right;\n",
       "    }\n",
       "</style>\n",
       "<table border=\"1\" class=\"dataframe\">\n",
       "  <thead>\n",
       "    <tr style=\"text-align: right;\">\n",
       "      <th></th>\n",
       "      <th>area</th>\n",
       "      <th>intensity_mean</th>\n",
       "      <th>major_axis_length</th>\n",
       "      <th>minor_axis_length</th>\n",
       "      <th>aspect_ratio</th>\n",
       "    </tr>\n",
       "  </thead>\n",
       "  <tbody>\n",
       "    <tr>\n",
       "      <th>0</th>\n",
       "      <td>256</td>\n",
       "      <td>93.250000</td>\n",
       "      <td>19.995017</td>\n",
       "      <td>17.021559</td>\n",
       "      <td>1.174688</td>\n",
       "    </tr>\n",
       "    <tr>\n",
       "      <th>1</th>\n",
       "      <td>90</td>\n",
       "      <td>82.488889</td>\n",
       "      <td>15.939969</td>\n",
       "      <td>7.516326</td>\n",
       "      <td>2.120713</td>\n",
       "    </tr>\n",
       "    <tr>\n",
       "      <th>2</th>\n",
       "      <td>577</td>\n",
       "      <td>90.637782</td>\n",
       "      <td>35.324458</td>\n",
       "      <td>21.759434</td>\n",
       "      <td>1.623409</td>\n",
       "    </tr>\n",
       "    <tr>\n",
       "      <th>3</th>\n",
       "      <td>270</td>\n",
       "      <td>95.640741</td>\n",
       "      <td>20.229431</td>\n",
       "      <td>17.669052</td>\n",
       "      <td>1.144908</td>\n",
       "    </tr>\n",
       "    <tr>\n",
       "      <th>4</th>\n",
       "      <td>153</td>\n",
       "      <td>84.908497</td>\n",
       "      <td>15.683703</td>\n",
       "      <td>12.420475</td>\n",
       "      <td>1.262730</td>\n",
       "    </tr>\n",
       "  </tbody>\n",
       "</table>\n",
       "</div>"
      ]
     },
     "execution_count": 13,
     "metadata": {},
     "output_type": "execute_result"
    }
   ],
   "execution_count": 13
  },
  {
   "metadata": {},
   "cell_type": "markdown",
   "source": [
    "The problem here is that we've lost their source identity - we can't tell anymore which row originated from which file. \n",
    "\n",
    "An easy fix for that is to add a new column with the file name before concatenating them. This will facilitate splitting them back and plotting later on. When we give a single value to a new column, it is assigned to all rows."
   ],
   "id": "68c06fd08d6e99a6"
  },
  {
   "metadata": {
    "ExecuteTime": {
     "end_time": "2024-04-30T14:19:34.050535Z",
     "start_time": "2024-04-30T14:19:34.048403Z"
    }
   },
   "cell_type": "code",
   "source": [
    "df1['source_file'] = 'BBBC007_20P1_POS0007_D_1UL'\n",
    "df2['source_file'] = 'BBBC007_20P1_POS0010_D_1UL'"
   ],
   "id": "229f7fb4d90691fb",
   "outputs": [],
   "execution_count": 14
  },
  {
   "metadata": {},
   "cell_type": "markdown",
   "source": "Now, when we can safely distinguish the source of each row.",
   "id": "c4560977c4ce8133"
  },
  {
   "metadata": {
    "ExecuteTime": {
     "end_time": "2024-04-30T14:19:34.055033Z",
     "start_time": "2024-04-30T14:19:34.051120Z"
    }
   },
   "cell_type": "code",
   "source": [
    "big_df = pd.concat([df1, df2], axis=0)\n",
    "big_df.info()"
   ],
   "id": "1bc4baa18acd2c4e",
   "outputs": [
    {
     "name": "stdout",
     "output_type": "stream",
     "text": [
      "<class 'pandas.core.frame.DataFrame'>\n",
      "Index: 111 entries, 0 to 46\n",
      "Data columns (total 6 columns):\n",
      " #   Column             Non-Null Count  Dtype  \n",
      "---  ------             --------------  -----  \n",
      " 0   area               111 non-null    int64  \n",
      " 1   intensity_mean     111 non-null    float64\n",
      " 2   major_axis_length  111 non-null    float64\n",
      " 3   minor_axis_length  111 non-null    float64\n",
      " 4   aspect_ratio       111 non-null    float64\n",
      " 5   source_file        111 non-null    object \n",
      "dtypes: float64(4), int64(1), object(1)\n",
      "memory usage: 6.1+ KB\n"
     ]
    }
   ],
   "execution_count": 15
  },
  {
   "metadata": {},
   "cell_type": "markdown",
   "source": "If we look at the index information (which also is not a range index anymore), the number of entries and the labels for the index, there seem to be some duplicates. We can double-check with an according method:",
   "id": "3ae9b5b871af46f7"
  },
  {
   "metadata": {
    "ExecuteTime": {
     "end_time": "2024-04-30T14:19:34.058407Z",
     "start_time": "2024-04-30T14:19:34.055675Z"
    }
   },
   "cell_type": "code",
   "source": "big_df.index.duplicated().any()",
   "id": "8e93201a701fb4",
   "outputs": [
    {
     "data": {
      "text/plain": [
       "True"
      ]
     },
     "execution_count": 16,
     "metadata": {},
     "output_type": "execute_result"
    }
   ],
   "execution_count": 16
  },
  {
   "metadata": {},
   "cell_type": "markdown",
   "source": "In such cases where the index does not have meaningful information but is a consecutive number, we can fix this by adding `ignore_index` to the `concat`method. This creates a new index for the combined DataFrame while dismissing the old indices. ",
   "id": "de0fca8030c50e04"
  },
  {
   "metadata": {
    "ExecuteTime": {
     "end_time": "2024-04-30T14:19:34.062643Z",
     "start_time": "2024-04-30T14:19:34.059041Z"
    }
   },
   "cell_type": "code",
   "source": [
    "big_df = pd.concat([df1, df2], axis=0, ignore_index=True)\n",
    "big_df.info()"
   ],
   "id": "60e3705ec33f96aa",
   "outputs": [
    {
     "name": "stdout",
     "output_type": "stream",
     "text": [
      "<class 'pandas.core.frame.DataFrame'>\n",
      "RangeIndex: 111 entries, 0 to 110\n",
      "Data columns (total 6 columns):\n",
      " #   Column             Non-Null Count  Dtype  \n",
      "---  ------             --------------  -----  \n",
      " 0   area               111 non-null    int64  \n",
      " 1   intensity_mean     111 non-null    float64\n",
      " 2   major_axis_length  111 non-null    float64\n",
      " 3   minor_axis_length  111 non-null    float64\n",
      " 4   aspect_ratio       111 non-null    float64\n",
      " 5   source_file        111 non-null    object \n",
      "dtypes: float64(4), int64(1), object(1)\n",
      "memory usage: 5.3+ KB\n"
     ]
    }
   ],
   "execution_count": 17
  },
  {
   "metadata": {
    "ExecuteTime": {
     "end_time": "2024-04-30T14:19:34.067385Z",
     "start_time": "2024-04-30T14:19:34.063206Z"
    }
   },
   "cell_type": "code",
   "source": "big_df.head()",
   "id": "da625c3c690beb51",
   "outputs": [
    {
     "data": {
      "text/plain": [
       "   area  intensity_mean  major_axis_length  minor_axis_length  aspect_ratio  \\\n",
       "0   256       93.250000          19.995017          17.021559      1.174688   \n",
       "1    90       82.488889          15.939969           7.516326      2.120713   \n",
       "2   577       90.637782          35.324458          21.759434      1.623409   \n",
       "3   270       95.640741          20.229431          17.669052      1.144908   \n",
       "4   153       84.908497          15.683703          12.420475      1.262730   \n",
       "\n",
       "                  source_file  \n",
       "0  BBBC007_20P1_POS0007_D_1UL  \n",
       "1  BBBC007_20P1_POS0007_D_1UL  \n",
       "2  BBBC007_20P1_POS0007_D_1UL  \n",
       "3  BBBC007_20P1_POS0007_D_1UL  \n",
       "4  BBBC007_20P1_POS0007_D_1UL  "
      ],
      "text/html": [
       "<div>\n",
       "<style scoped>\n",
       "    .dataframe tbody tr th:only-of-type {\n",
       "        vertical-align: middle;\n",
       "    }\n",
       "\n",
       "    .dataframe tbody tr th {\n",
       "        vertical-align: top;\n",
       "    }\n",
       "\n",
       "    .dataframe thead th {\n",
       "        text-align: right;\n",
       "    }\n",
       "</style>\n",
       "<table border=\"1\" class=\"dataframe\">\n",
       "  <thead>\n",
       "    <tr style=\"text-align: right;\">\n",
       "      <th></th>\n",
       "      <th>area</th>\n",
       "      <th>intensity_mean</th>\n",
       "      <th>major_axis_length</th>\n",
       "      <th>minor_axis_length</th>\n",
       "      <th>aspect_ratio</th>\n",
       "      <th>source_file</th>\n",
       "    </tr>\n",
       "  </thead>\n",
       "  <tbody>\n",
       "    <tr>\n",
       "      <th>0</th>\n",
       "      <td>256</td>\n",
       "      <td>93.250000</td>\n",
       "      <td>19.995017</td>\n",
       "      <td>17.021559</td>\n",
       "      <td>1.174688</td>\n",
       "      <td>BBBC007_20P1_POS0007_D_1UL</td>\n",
       "    </tr>\n",
       "    <tr>\n",
       "      <th>1</th>\n",
       "      <td>90</td>\n",
       "      <td>82.488889</td>\n",
       "      <td>15.939969</td>\n",
       "      <td>7.516326</td>\n",
       "      <td>2.120713</td>\n",
       "      <td>BBBC007_20P1_POS0007_D_1UL</td>\n",
       "    </tr>\n",
       "    <tr>\n",
       "      <th>2</th>\n",
       "      <td>577</td>\n",
       "      <td>90.637782</td>\n",
       "      <td>35.324458</td>\n",
       "      <td>21.759434</td>\n",
       "      <td>1.623409</td>\n",
       "      <td>BBBC007_20P1_POS0007_D_1UL</td>\n",
       "    </tr>\n",
       "    <tr>\n",
       "      <th>3</th>\n",
       "      <td>270</td>\n",
       "      <td>95.640741</td>\n",
       "      <td>20.229431</td>\n",
       "      <td>17.669052</td>\n",
       "      <td>1.144908</td>\n",
       "      <td>BBBC007_20P1_POS0007_D_1UL</td>\n",
       "    </tr>\n",
       "    <tr>\n",
       "      <th>4</th>\n",
       "      <td>153</td>\n",
       "      <td>84.908497</td>\n",
       "      <td>15.683703</td>\n",
       "      <td>12.420475</td>\n",
       "      <td>1.262730</td>\n",
       "      <td>BBBC007_20P1_POS0007_D_1UL</td>\n",
       "    </tr>\n",
       "  </tbody>\n",
       "</table>\n",
       "</div>"
      ]
     },
     "execution_count": 18,
     "metadata": {},
     "output_type": "execute_result"
    }
   ],
   "execution_count": 18
  },
  {
   "metadata": {
    "ExecuteTime": {
     "end_time": "2024-04-30T14:19:34.071909Z",
     "start_time": "2024-04-30T14:19:34.067924Z"
    }
   },
   "cell_type": "code",
   "source": "big_df.tail()",
   "id": "1e4a6ac93f66139a",
   "outputs": [
    {
     "data": {
      "text/plain": [
       "     area  intensity_mean  major_axis_length  minor_axis_length  aspect_ratio  \\\n",
       "106   315       91.133333          20.927095          19.209283      1.089426   \n",
       "107   206       94.262136          23.381879          11.669668      2.003646   \n",
       "108    45       68.377778           9.406371           6.276445      1.498678   \n",
       "109    33       76.727273          10.724275           4.174568      2.568955   \n",
       "110    16       76.750000           7.745967           2.783882      2.782433   \n",
       "\n",
       "                    source_file  \n",
       "106  BBBC007_20P1_POS0010_D_1UL  \n",
       "107  BBBC007_20P1_POS0010_D_1UL  \n",
       "108  BBBC007_20P1_POS0010_D_1UL  \n",
       "109  BBBC007_20P1_POS0010_D_1UL  \n",
       "110  BBBC007_20P1_POS0010_D_1UL  "
      ],
      "text/html": [
       "<div>\n",
       "<style scoped>\n",
       "    .dataframe tbody tr th:only-of-type {\n",
       "        vertical-align: middle;\n",
       "    }\n",
       "\n",
       "    .dataframe tbody tr th {\n",
       "        vertical-align: top;\n",
       "    }\n",
       "\n",
       "    .dataframe thead th {\n",
       "        text-align: right;\n",
       "    }\n",
       "</style>\n",
       "<table border=\"1\" class=\"dataframe\">\n",
       "  <thead>\n",
       "    <tr style=\"text-align: right;\">\n",
       "      <th></th>\n",
       "      <th>area</th>\n",
       "      <th>intensity_mean</th>\n",
       "      <th>major_axis_length</th>\n",
       "      <th>minor_axis_length</th>\n",
       "      <th>aspect_ratio</th>\n",
       "      <th>source_file</th>\n",
       "    </tr>\n",
       "  </thead>\n",
       "  <tbody>\n",
       "    <tr>\n",
       "      <th>106</th>\n",
       "      <td>315</td>\n",
       "      <td>91.133333</td>\n",
       "      <td>20.927095</td>\n",
       "      <td>19.209283</td>\n",
       "      <td>1.089426</td>\n",
       "      <td>BBBC007_20P1_POS0010_D_1UL</td>\n",
       "    </tr>\n",
       "    <tr>\n",
       "      <th>107</th>\n",
       "      <td>206</td>\n",
       "      <td>94.262136</td>\n",
       "      <td>23.381879</td>\n",
       "      <td>11.669668</td>\n",
       "      <td>2.003646</td>\n",
       "      <td>BBBC007_20P1_POS0010_D_1UL</td>\n",
       "    </tr>\n",
       "    <tr>\n",
       "      <th>108</th>\n",
       "      <td>45</td>\n",
       "      <td>68.377778</td>\n",
       "      <td>9.406371</td>\n",
       "      <td>6.276445</td>\n",
       "      <td>1.498678</td>\n",
       "      <td>BBBC007_20P1_POS0010_D_1UL</td>\n",
       "    </tr>\n",
       "    <tr>\n",
       "      <th>109</th>\n",
       "      <td>33</td>\n",
       "      <td>76.727273</td>\n",
       "      <td>10.724275</td>\n",
       "      <td>4.174568</td>\n",
       "      <td>2.568955</td>\n",
       "      <td>BBBC007_20P1_POS0010_D_1UL</td>\n",
       "    </tr>\n",
       "    <tr>\n",
       "      <th>110</th>\n",
       "      <td>16</td>\n",
       "      <td>76.750000</td>\n",
       "      <td>7.745967</td>\n",
       "      <td>2.783882</td>\n",
       "      <td>2.782433</td>\n",
       "      <td>BBBC007_20P1_POS0010_D_1UL</td>\n",
       "    </tr>\n",
       "  </tbody>\n",
       "</table>\n",
       "</div>"
      ]
     },
     "execution_count": 19,
     "metadata": {},
     "output_type": "execute_result"
    }
   ],
   "execution_count": 19
  },
  {
   "metadata": {},
   "cell_type": "markdown",
   "source": "Let's store this data for later use:",
   "id": "328f6a57f3417454"
  },
  {
   "metadata": {
    "ExecuteTime": {
     "end_time": "2024-04-30T14:19:34.075739Z",
     "start_time": "2024-04-30T14:19:34.072575Z"
    }
   },
   "cell_type": "code",
   "source": "big_df.to_csv('../data/BBBC007_concat.csv')",
   "id": "418679964c56295e",
   "outputs": [],
   "execution_count": 20
  }
 ],
 "metadata": {
  "kernelspec": {
   "display_name": "Python 3",
   "language": "python",
   "name": "python3"
  },
  "language_info": {
   "codemirror_mode": {
    "name": "ipython",
    "version": 2
   },
   "file_extension": ".py",
   "mimetype": "text/x-python",
   "name": "python",
   "nbconvert_exporter": "python",
   "pygments_lexer": "ipython2",
   "version": "2.7.6"
  }
 },
 "nbformat": 4,
 "nbformat_minor": 5
}
