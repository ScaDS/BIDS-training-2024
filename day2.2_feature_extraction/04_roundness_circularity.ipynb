{
 "cells": [
  {
   "cell_type": "markdown",
   "id": "7e9d353c-9058-4e23-9b0c-1a545c8e36df",
   "metadata": {},
   "source": [
    "# Shape features\n",
    "In this notebook we will compare the impact of small manual modifications to labels/outlines on measured shape features."
   ]
  },
  {
   "cell_type": "code",
   "execution_count": 1,
   "id": "27df8f52-528e-4db7-b80d-477cd242a2e5",
   "metadata": {
    "tags": []
   },
   "outputs": [],
   "source": [
    "import numpy as np\n",
    "import stackview\n",
    "import napari_skimage_regionprops as nsr\n",
    "from skimage.morphology import disk"
   ]
  },
  {
   "cell_type": "markdown",
   "id": "df03603d-1e11-40d0-aace-62f0e3088812",
   "metadata": {},
   "source": [
    "For demonstration purposes, we use a blank image and  a circular region of interest."
   ]
  },
  {
   "cell_type": "code",
   "execution_count": 2,
   "id": "60c1362f-b247-4e14-a805-6034530d1e77",
   "metadata": {
    "tags": []
   },
   "outputs": [],
   "source": [
    "image = np.zeros((50,50))"
   ]
  },
  {
   "cell_type": "code",
   "execution_count": 3,
   "id": "a8e2ceed-e79e-463f-8884-8cc90bea2d55",
   "metadata": {
    "tags": []
   },
   "outputs": [],
   "source": [
    "labels = np.zeros(image.shape, dtype=np.uint32)\n",
    "labels[9:40, 9:40] = disk(15)"
   ]
  },
  {
   "cell_type": "code",
   "execution_count": 4,
   "id": "40adc48b-3b7a-494c-8670-b789e3a9066e",
   "metadata": {
    "tags": []
   },
   "outputs": [
    {
     "data": {
      "text/html": [
       "<table>\n",
       "<tr>\n",
       "<td>\n",
       "<img src=\"data:image/png;base64,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\"></img>\n",
       "</td>\n",
       "<td style=\"text-align: center; vertical-align: top;\">\n",
       "\n",
       "<table>\n",
       "<tr><td>shape</td><td>(50,&nbsp;50)</td></tr>\n",
       "<tr><td>dtype</td><td>uint32</td></tr>\n",
       "<tr><td>size</td><td>9.8 kB</td></tr>\n",
       "<tr><td>min</td><td>0</td></tr><tr><td>max</td><td>1</td></tr>\n",
       "</table>\n",
       "\n",
       "</td>\n",
       "</tr>\n",
       "</table>"
      ],
      "text/plain": [
       "StackViewNDArray([[0, 0, 0, ..., 0, 0, 0],\n",
       "                  [0, 0, 0, ..., 0, 0, 0],\n",
       "                  [0, 0, 0, ..., 0, 0, 0],\n",
       "                  ...,\n",
       "                  [0, 0, 0, ..., 0, 0, 0],\n",
       "                  [0, 0, 0, ..., 0, 0, 0],\n",
       "                  [0, 0, 0, ..., 0, 0, 0]], dtype=uint32)"
      ]
     },
     "execution_count": 4,
     "metadata": {},
     "output_type": "execute_result"
    }
   ],
   "source": [
    "stackview.insight(labels)"
   ]
  },
  {
   "cell_type": "markdown",
   "id": "84bb235c-b7b1-4549-b4d0-73c1aee010ab",
   "metadata": {},
   "source": [
    "We can print out the roundness and circularity of this single object like this:"
   ]
  },
  {
   "cell_type": "code",
   "execution_count": 5,
   "id": "3249d5ae-044c-403f-b8b9-828aace59207",
   "metadata": {
    "tags": []
   },
   "outputs": [
    {
     "name": "stdout",
     "output_type": "stream",
     "text": [
      "roundness:  0.9996522134693254\n",
      "circularity:  0.9106696648110818\n"
     ]
    }
   ],
   "source": [
    "stats = nsr.regionprops_table(image, labels, shape=True)\n",
    "\n",
    "print(\"roundness: \", stats['roundness'][0])\n",
    "print(\"circularity: \", stats['circularity'][0])"
   ]
  },
  {
   "cell_type": "markdown",
   "id": "7a32cbc1-4c8b-4013-b74a-ded70d68f325",
   "metadata": {},
   "source": [
    "## Manual modification\n",
    "When executing the next cell, a small user-interface will open that allows you to modify the object. Change the Eraser radius to 1 and hold the ALT-Key while clicking to remove individual pixels from the object."
   ]
  },
  {
   "cell_type": "code",
   "execution_count": 9,
   "id": "c5be6c19-8da0-426c-a048-2da97e7242d6",
   "metadata": {
    "tags": []
   },
   "outputs": [
    {
     "data": {
      "application/vnd.jupyter.widget-view+json": {
       "model_id": "117d368bbddd478687e70b9739fb66b9",
       "version_major": 2,
       "version_minor": 0
      },
      "text/plain": [
       "VBox(children=(HBox(children=(HBox(children=(VBox(children=(ImageWidget(height=200, width=200),)),)), VBox(chi…"
      ]
     },
     "execution_count": 9,
     "metadata": {},
     "output_type": "execute_result"
    }
   ],
   "source": [
    "stackview.annotate(image, labels, zoom_factor=4)"
   ]
  },
  {
   "cell_type": "markdown",
   "id": "107a8041-b48b-4260-bc83-b8807068e53b",
   "metadata": {},
   "source": [
    "When you are done modifying the object, continue executing the next code cells."
   ]
  },
  {
   "cell_type": "code",
   "execution_count": 7,
   "id": "fc827137-5054-4207-a4f4-8d55428a795a",
   "metadata": {
    "tags": []
   },
   "outputs": [
    {
     "data": {
      "text/html": [
       "<table>\n",
       "<tr>\n",
       "<td>\n",
       "<img src=\"data:image/png;base64,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\"></img>\n",
       "</td>\n",
       "<td style=\"text-align: center; vertical-align: top;\">\n",
       "\n",
       "<table>\n",
       "<tr><td>shape</td><td>(50,&nbsp;50)</td></tr>\n",
       "<tr><td>dtype</td><td>uint32</td></tr>\n",
       "<tr><td>size</td><td>9.8 kB</td></tr>\n",
       "<tr><td>min</td><td>0</td></tr><tr><td>max</td><td>1</td></tr>\n",
       "</table>\n",
       "\n",
       "</td>\n",
       "</tr>\n",
       "</table>"
      ],
      "text/plain": [
       "StackViewNDArray([[0, 0, 0, ..., 0, 0, 0],\n",
       "                  [0, 0, 0, ..., 0, 0, 0],\n",
       "                  [0, 0, 0, ..., 0, 0, 0],\n",
       "                  ...,\n",
       "                  [0, 0, 0, ..., 0, 0, 0],\n",
       "                  [0, 0, 0, ..., 0, 0, 0],\n",
       "                  [0, 0, 0, ..., 0, 0, 0]], dtype=uint32)"
      ]
     },
     "execution_count": 7,
     "metadata": {},
     "output_type": "execute_result"
    }
   ],
   "source": [
    "stackview.insight(labels)"
   ]
  },
  {
   "cell_type": "markdown",
   "id": "f1a66e2f-8670-40fa-8588-b0557b144e62",
   "metadata": {},
   "source": [
    "As you can see, small modifications to the outline can have huge impact on individual metrics."
   ]
  },
  {
   "cell_type": "code",
   "execution_count": 8,
   "id": "3c86f14e-fe65-482c-90c3-3a4118cb61a4",
   "metadata": {
    "tags": []
   },
   "outputs": [
    {
     "name": "stdout",
     "output_type": "stream",
     "text": [
      "roundness:  0.8564505192042108\n",
      "circularity:  0.13777164107308135\n"
     ]
    }
   ],
   "source": [
    "stats = nsr.regionprops_table(image, labels, shape=True)\n",
    "\n",
    "print(\"roundness: \", stats['roundness'][0])\n",
    "print(\"circularity: \", stats['circularity'][0])"
   ]
  },
  {
   "cell_type": "markdown",
   "id": "734e08bb-ba69-4ae0-a4ce-665ad7ecab7a",
   "metadata": {},
   "source": [
    "## Exercise\n",
    "Modify the code above to also measure aspect ratio and solidity."
   ]
  },
  {
   "cell_type": "code",
   "execution_count": null,
   "id": "6d88d227-4999-49f9-8b82-e08afe6002c0",
   "metadata": {},
   "outputs": [],
   "source": []
  }
 ],
 "metadata": {
  "kernelspec": {
   "display_name": "Python 3 (ipykernel)",
   "language": "python",
   "name": "python3"
  },
  "language_info": {
   "codemirror_mode": {
    "name": "ipython",
    "version": 3
   },
   "file_extension": ".py",
   "mimetype": "text/x-python",
   "name": "python",
   "nbconvert_exporter": "python",
   "pygments_lexer": "ipython3",
   "version": "3.11.9"
  }
 },
 "nbformat": 4,
 "nbformat_minor": 5
}
