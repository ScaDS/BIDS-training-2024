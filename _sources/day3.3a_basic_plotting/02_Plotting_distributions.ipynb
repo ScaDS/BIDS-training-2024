{
 "cells": [
  {
   "cell_type": "markdown",
   "id": "3b84ddbc-2079-48c9-a38b-b0a34abd6d27",
   "metadata": {
    "pycharm": {
     "name": "#%% md\n"
    }
   },
   "source": [
    "# Plotting Distributions with Seaborn"
   ]
  },
  {
   "cell_type": "markdown",
   "id": "66ebc29e-9f74-4333-ab93-9e163d1d5ce7",
   "metadata": {
    "pycharm": {
     "name": "#%% md\n"
    }
   },
   "source": [
    "Seaborn is also very practical to plot data distributions. We start with simple histograms and kde. Then, we show how to plot boxplots, violinplots and bar graphs."
   ]
  },
  {
   "cell_type": "code",
   "execution_count": null,
   "id": "ec137599-b8bd-4666-b5f7-13e94243b50e",
   "metadata": {
    "pycharm": {
     "name": "#%%\n"
    }
   },
   "outputs": [],
   "source": [
    "import pandas as pd\n",
    "import numpy as np\n",
    "import seaborn as sns\n",
    "sns.set_theme()"
   ]
  },
  {
   "cell_type": "markdown",
   "id": "82b1eca0",
   "metadata": {
    "pycharm": {
     "name": "#%% md\n"
    }
   },
   "source": [
    "## Load the dataframe"
   ]
  },
  {
   "cell_type": "code",
   "execution_count": null,
   "id": "c0a502d8-9181-47b4-8e6b-63b37ed3a8d4",
   "metadata": {
    "pycharm": {
     "name": "#%%\n"
    }
   },
   "outputs": [],
   "source": [
    "df = pd.read_csv(\"../data/BBBC007_analysis.csv\")\n",
    "df.head()"
   ]
  },
  {
   "cell_type": "markdown",
   "id": "1e2c1579-8df5-4e70-bd10-8a6095f2d564",
   "metadata": {
    "pycharm": {
     "name": "#%% md\n"
    }
   },
   "source": [
    "## Distribution Plots"
   ]
  },
  {
   "cell_type": "markdown",
   "id": "1df2083c",
   "metadata": {
    "pycharm": {
     "name": "#%% md\n"
    }
   },
   "source": [
    "The Seaborn function for distributions is [`sns.displot()`](https://seaborn.pydata.org/generated/seaborn.displot.html#seaborn.displot), whereby the histogram is the standard display type."
   ]
  },
  {
   "cell_type": "code",
   "execution_count": null,
   "id": "ca39fa34",
   "metadata": {
    "pycharm": {
     "name": "#%%\n"
    }
   },
   "outputs": [],
   "source": [
    "sns.displot(data=df,\n",
    "            x=\"intensity_mean\");"
   ]
  },
  {
   "cell_type": "markdown",
   "id": "c4642a2f",
   "metadata": {
    "pycharm": {
     "name": "#%% md\n"
    }
   },
   "source": [
    "Again, we have the option to either display the distributions of the individual files in a single diagram with different colors or split them into two sub-diagrams. The choice depends on the argument to which we pass the `file_name` parameter: either `hue` for coloring within a single diagram or `col` for creating separate sub-diagrams. Let's try both."
   ]
  },
  {
   "cell_type": "code",
   "execution_count": null,
   "id": "c480dd20",
   "metadata": {
    "pycharm": {
     "name": "#%%\n"
    }
   },
   "outputs": [],
   "source": [
    "sns.displot(data=df,\n",
    "            x=\"intensity_mean\",\n",
    "            hue=\"file_name\");     # Display a different color for each file"
   ]
  },
  {
   "cell_type": "code",
   "execution_count": null,
   "id": "c762f1a4",
   "metadata": {
    "pycharm": {
     "name": "#%%\n"
    }
   },
   "outputs": [],
   "source": [
    "sns.displot(data=df,\n",
    "            x=\"intensity_mean\",\n",
    "            col=\"file_name\");       # Display a different subplot for each file"
   ]
  },
  {
   "cell_type": "markdown",
   "id": "5d7b511b-8e8c-4f7d-97d5-f25cc0bcf8fa",
   "metadata": {
    "pycharm": {
     "name": "#%% md\n"
    }
   },
   "source": [
    "We can also add the kernel density estimation (kde) by passing `kde=True`. Just be careful while interpreting these plots (check some pitfalls [here](https://seaborn.pydata.org/tutorial/distributions.html#kernel-density-estimation-pitfalls))."
   ]
  },
  {
   "cell_type": "code",
   "execution_count": null,
   "id": "0f61843d-2f1a-4602-8a7e-295ff64c650a",
   "metadata": {
    "pycharm": {
     "name": "#%%\n"
    }
   },
   "outputs": [],
   "source": [
    "sns.displot(data=df,\n",
    "            x=\"intensity_mean\",\n",
    "            hue=\"file_name\",\n",
    "            kde=True);"
   ]
  },
  {
   "cell_type": "markdown",
   "id": "ed4b3c99-c91c-46e5-b83f-0767205dfca5",
   "metadata": {
    "pycharm": {
     "name": "#%% md\n"
    }
   },
   "source": [
    "## Boxplots\n",
    "\n",
    "Categorial variables are plotted with the function [`sns.catplot()`](https://seaborn.pydata.org/generated/seaborn.catplot.html#seaborn.catplot)."
   ]
  },
  {
   "cell_type": "code",
   "execution_count": null,
   "id": "3e9fcfc2-8634-4f80-b361-538c5e084117",
   "metadata": {
    "pycharm": {
     "name": "#%%\n"
    }
   },
   "outputs": [],
   "source": [
    "sns.catplot(data=df,\n",
    "            x=\"file_name\",\n",
    "            y=\"intensity_mean\",            \n",
    "            kind=\"box\");"
   ]
  },
  {
   "cell_type": "markdown",
   "id": "89f03d2c",
   "metadata": {
    "pycharm": {
     "name": "#%% md\n"
    }
   },
   "source": [
    "Seaborn automatically identifies `file_name` as a categorical variable and `intensity_mean` as a numerical value. Thus, it plots boxplots for the intensity variable. If we invert x and y, we still get the same graph, but as horizontal boxplots."
   ]
  },
  {
   "cell_type": "code",
   "execution_count": null,
   "id": "9e717c50",
   "metadata": {
    "pycharm": {
     "name": "#%%\n"
    }
   },
   "outputs": [],
   "source": [
    "sns.catplot(data=df,\n",
    "            x=\"intensity_mean\",\n",
    "            y=\"file_name\",\n",
    "            kind=\"box\");"
   ]
  },
  {
   "cell_type": "markdown",
   "id": "473d0e3f",
   "metadata": {
    "pycharm": {
     "name": "#%% md\n"
    }
   },
   "source": [
    "We can display advanced visualizations, such as side-by-side boxplots, which are particularly useful for comparing pairs of categorical data.\n",
    "\n",
    "First, we need to create a second categorical variable by splitting the observations into two categories depending on the size of their areas."
   ]
  },
  {
   "cell_type": "code",
   "execution_count": null,
   "id": "3d89f875",
   "metadata": {
    "pycharm": {
     "name": "#%%\n"
    }
   },
   "outputs": [],
   "source": [
    "df['area_cat'] = np.where(df['area'] > 250, 'big', 'small')\n",
    "df.head()"
   ]
  },
  {
   "cell_type": "code",
   "execution_count": null,
   "id": "a1e96fdf",
   "metadata": {
    "pycharm": {
     "name": "#%%\n"
    }
   },
   "outputs": [],
   "source": [
    "sns.catplot(data=df,\n",
    "            x='file_name',\n",
    "            y='intensity_mean',\n",
    "            kind='box',\n",
    "            hue='area_cat');   # Display side-by-side boxplots for each file_name and area_cat"
   ]
  },
  {
   "cell_type": "markdown",
   "id": "a1f99ecc",
   "metadata": {
    "pycharm": {
     "name": "#%% md\n"
    }
   },
   "source": [
    "If you only change the parameter `kind` from `box` to `violin`, we get a violin plot. By providing `split=True`, we can further customize the plot."
   ]
  },
  {
   "cell_type": "code",
   "execution_count": null,
   "id": "1aec9a4e",
   "metadata": {
    "pycharm": {
     "name": "#%%\n"
    }
   },
   "outputs": [],
   "source": [
    "sns.catplot(data=df,\n",
    "            x='file_name',\n",
    "            y='intensity_mean',\n",
    "            hue='area_cat',\n",
    "            kind='violin',\n",
    "            split=True);     # Display side-by-side violin plots for each file_name and area_cat"
   ]
  },
  {
   "cell_type": "markdown",
   "id": "29b7786e",
   "metadata": {
    "pycharm": {
     "name": "#%% md\n"
    }
   },
   "source": [
    "In a similar way, we get the count for categorical variables with the parameter `count`."
   ]
  },
  {
   "cell_type": "code",
   "execution_count": null,
   "id": "e95df95a-b4e0-4ca5-b94d-0512fb09058f",
   "metadata": {
    "pycharm": {
     "name": "#%%\n"
    }
   },
   "outputs": [],
   "source": [
    "sns.catplot(data=df,\n",
    "            x=\"file_name\",\n",
    "            hue='area_cat',\n",
    "            kind=\"count\");   # Count plot: \"histogram\" across a categorical, instead of quantitative, variable"
   ]
  },
  {
   "cell_type": "markdown",
   "source": [
    "---"
   ],
   "metadata": {
    "collapsed": false,
    "pycharm": {
     "name": "#%% md\n"
    }
   }
  },
  {
   "cell_type": "markdown",
   "id": "05dd40e3-4b9a-44b8-8bfc-610f79809d06",
   "metadata": {
    "pycharm": {
     "name": "#%% md\n"
    },
    "tags": []
   },
   "source": [
    "## Exercise 3"
   ]
  },
  {
   "cell_type": "markdown",
   "id": "4acf97f1-efcb-4f27-851f-643e3bfa0bae",
   "metadata": {
    "pycharm": {
     "name": "#%% md\n"
    }
   },
   "source": [
    "You will create a figure with four subplots to visualize the empirical cumulative distribution functions (ECDFs) for the `area` variable. Each subplot will display the ECDF for different categories based on `file_name` and `area_cat`. The rows will correspond to the `file_name` and the columns to the variable `area_cat`.\n",
    "\n",
    "*Hint: explore the function [`displot`](https://seaborn.pydata.org/generated/seaborn.displot.html#seaborn.displot) in the Seaborn documentation.*"
   ]
  },
  {
   "cell_type": "code",
   "execution_count": null,
   "id": "9ee0c368-7b49-4f24-86a7-8ab65873f72f",
   "metadata": {
    "pycharm": {
     "name": "#%%\n"
    }
   },
   "outputs": [],
   "source": [
    "# Your code here\n"
   ]
  }
 ],
 "metadata": {
  "kernelspec": {
   "display_name": "Python 3 (ipykernel)",
   "language": "python",
   "name": "python3"
  },
  "language_info": {
   "codemirror_mode": {
    "name": "ipython",
    "version": 3
   },
   "file_extension": ".py",
   "mimetype": "text/x-python",
   "name": "python",
   "nbconvert_exporter": "python",
   "pygments_lexer": "ipython3",
   "version": "3.9.18"
  },
  "widgets": {
   "application/vnd.jupyter.widget-state+json": {
    "state": {},
    "version_major": 2,
    "version_minor": 0
   }
  }
 },
 "nbformat": 4,
 "nbformat_minor": 5
}