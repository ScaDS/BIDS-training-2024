{
 "cells": [
  {
   "cell_type": "markdown",
   "id": "3b84ddbc-2079-48c9-a38b-b0a34abd6d27",
   "metadata": {
    "pycharm": {
     "name": "#%% md\n"
    }
   },
   "source": [
    "# Introduction to Seaborn"
   ]
  },
  {
   "cell_type": "markdown",
   "id": "bbbcdd64-9f9f-4114-9359-20b24436dd62",
   "metadata": {
    "pycharm": {
     "name": "#%% md\n"
    }
   },
   "source": [
    "The definition of seaborn's website is so concise that we replicate it here:\n",
    "\n",
    "__\"Seaborn is a library for making statistical graphics in Python. It builds on top of matplotlib and integrates closely with pandas data structures.\"__\n",
    "\n",
    "That's it! The main benefit of using it is that it is a more high-level library, which means we can achieve sophisticated plots with much less lines of code. Most axes style customization are done automatically. It can automatically provide plots with summary statistics."
   ]
  },
  {
   "cell_type": "code",
   "execution_count": null,
   "id": "ec137599-b8bd-4666-b5f7-13e94243b50e",
   "metadata": {
    "pycharm": {
     "name": "#%%\n"
    }
   },
   "outputs": [],
   "source": [
    "import pandas as pd\n",
    "import seaborn as sns"
   ]
  },
  {
   "cell_type": "markdown",
   "id": "decb7cc6",
   "metadata": {
    "pycharm": {
     "name": "#%% md\n"
    }
   },
   "source": [
    "## Load data\n",
    "\n",
    "Let's first load a dataframe. The table contains continuous data from two images, identified by the last categorical column `file_name`."
   ]
  },
  {
   "cell_type": "code",
   "execution_count": null,
   "id": "c0a502d8-9181-47b4-8e6b-63b37ed3a8d4",
   "metadata": {
    "pycharm": {
     "name": "#%%\n"
    },
    "scrolled": true
   },
   "outputs": [],
   "source": [
    "df = pd.read_csv(\"../data/BBBC007_analysis.csv\")\n",
    "df.head()"
   ]
  },
  {
   "cell_type": "markdown",
   "id": "1c94509c",
   "metadata": {
    "pycharm": {
     "name": "#%% md\n"
    }
   },
   "source": [
    "The two images originate from [*The Broad Bioimage Benchmark Collection*](https://bbbc.broadinstitute.org) and show fluroescent microscopy images of Drosophila Kc167 cells."
   ]
  },
  {
   "cell_type": "markdown",
   "id": "aa0567de",
   "metadata": {
    "pycharm": {
     "name": "#%% md\n"
    }
   },
   "source": [
    "20P1_POS0007_D_1UL           |  20P1_POS0010_D_1UL\n",
    ":-------------------------:|:-------------------------:\n",
    "![image007](../data/BBBC007_20P1_POS0007_D_1UL.png)  |  ![image010](../data/BBBC007_20P1_POS0010_D_1UL.png)"
   ]
  },
  {
   "cell_type": "markdown",
   "source": [
    "## Relational plots with seaborn\n",
    "\n",
    "We will apply the seaborn default theme, but you can choose others [here](https://seaborn.pydata.org/generated/seaborn.set_theme.html#seaborn.set_theme)."
   ],
   "metadata": {
    "collapsed": false,
    "pycharm": {
     "name": "#%% md\n"
    }
   }
  },
  {
   "cell_type": "code",
   "execution_count": null,
   "outputs": [],
   "source": [
    "sns.set_theme()"
   ],
   "metadata": {
    "collapsed": false,
    "pycharm": {
     "name": "#%%\n"
    }
   }
  },
  {
   "cell_type": "markdown",
   "source": [
    "Let's start with a scatter plot of `aspect_ratio` vs. `intensity_mean`.\n",
    "\n",
    "*Note: the scatter plot is the default relational plot in `sns.relplot()`, so that we don't need to provide `kind=scatter`.*"
   ],
   "metadata": {
    "collapsed": false,
    "pycharm": {
     "name": "#%% md\n"
    }
   }
  },
  {
   "cell_type": "code",
   "execution_count": null,
   "outputs": [],
   "source": [
    "sns.relplot(data=df,\n",
    "            x=\"aspect_ratio\",\n",
    "            y=\"intensity_mean\");"
   ],
   "metadata": {
    "collapsed": false,
    "pycharm": {
     "name": "#%%\n"
    }
   }
  },
  {
   "cell_type": "markdown",
   "source": [
    "We can already embbed and visualize another feature by providing an extra argument: we want the size of the dots to be proportional to the variable `area`.\n",
    "\n",
    "*Note: Seaborn automatically adds a legend.*"
   ],
   "metadata": {
    "collapsed": false,
    "pycharm": {
     "name": "#%% md\n"
    }
   }
  },
  {
   "cell_type": "code",
   "execution_count": null,
   "outputs": [],
   "source": [
    "sns.relplot(data=df,\n",
    "            x=\"aspect_ratio\",\n",
    "            y=\"intensity_mean\",\n",
    "            size=\"area\");          # Use the values in \"area\" to set the dots' size"
   ],
   "metadata": {
    "collapsed": false,
    "pycharm": {
     "name": "#%%\n"
    }
   }
  },
  {
   "cell_type": "markdown",
   "source": [
    "We can embbed and visualize one more feature by providing another argument. Now the variable `major_axis_length` will be represented by a continuous color gradient."
   ],
   "metadata": {
    "collapsed": false,
    "pycharm": {
     "name": "#%% md\n"
    }
   }
  },
  {
   "cell_type": "code",
   "execution_count": null,
   "outputs": [],
   "source": [
    "sns.relplot(data=df,\n",
    "            x=\"aspect_ratio\",\n",
    "            y=\"intensity_mean\",\n",
    "            size=\"area\",\n",
    "            hue=\"major_axis_length\");   # Use the values in \"major_axis_length\" to set the dots' color"
   ],
   "metadata": {
    "collapsed": false,
    "pycharm": {
     "name": "#%%\n"
    }
   }
  },
  {
   "cell_type": "markdown",
   "source": [
    "We can even visualize an additional feature by encoding the marker type—using a dot or a triangle—depending on the `file_name` variable. This allows us to represent five variables in a single 2D diagram! However, while it is possible to include this many visual distinctions, the result might not look very clear or aesthetically pleasing.\n",
    "\n",
    "*Note: the length of the array `markers` should be at least as long as the number of categories in `file_name`.*"
   ],
   "metadata": {
    "collapsed": false,
    "pycharm": {
     "name": "#%% md\n"
    }
   }
  },
  {
   "cell_type": "code",
   "execution_count": null,
   "outputs": [],
   "source": [
    "sns.relplot(data=df,\n",
    "            x=\"aspect_ratio\",\n",
    "            y=\"intensity_mean\",\n",
    "            size=\"area\",\n",
    "            hue=\"major_axis_length\",          \n",
    "            style=\"file_name\",       # Grouping variable that will produce elements with different styles\n",
    "            markers=[\"o\", \"^\"]);     # Define which markers are to be used for the style variable"
   ],
   "metadata": {
    "collapsed": false,
    "pycharm": {
     "name": "#%%\n"
    }
   }
  },
  {
   "cell_type": "markdown",
   "source": [
    "## Define subplots\n",
    "\n",
    "Since our plot is now overcrowded, we should find another way to visualize from which image which data originates. Instead of representing the variable `file_name` as a marker type, we will pass this argument to the `col` parameter of `relplot`.\n",
    "\n",
    "Seaborn then automatically divides the plot into two subplots, each representing one of the file names, and adds the corresponding title to each plot. This approach simplifies the visualization and makes it easier to interpret."
   ],
   "metadata": {
    "collapsed": false,
    "pycharm": {
     "name": "#%% md\n"
    }
   }
  },
  {
   "cell_type": "code",
   "execution_count": null,
   "outputs": [],
   "source": [
    "sns.relplot(data=df,\n",
    "            x=\"aspect_ratio\",\n",
    "            y=\"intensity_mean\",\n",
    "            size=\"area\",\n",
    "            hue=\"major_axis_length\",\n",
    "            col=\"file_name\");          # Variable to define subsets to plot on different sublots"
   ],
   "metadata": {
    "collapsed": false,
    "pycharm": {
     "name": "#%%\n"
    }
   }
  },
  {
   "cell_type": "markdown",
   "source": [
    "## Control the appearance of your plot\n",
    "\n",
    "That's already quite neat, but a few things are missing. Let's say, we would like to reduce the height and make the plots wider. Also the dots should have more contrast. For this, we will provide further arguments to the `relplot`function."
   ],
   "metadata": {
    "collapsed": false,
    "pycharm": {
     "name": "#%% md\n"
    }
   }
  },
  {
   "cell_type": "code",
   "execution_count": null,
   "outputs": [],
   "source": [
    "sns.relplot(data=df,\n",
    "            x=\"aspect_ratio\",\n",
    "            y=\"intensity_mean\",\n",
    "            size=\"area\",\n",
    "            hue=\"major_axis_length\",\n",
    "            col=\"file_name\",\n",
    "            height=3.5,         # Set the height to 3.5 inches\n",
    "            aspect=1.3,         # Set the width/height ratio to 1.3\n",
    "            palette=\"magma\");   # Change the default color palette to \"magma\""
   ],
   "metadata": {
    "collapsed": false,
    "pycharm": {
     "name": "#%%\n"
    }
   }
  },
  {
   "cell_type": "markdown",
   "source": [
    "Further, we want to change the labels of the x and y axes, and give a title to the whole graph. To accomplish this, we will have Seaborn return a FacetGrid object, which we will refer to as `g`. This object allows us to control the appearance and layout of the plot."
   ],
   "metadata": {
    "collapsed": false,
    "pycharm": {
     "name": "#%% md\n"
    }
   }
  },
  {
   "cell_type": "code",
   "execution_count": null,
   "outputs": [],
   "source": [
    "g = sns.relplot(data=df,                             # Return the plot as an object 'g'\n",
    "                x=\"aspect_ratio\",\n",
    "                y=\"intensity_mean\",\n",
    "                size=\"area\",\n",
    "                hue=\"major_axis_length\",\n",
    "                col=\"file_name\",\n",
    "                height=3.5,\n",
    "                aspect=1.3,\n",
    "                palette=\"magma\");\n",
    "\n",
    "\n",
    "g.set_xlabels(\"Aspect Ratio\")                        # Use 'g' to set the labels for the x axis\n",
    "g.set_ylabels(\"Mean Intensity\")                      # Use 'g' to set the labels for the y axis\n",
    "\n",
    "g.fig.suptitle(\"Aspect Ratio vs. Mean Intensity\",    # Add a title\n",
    "               fontsize=16, fontweight=\"semibold\",   # Set the font for the title\n",
    "               x=0.45, y=1.06);                      # Give its position in relation to the figure coordinates"
   ],
   "metadata": {
    "collapsed": false,
    "pycharm": {
     "name": "#%%\n"
    }
   }
  },
  {
   "cell_type": "markdown",
   "source": [
    "## Plotting a line regression model\n",
    "\n",
    "With [`sns.lmplot()`](https://seaborn.pydata.org/generated/seaborn.lmplot.html), you can draw a scatter plot with a line regression model. Let's observe for instance the relationship between `major_axis_length` and `minor_axis_length` in each image.\n",
    "\n",
    "*Note: Seaborn automatically adds a 0.95 confidence interval. The confidence level can be adjusted with the corresponding parameter.*"
   ],
   "metadata": {
    "collapsed": false,
    "pycharm": {
     "name": "#%% md\n"
    }
   }
  },
  {
   "cell_type": "code",
   "execution_count": null,
   "outputs": [],
   "source": [
    "sns.lmplot(data=df,\n",
    "           x=\"major_axis_length\",\n",
    "           y=\"minor_axis_length\",\n",
    "           col=\"file_name\");"
   ],
   "metadata": {
    "collapsed": false,
    "pycharm": {
     "name": "#%%\n"
    }
   }
  },
  {
   "cell_type": "markdown",
   "source": [
    "---"
   ],
   "metadata": {
    "collapsed": false,
    "pycharm": {
     "name": "#%% md\n"
    }
   }
  },
  {
   "cell_type": "markdown",
   "source": [
    "## Exercise 1\n",
    "\n",
    "Plot the same line regression model as above, but on a single plot, with points and regression lines having two different colors according to `file_name`."
   ],
   "metadata": {
    "collapsed": false,
    "pycharm": {
     "name": "#%% md\n"
    }
   }
  },
  {
   "cell_type": "code",
   "execution_count": null,
   "outputs": [],
   "source": [
    "# Your code here\n"
   ],
   "metadata": {
    "collapsed": false,
    "pycharm": {
     "name": "#%%\n"
    }
   }
  },
  {
   "cell_type": "markdown",
   "source": [
    "## Exercise 2\n",
    "Until now, we have used the Seaborn default apperance. We want now to customize the theme of the plot above by changing:\n",
    "- the background: change to a white background without a grid\n",
    "- the font family: change to \"serif\"\n",
    "- the color palette: change the two colors some red tone and some light green.\n",
    "\n",
    "Reflect about why this color choice is a bad idea and what you should do instead.\n",
    "\n",
    "Then, give your plot a title and position it properly.\n",
    "\n",
    "Hints:\n",
    "- Check the documentation of [`set_theme`](https://seaborn.pydata.org/generated/seaborn.set_theme.html) and customize the theme *before* plotting the data.\n",
    "- Many colors can be called by their Matplotlib [name](https://matplotlib.org/stable/gallery/color/named_colors.html). You will need to pass the two colors as a Python list."
   ],
   "metadata": {
    "collapsed": false,
    "pycharm": {
     "name": "#%% md\n"
    }
   }
  },
  {
   "cell_type": "code",
   "execution_count": null,
   "outputs": [],
   "source": [
    "# Your code here\n"
   ],
   "metadata": {
    "collapsed": false,
    "pycharm": {
     "name": "#%%\n"
    }
   }
  }
 ],
 "metadata": {
  "kernelspec": {
   "display_name": "Python 3 (ipykernel)",
   "language": "python",
   "name": "python3"
  },
  "language_info": {
   "codemirror_mode": {
    "name": "ipython",
    "version": 3
   },
   "file_extension": ".py",
   "mimetype": "text/x-python",
   "name": "python",
   "nbconvert_exporter": "python",
   "pygments_lexer": "ipython3",
   "version": "3.9.18"
  }
 },
 "nbformat": 4,
 "nbformat_minor": 5
}