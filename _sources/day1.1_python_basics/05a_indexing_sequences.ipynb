{
 "cells": [
  {
   "metadata": {},
   "cell_type": "markdown",
   "source": [
    "# Indexing and slicing of sequences\n",
    "A common task in Python is to crop out parts of lists or tuples, for example, to access specific elements. For this, we can use two approaches called _indexing_ and _slicing_.\n",
    "\n",
    "Let's define a small list again:"
   ],
   "id": "7aa009f07caefc6c"
  },
  {
   "metadata": {
    "ExecuteTime": {
     "end_time": "2024-04-11T10:42:56.037659Z",
     "start_time": "2024-04-11T10:42:56.033443Z"
    }
   },
   "cell_type": "code",
   "source": "data = [34, 0, 65, 23, 51, 9, 50, 78, 34, 100]",
   "id": "9fab427a7b541bee",
   "outputs": [],
   "execution_count": 1
  },
  {
   "metadata": {},
   "cell_type": "markdown",
   "source": "We can determine how many elements there are:",
   "id": "dbcc8dab19f0e020"
  },
  {
   "metadata": {
    "ExecuteTime": {
     "end_time": "2024-04-11T10:42:56.041859Z",
     "start_time": "2024-04-11T10:42:56.038614Z"
    }
   },
   "cell_type": "code",
   "source": "len(data)",
   "id": "f2320ae09485fa3e",
   "outputs": [
    {
     "data": {
      "text/plain": [
       "10"
      ]
     },
     "execution_count": 2,
     "metadata": {},
     "output_type": "execute_result"
    }
   ],
   "execution_count": 2
  },
  {
   "metadata": {},
   "cell_type": "markdown",
   "source": [
    "## Select an element via indexing\n",
    "As shown earlier, we can access specific elements by passing an index. Counting the element-index starts at 0."
   ],
   "id": "8aaa10f8daa14db8"
  },
  {
   "metadata": {
    "ExecuteTime": {
     "end_time": "2024-04-11T10:42:56.044712Z",
     "start_time": "2024-04-11T10:42:56.042576Z"
    }
   },
   "cell_type": "code",
   "source": "data[0]",
   "id": "e75a3aca6fcd95bb",
   "outputs": [
    {
     "data": {
      "text/plain": [
       "34"
      ]
     },
     "execution_count": 3,
     "metadata": {},
     "output_type": "execute_result"
    }
   ],
   "execution_count": 3
  },
  {
   "metadata": {
    "ExecuteTime": {
     "end_time": "2024-04-11T10:42:56.047437Z",
     "start_time": "2024-04-11T10:42:56.045427Z"
    }
   },
   "cell_type": "code",
   "source": "data[5]",
   "id": "ee4bd7bb40add5c1",
   "outputs": [
    {
     "data": {
      "text/plain": [
       "9"
      ]
     },
     "execution_count": 4,
     "metadata": {},
     "output_type": "execute_result"
    }
   ],
   "execution_count": 4
  },
  {
   "metadata": {},
   "cell_type": "markdown",
   "source": "We can also pass negative indices. This will access elements from the end of the list. The last element has index -1.",
   "id": "ecc454c0ee7bb594"
  },
  {
   "metadata": {
    "ExecuteTime": {
     "end_time": "2024-04-11T10:42:56.050961Z",
     "start_time": "2024-04-11T10:42:56.048980Z"
    }
   },
   "cell_type": "code",
   "source": "data[-1]",
   "id": "b424c86fef8da701",
   "outputs": [
    {
     "data": {
      "text/plain": [
       "100"
      ]
     },
     "execution_count": 5,
     "metadata": {},
     "output_type": "execute_result"
    }
   ],
   "execution_count": 5
  },
  {
   "metadata": {
    "ExecuteTime": {
     "end_time": "2024-04-11T10:42:56.053585Z",
     "start_time": "2024-04-11T10:42:56.051443Z"
    }
   },
   "cell_type": "code",
   "source": "data[-2]",
   "id": "3e50f7e9e32007e7",
   "outputs": [
    {
     "data": {
      "text/plain": [
       "34"
      ]
     },
     "execution_count": 6,
     "metadata": {},
     "output_type": "execute_result"
    }
   ],
   "execution_count": 6
  },
  {
   "metadata": {},
   "cell_type": "markdown",
   "source": [
    "## Select a range via slicing\n",
    "We can also generate a slice of the list containing a certain number of elements by introducing the `:` operator. With this, we pass a range in form `[start:end:step]`, where `step` is an optional parameter. Be aware, that the provided index at `end` is not inclusive."
   ],
   "id": "73a7e0daa9610bb8"
  },
  {
   "metadata": {
    "ExecuteTime": {
     "end_time": "2024-04-11T10:42:56.056321Z",
     "start_time": "2024-04-11T10:42:56.054338Z"
    }
   },
   "cell_type": "code",
   "source": "data",
   "id": "69b36e32985527a9",
   "outputs": [
    {
     "data": {
      "text/plain": [
       "[34, 0, 65, 23, 51, 9, 50, 78, 34, 100]"
      ]
     },
     "execution_count": 7,
     "metadata": {},
     "output_type": "execute_result"
    }
   ],
   "execution_count": 7
  },
  {
   "metadata": {
    "ExecuteTime": {
     "end_time": "2024-04-11T10:42:56.058905Z",
     "start_time": "2024-04-11T10:42:56.056910Z"
    }
   },
   "cell_type": "code",
   "source": [
    "# Slice with elements from index 1 to 5\n",
    "data[1:6]"
   ],
   "id": "2c12934ddaf825a0",
   "outputs": [
    {
     "data": {
      "text/plain": [
       "[0, 65, 23, 51, 9]"
      ]
     },
     "execution_count": 8,
     "metadata": {},
     "output_type": "execute_result"
    }
   ],
   "execution_count": 8
  },
  {
   "metadata": {
    "ExecuteTime": {
     "end_time": "2024-04-11T10:42:56.061570Z",
     "start_time": "2024-04-11T10:42:56.059446Z"
    }
   },
   "cell_type": "code",
   "source": [
    "# slice with the first 3 elements\n",
    "data[:3]"
   ],
   "id": "5e45f21acc6d929e",
   "outputs": [
    {
     "data": {
      "text/plain": [
       "[34, 0, 65]"
      ]
     },
     "execution_count": 9,
     "metadata": {},
     "output_type": "execute_result"
    }
   ],
   "execution_count": 9
  },
  {
   "metadata": {
    "ExecuteTime": {
     "end_time": "2024-04-11T10:42:56.064239Z",
     "start_time": "2024-04-11T10:42:56.062130Z"
    }
   },
   "cell_type": "code",
   "source": [
    "# slice with every second element, starting with the first one\n",
    "data[::2]"
   ],
   "id": "177b469820e22733",
   "outputs": [
    {
     "data": {
      "text/plain": [
       "[34, 65, 51, 50, 34]"
      ]
     },
     "execution_count": 10,
     "metadata": {},
     "output_type": "execute_result"
    }
   ],
   "execution_count": 10
  },
  {
   "metadata": {},
   "cell_type": "markdown",
   "source": [
    "## Tuples and strings\n",
    "Indexing and slicing work the same way with the other sequence types, tuples and strings."
   ],
   "id": "4735319824dbfe7e"
  },
  {
   "metadata": {
    "ExecuteTime": {
     "end_time": "2024-04-11T10:42:56.066784Z",
     "start_time": "2024-04-11T10:42:56.064748Z"
    }
   },
   "cell_type": "code",
   "source": [
    "immutable_data = tuple(data)\n",
    "immutable_data"
   ],
   "id": "b864a79e673a92ac",
   "outputs": [
    {
     "data": {
      "text/plain": [
       "(34, 0, 65, 23, 51, 9, 50, 78, 34, 100)"
      ]
     },
     "execution_count": 11,
     "metadata": {},
     "output_type": "execute_result"
    }
   ],
   "execution_count": 11
  },
  {
   "metadata": {
    "ExecuteTime": {
     "end_time": "2024-04-11T10:42:56.069241Z",
     "start_time": "2024-04-11T10:42:56.067417Z"
    }
   },
   "cell_type": "code",
   "source": "immutable_data[:5]",
   "id": "bd74b8f7e4b42cae",
   "outputs": [
    {
     "data": {
      "text/plain": [
       "(34, 0, 65, 23, 51)"
      ]
     },
     "execution_count": 12,
     "metadata": {},
     "output_type": "execute_result"
    }
   ],
   "execution_count": 12
  },
  {
   "metadata": {
    "ExecuteTime": {
     "end_time": "2024-04-11T10:42:56.071611Z",
     "start_time": "2024-04-11T10:42:56.069781Z"
    }
   },
   "cell_type": "code",
   "source": [
    "hello = \"hello world\"\n",
    "hello"
   ],
   "id": "c247cf26db6df2e2",
   "outputs": [
    {
     "data": {
      "text/plain": [
       "'hello world'"
      ]
     },
     "execution_count": 13,
     "metadata": {},
     "output_type": "execute_result"
    }
   ],
   "execution_count": 13
  },
  {
   "metadata": {
    "ExecuteTime": {
     "end_time": "2024-04-11T10:42:56.075809Z",
     "start_time": "2024-04-11T10:42:56.073858Z"
    }
   },
   "cell_type": "code",
   "source": "hello[0]",
   "id": "a3566ed93bb02889",
   "outputs": [
    {
     "data": {
      "text/plain": [
       "'h'"
      ]
     },
     "execution_count": 14,
     "metadata": {},
     "output_type": "execute_result"
    }
   ],
   "execution_count": 14
  },
  {
   "metadata": {},
   "cell_type": "markdown",
   "source": [
    "## Exercise\n",
    "Please select the three numbers 23, 9 and 78 from `data` using a single python command similar to the commands shown above.\n",
    "\n",
    "Also, please select the word `world` from `hello`."
   ],
   "id": "2c9cdadc6c71fd96"
  },
  {
   "metadata": {
    "ExecuteTime": {
     "end_time": "2024-04-11T10:42:56.077459Z",
     "start_time": "2024-04-11T10:42:56.076329Z"
    }
   },
   "cell_type": "code",
   "source": "",
   "id": "6d6fcce40705e7cf",
   "outputs": [],
   "execution_count": 14
  }
 ],
 "metadata": {
  "kernelspec": {
   "display_name": "Python 3",
   "language": "python",
   "name": "python3"
  },
  "language_info": {
   "codemirror_mode": {
    "name": "ipython",
    "version": 2
   },
   "file_extension": ".py",
   "mimetype": "text/x-python",
   "name": "python",
   "nbconvert_exporter": "python",
   "pygments_lexer": "ipython2",
   "version": "2.7.6"
  }
 },
 "nbformat": 4,
 "nbformat_minor": 5
}
