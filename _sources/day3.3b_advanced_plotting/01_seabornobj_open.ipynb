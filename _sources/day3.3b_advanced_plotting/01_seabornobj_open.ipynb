{
 "cells": [
  {
   "cell_type": "code",
   "execution_count": null,
   "metadata": {},
   "outputs": [],
   "source": [
    "import warnings\n",
    "warnings.simplefilter(action='ignore', category=FutureWarning) ## suppress annoying deprecation warnings\n",
    "\n",
    "from datetime import datetime\n",
    "\n",
    "import pandas as pd\n",
    "import seaborn.objects as so\n",
    "from matplotlib import style\n",
    "\n",
    "import plotly.express as px"
   ]
  },
  {
   "cell_type": "markdown",
   "metadata": {},
   "source": [
    "# Part 1: Time series and other simple plots"
   ]
  },
  {
   "cell_type": "code",
   "execution_count": null,
   "metadata": {},
   "outputs": [],
   "source": [
    "# Renaming columns for better axis labels in plots\n",
    "col_rename = {\n",
    "\t'tavg': 'Temp_Avg_°C',\n",
    "\t'tmax': 'Temp_Max_°C',\n",
    "\t'tmin': 'Temp_Min_°C',\n",
    "\t'rhum': 'Rel_Humidity_%',\n",
    "\t'coco': 'Condition',\n",
    "\t'wspd': 'Wind_Speed_kmh',\n",
    "\t'prcp': 'Precipation_mm',\n",
    "\t'wdir': 'Wind_Direction_°',\n",
    "\t'pres': 'Air_pressure_hPa',\n",
    "\t'dwpt': 'Dew_point_°C'\n",
    "}"
   ]
  },
  {
   "cell_type": "code",
   "execution_count": null,
   "metadata": {},
   "outputs": [],
   "source": [
    "weather_df = pd.read_csv('global_weather.csv', parse_dates=['time'], dtype={'wmo':str, 'station':str}) \n",
    "weather_df = weather_df.dropna()\n",
    "\n",
    "weather_df.rename(columns=col_rename, inplace=True)\n",
    "weather_df = weather_df.assign(Continent = weather_df[\"timezone\"].str.split('/').str[0])  ## Get continent from timezone column\n",
    "\n",
    "weather_df.loc[weather_df[\"name\"] == \"Berlin / Tempelhof\",:].head()  ## Let's have a look at a single city (capital)"
   ]
  },
  {
   "cell_type": "markdown",
   "metadata": {},
   "source": [
    "## My first seaborn.objects plot"
   ]
  },
  {
   "cell_type": "code",
   "execution_count": null,
   "metadata": {},
   "outputs": [],
   "source": [
    "so.Plot.config.display[\"scaling\"] = 1.0 ## Adjust standard output size to your liking \n",
    "\n",
    "(\n",
    "    so.Plot(\n",
    "\t\tweather_df.loc[weather_df[\"name\"] == \"Berlin / Tempelhof\",:],   ## Data layer (required)\n",
    "\t\tx=\"time\", y=\"Temp_Avg_°C\")                          \t\t\t## Axis mapping layer (required)\n",
    "    .add(so.Dot())                                                  \t## Geometry layer (at least one required)\n",
    "\t.add(so.Line())                                                 \t# Connect with lines (optional geometry layer)\n",
    "\t.limit(y=(0, 40))                                               \t# Coordinate layer (optional: problem avoid free y-axis)\n",
    "    .label(title=\"Temperature curve for Berlin / Tempelhof\")            # Theme and label layers (optional)\n",
    ")"
   ]
  },
  {
   "cell_type": "markdown",
   "metadata": {},
   "source": [
    "## Plotting distributions\n",
    "### How is the temperature range over all cities?"
   ]
  },
  {
   "cell_type": "code",
   "execution_count": null,
   "metadata": {},
   "outputs": [],
   "source": [
    "miss_timepoint= weather_df.time == datetime(2024, 3, 6) ## Simulate a missing timepoint and see what happens in plots\n",
    "(\n",
    "\tso.Plot(weather_df[~miss_timepoint], x=\"time\", y=\"Temp_Avg_°C\")  ## Can you spot the missing time point?\n",
    "    .add(so.Band()) \t\t\t\t\t\t\t\t\t\t# Geometry: Min-Max Band\n",
    "\t.add(so.Line(), \t\t\t\t\t\t\t\t\t\t# Geometry: Line\n",
    "  \t#!#    so.Agg(func=??)    \t\t\t\t\t\t\t\t# Statistic: Mean\n",
    "\t)\n",
    "    .label(title=\"Average temperature for all cities\")\n",
    ")"
   ]
  },
  {
   "cell_type": "markdown",
   "metadata": {},
   "source": [
    "### What are so.Band and so.Agg doing in the backgorund?"
   ]
  },
  {
   "cell_type": "code",
   "execution_count": null,
   "metadata": {},
   "outputs": [],
   "source": [
    "weather_agg = pd.concat(\n",
    "\t[weather_df.loc[:,[\"time\",\"Temp_Avg_°C\"]].groupby([\"time\"]).min(), \t## so.Band - min-part\n",
    "\tweather_df.loc[:,[\"time\",\"Temp_Avg_°C\"]].groupby([\"time\"]).mean(), \t## so.Line, so.Agg\n",
    "\tweather_df.loc[:,[\"time\",\"Temp_Avg_°C\"]].groupby([\"time\"]).max(),\t## so.Band - max-part\n",
    "\tweather_df.loc[:,[\"time\",\"Temp_Avg_°C\"]].groupby([\"time\"]).count()\t## Let's check how many cities are aggregated\n",
    "\t], \n",
    "\taxis=1\n",
    ")\n",
    "weather_agg.columns = [\"temp_min\",\"temp_avg\", \"temp_max\",\"nb_cities\"]\n",
    "\n",
    "weather_agg.head(n=10)"
   ]
  },
  {
   "cell_type": "markdown",
   "metadata": {},
   "source": [
    "### Another visualization (date is categorical, show data range not as min-max but as errorbar)\n",
    "Which visualization is better to see missing timepoint?"
   ]
  },
  {
   "cell_type": "code",
   "execution_count": null,
   "metadata": {},
   "outputs": [],
   "source": [
    "(\n",
    "so.Plot(weather_df[~miss_timepoint], x=\"time\", y=\"Temp_Avg_°C\")\t## Can you spot the missing time point?\n",
    "\t.add(so.Dot(), so.Agg()) \t\t\t\t\t\t\t\t\t# Geometry: Dot + Statistic: Mean\n",
    "\t#!# .add(so.???(), so.Est(errorbar=??)) \t\t\t\t\t# Geometry: Range + Statistic: Standard deviation\n",
    "\t.limit(y=(0, 40))\n",
    "\t.layout(size=(20, 6)) \t\t\t\t\t\t\t\t\t\t# Increase the figure size for a better view\n",
    "\t.scale(\n",
    "\t\tx=so.Temporal().tick(upto=21).label(concise=True) \t\t# Increase the tick size and adjust tick labels for legibility\n",
    "\t)\n",
    "\t.label(title=\"Average temperature for all cities\")\n",
    ")"
   ]
  },
  {
   "cell_type": "markdown",
   "metadata": {},
   "source": [
    "## The problem of Spaghetti Plots"
   ]
  },
  {
   "cell_type": "code",
   "execution_count": null,
   "metadata": {},
   "outputs": [],
   "source": [
    "(\n",
    "    #!# so.Plot(weather_df, x=\"time\", y=??, color=??)\n",
    "\t\t.add(so.Dot(), so.Agg())\n",
    "\t\t.add(so.Line(), so.Agg())\n",
    "\t\t.label(title=\"Average wind speed across continents\")\n",
    ")"
   ]
  },
  {
   "cell_type": "markdown",
   "metadata": {},
   "source": [
    "### Alternatives: (1) Highlighting"
   ]
  },
  {
   "cell_type": "code",
   "execution_count": null,
   "metadata": {},
   "outputs": [],
   "source": [
    "(\n",
    "    so.Plot(weather_df, x=\"time\", y=\"Wind_Speed_kmh\", color=\"Continent\")\n",
    "\t\t#!# .add(so.Dot(alpha=0.5), so.Agg(), marker=??)\t\t# set transparency by alpha \n",
    "\t\t.add(so.Line(alpha=0.5), so.Agg() )\n",
    "\t\t.scale(color=(\t\t\t\t\t\t\t# Control the color scale\n",
    "\t\t\t\"gray\",\t\t\t\t\t\t\t\t# Asia\n",
    "\t\t#!#\t???,\t\t\t\t\t\t\t\t# Highlight Europe\n",
    "\t\t\t\"gray\",\t\t\t\t\t\t\t\t# Africa\n",
    "\t\t\t\"gray\",\t\t\t\t\t\t\t\t# Pacific\n",
    "\t\t\t\"gray\",\t\t\t\t\t\t\t\t# America\n",
    "\t\t\t\"gray\",\t\t\t\t\t\t\t\t# Australia\n",
    "\t\t\t\"gray\",\t\t\t\t\t\t\t\t# Atlantic\n",
    "\t\t\t\"gray\"\t\t\t\t\t\t\t\t# Indian\n",
    "\t\t\t))\n",
    "\t\t.label(title=\"Average wind speed across continents\")\n",
    ")\n"
   ]
  },
  {
   "cell_type": "markdown",
   "metadata": {},
   "source": [
    "### Alternatives: (2) Facet"
   ]
  },
  {
   "cell_type": "code",
   "execution_count": null,
   "metadata": {},
   "outputs": [],
   "source": [
    "(\n",
    "    so.Plot(weather_df, x=\"time\", y=\"Wind_Speed_kmh\")\n",
    "\t\t.add(so.Dot(), so.Agg())\n",
    "\t\t.add(so.Line(), so.Agg())\n",
    "\t\t.add(so.Band())\n",
    "\t\t#!# .facet(??, wrap=4)\t\t\t# All you need for subplots\n",
    "\t\t.layout(size=(25, 8))\n",
    ")"
   ]
  },
  {
   "cell_type": "markdown",
   "metadata": {},
   "source": [
    "## Example: relationship of temperature, date and latitude (south - north)\n",
    "### How to not do it: spaghetti line plot"
   ]
  },
  {
   "cell_type": "code",
   "execution_count": null,
   "metadata": {},
   "outputs": [],
   "source": [
    "(\n",
    "#!#\tso.Plot(weather_df.loc[weather_df[\"Continent\"] == ???], x=\"time\", y=\"Temp_Avg_°C\", color=??)\n",
    "    .add(so.Dot())\n",
    "\t.add(so.Line())\n",
    "    .layout(size=(12, 6))\n",
    "    .label(title=\"Latitude effect on temperature\")\n",
    ")"
   ]
  },
  {
   "cell_type": "markdown",
   "metadata": {},
   "source": [
    "### Alternative: Dot array and flip latitude and temperature axis"
   ]
  },
  {
   "cell_type": "code",
   "execution_count": null,
   "metadata": {},
   "outputs": [],
   "source": [
    "(\n",
    "\tso.Plot(weather_df.loc[weather_df[\"Continent\"] == \"Asia\"], x=\"time\", y=\"latitude\", color=\"Temp_Avg_°C\")\n",
    "    #!# .add(so.??(alpha=0.5, pointsize=10, edgecolor=\"black\"))\n",
    "    .add(so.Dot(alpha=0.5, pointsize=10, edgecolor=\"black\"))\n",
    "\t.scale(\n",
    "\t#!# color = so.Continuous(??).tick(upto=10) # Important: choosing an intuitive colormap (https://seaborn.pydata.org/tutorial/color_palettes.html)\n",
    "        ) \n",
    "    .layout(size=(12, 6))\n",
    "    .label(title=\"Latitude effect on temperature - dot array\")\n",
    ")"
   ]
  },
  {
   "cell_type": "markdown",
   "metadata": {},
   "source": [
    "### Alternative: Heatmap-like (via Dash)"
   ]
  },
  {
   "cell_type": "code",
   "execution_count": null,
   "metadata": {},
   "outputs": [],
   "source": [
    "(\n",
    "    so.Plot(weather_df.loc[weather_df[\"Continent\"] == \"Asia\"], x=\"time\", y=\"latitude\", color=\"Temp_Avg_°C\")\n",
    "\t#!# .add(so.??(alpha=0.8, width=0.8,  linewidth=8))\n",
    "\t.scale(\n",
    "        color=so.Continuous(\"Spectral_r\").tick(upto=10)\n",
    "        )\n",
    "    .layout(size=(12, 6))\n",
    "#!#\t.theme({**style.library[??]}) # Increasing visibility on screens?\n",
    "    .label(title=\"Latitude effect on temperature - heatmap\")\n",
    ")"
   ]
  },
  {
   "cell_type": "markdown",
   "metadata": {},
   "source": [
    "### On all continents? no problem: facet"
   ]
  },
  {
   "cell_type": "code",
   "execution_count": null,
   "metadata": {},
   "outputs": [],
   "source": [
    "(\n",
    "    so.Plot(weather_df, x=\"time\", y=\"latitude\", color=\"Temp_Avg_°C\")\n",
    "    .add(so.Dash(alpha=0.8, width=0.8,  linewidth=4))\n",
    "\t.scale(\n",
    "        color=so.Continuous(\"Spectral_r\").tick(upto=10)\n",
    "        )\n",
    "\t#!# .facet(??, wrap=4).layout(size=(25, 8))\n",
    "\t.theme({**style.library[\"dark_background\"]}) \n",
    ")"
   ]
  },
  {
   "cell_type": "markdown",
   "metadata": {},
   "source": [
    "## Example: what to do if you want to plot 3-4 variables?\n",
    "### interactive 3D plot with plotly"
   ]
  },
  {
   "cell_type": "code",
   "execution_count": null,
   "metadata": {},
   "outputs": [],
   "source": [
    "\n",
    "fig = px.scatter_3d(weather_df, x=\"Dew_point_°C\", y=\"latitude\", z=\"Temp_Avg_°C\",\n",
    "                    #!# color=??, ##  for fourth dimension\n",
    "\t\t\t\t\topacity=0.7) \n",
    "fig.update_traces(marker_size = 2)  # Make dots smaller\n",
    "fig.update_layout(margin=dict(l=0, r=0, b=0, t=0)) # Reduce figure margins\n",
    "fig.show()"
   ]
  }
 ],
 "metadata": {
  "kernelspec": {
   "display_name": "datavizenv",
   "language": "python",
   "name": "python3"
  },
  "language_info": {
   "codemirror_mode": {
    "name": "ipython",
    "version": 3
   },
   "file_extension": ".py",
   "mimetype": "text/x-python",
   "name": "python",
   "nbconvert_exporter": "python",
   "pygments_lexer": "ipython3",
   "version": "3.9.19"
  }
 },
 "nbformat": 4,
 "nbformat_minor": 2
}
